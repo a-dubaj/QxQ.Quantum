{
  "cells": [
    {
      "cell_type": "markdown",
      "source": [
        "# **Lab #3: Quantum Key Distribution** <br>\n",
        "## **Microsoft Winter School, February 11th 2023**\n",
        "\n",
        "### **Summary**\n",
        "\n",
        "In today's lab, we are going to implement the Quantum Key Distribution protocol BB84 in Q#.\n",
        "\n",
        "<br>\n",
        "\n",
        "### **Learning Objectives**\n",
        "* See how to run the same code with the local simulator, execute on a simulator, and excecute on real quantum hardware.\n",
        "* See how BB84 can be implemented in code.\n",
        "* Become familiar with the roles that Alice, Bob, and Eve all play in this protocol."
      ],
      "metadata": {
        "id": "Q4qzkpo5Pa44"
      }
    },
    {
      "cell_type": "markdown",
      "source": [
        "## **Part #0: Imports**\n",
        "---"
      ],
      "metadata": {
        "nteract": {
          "transient": {
            "deleting": false
          }
        },
        "id": "C48Ud0XQPa5F"
      }
    },
    {
      "cell_type": "markdown",
      "source": [
        "**Run the code below to open the necessary namespaces.**"
      ],
      "metadata": {
        "nteract": {
          "transient": {
            "deleting": false
          }
        },
        "id": "JT2rrkmAPa5G"
      }
    },
    {
      "cell_type": "code",
      "source": [
        "from matplotlib import pyplot\n",
        "import numpy as np\n",
        "from random import choices\n",
        "import json\n",
        "\n",
        "import qsharp.azure\n",
        "import qsharp\n",
        "\n",
        "\n",
        "# Connect to available targets\n",
        "# If you type \"qsharp\", you will see a pop-up that allows you to insert this \"connect\" command automatically.\n",
        "targets = qsharp.azure.connect(\n",
        "    resourceId=\"/subscriptions/cdd4985b-2017-484b-bb09-a575bd40587a/resourceGroups/AzureQuantum/providers/Microsoft.Quantum/Workspaces/qxqwinterschoolAndrzejDubaj\",\n",
        "    location=\"westcentralus\")\n",
        "\n",
        "\n",
        "# Set the target to ionq.simulator\n",
        "qsharp.azure.target(\"ionq.simulator\")\n",
        "\n",
        "\n",
        "# Helper function to pick one result according to the distribution of all results\n",
        "def pickResult(results):\n",
        "\n",
        "    probs = list(results.values())\n",
        "    bits = choices(list(results.keys()), weights = probs)[0]\n",
        "\n",
        "    return json.loads(bits)"
      ],
      "outputs": [
        {
          "output_type": "stream",
          "name": "stdout",
          "text": "Preparing Q# environment...\n.."
        },
        {
          "output_type": "display_data",
          "data": {
            "text/plain": "Connecting to Azure Quantum...",
            "application/x-qsharp-data": "\"Connecting to Azure Quantum...\""
          },
          "metadata": {}
        },
        {
          "output_type": "stream",
          "name": "stdout",
          "text": "Authenticated using Microsoft.Azure.Quantum.Authentication.TokenFileCredential\n\n\nConnected to Azure Quantum workspace qxqwinterschoolAndrzejDubaj in location westcentralus.\nLoading package Microsoft.Quantum.Providers.IonQ and dependencies...\nActive target is now ionq.simulator\n"
        }
      ],
      "execution_count": 1,
      "metadata": {
        "jupyter": {
          "source_hidden": false,
          "outputs_hidden": false
        },
        "nteract": {
          "transient": {
            "deleting": false
          }
        },
        "microsoft": {},
        "id": "GIYJ1ahOlkwa"
      }
    },
    {
      "cell_type": "code",
      "source": [
        "%%qsharp\n",
        "\n",
        "open Microsoft.Quantum.Arrays;\n",
        "open Microsoft.Quantum.Measurement;\n",
        "open Microsoft.Quantum.Random;\n",
        "open Microsoft.Quantum.Convert;"
      ],
      "outputs": [],
      "execution_count": 2,
      "metadata": {
        "jupyter": {
          "source_hidden": false,
          "outputs_hidden": false
        },
        "nteract": {
          "transient": {
            "deleting": false
          }
        },
        "collapsed": true,
        "microsoft": {
          "language": "qsharp"
        },
        "id": "FrxdvYCrPa5G"
      }
    },
    {
      "cell_type": "markdown",
      "source": [
        "## **Part 1: Warm-up**\n",
        "---\n",
        "\n",
        "Let's start by doing a few exercises that will help us write the code for QKD and understand what is happening throughout."
      ],
      "metadata": {
        "nteract": {
          "transient": {
            "deleting": false
          }
        },
        "id": "A5d-xhw4lkwb"
      }
    },
    {
      "cell_type": "markdown",
      "source": [
        "### **Exercise #1** \n",
        "**Together**, let's:\n",
        "1. Prepare a qubit in the $| + \\rangle $ state. This simulates Alice encoding a bit from her key that is 0 into a qubit and randomly selecting to put it into superposition.\n",
        "2. Make a measurement. This simulates Bob measuring the qubit without taking it out of superposition. He incorrectly guessed what Alice did for this bit."
      ],
      "metadata": {
        "nteract": {
          "transient": {
            "deleting": false
          }
        },
        "id": "ZUd_nC7ZPa5X"
      }
    },
    {
      "cell_type": "markdown",
      "source": [
        "#### **1. Declare the operation in python.**\n",
        "\n",
        "Let's call it `ExerciseOne`."
      ],
      "metadata": {
        "nteract": {
          "transient": {
            "deleting": false
          }
        },
        "id": "g2fAq-uoZRbP"
      }
    },
    {
      "cell_type": "code",
      "source": [
        "ExerciseOne : any = None"
      ],
      "outputs": [],
      "execution_count": 3,
      "metadata": {
        "id": "gacVq0drc7M7"
      }
    },
    {
      "cell_type": "markdown",
      "source": [
        "#### **2. Create the operation in Q#.**"
      ],
      "metadata": {
        "nteract": {
          "transient": {
            "deleting": false
          }
        },
        "id": "psnViJCQZRbP"
      }
    },
    {
      "cell_type": "code",
      "source": [
        "%%qsharp\n",
        "\n",
        "operation ExerciseOne() : // COMPLETE THIS LINE\n",
        "\n",
        "    // Alice encodes a 0 into a qubit\n",
        "    use q = // COMPLETE THIS LINE\n",
        "\n",
        "    // Alice puts this qubit into superposition\n",
        "    // COMPLETE THIS LINE\n",
        "\n",
        "    // Bob receives the qubit and measures it without taking it out superposition\n",
        "    return M(q);\n",
        "}"
      ],
      "outputs": [],
      "execution_count": null,
      "metadata": {
        "id": "YCdusz_idAJT",
        "microsoft": {
          "language": "qsharp"
        }
      }
    },
    {
      "cell_type": "markdown",
      "source": [
        "#### **3. Simulate the operation in python and visualize.**\n",
        "\n",
        "**Run the code below to simulate this exercise and see the distribution of measurement results.**"
      ],
      "metadata": {
        "nteract": {
          "transient": {
            "deleting": false
          }
        },
        "id": "JmKaUPBeZRbP"
      }
    },
    {
      "cell_type": "code",
      "source": [
        "result = qsharp.azure.execute(ExerciseOne, shots=100, jobName=\"Exercise #1\", timeout=240)\n",
        "\n",
        "pyplot.bar(result.keys(), result.values())\n",
        "pyplot.title(\"Result\")\n",
        "pyplot.xlabel(\"Measurement\")\n",
        "pyplot.ylabel(\"Probability\")\n",
        "\n",
        "pyplot.show()"
      ],
      "outputs": [],
      "execution_count": null,
      "metadata": {
        "jupyter": {
          "source_hidden": false,
          "outputs_hidden": false
        },
        "nteract": {
          "transient": {
            "deleting": false
          }
        },
        "microsoft": {},
        "id": "twgAMa48lkwb"
      }
    },
    {
      "cell_type": "markdown",
      "source": [
        "### **Exercise #2** \n",
        "\n",
        "**Together**, let's:\n",
        "1. Prepare a qubit in the $| + \\rangle $ state. This simulates Alice encoding a bit from her key that is 0 into a qubit and randomly selecting to put it into superposition.\n",
        "2. Apply the H gate. This simulates Bob correctly guessing what Alice did for this qubit and taking it out of superposition.\n",
        "3. Make a measurement. This simulates Bob measuring the qubit to decode this bit of the key."
      ],
      "metadata": {
        "nteract": {
          "transient": {
            "deleting": false
          }
        },
        "id": "u4H1LnvJlkwc"
      }
    },
    {
      "cell_type": "markdown",
      "source": [
        "#### **1. Declare the operation in python.**\n",
        "\n",
        "Let's call it `ExerciseTwo`."
      ],
      "metadata": {
        "nteract": {
          "transient": {
            "deleting": false
          }
        },
        "id": "HhWNkBUJdbRK"
      }
    },
    {
      "cell_type": "code",
      "source": [
        "ExerciseTwo : any = None"
      ],
      "outputs": [],
      "execution_count": 5,
      "metadata": {
        "id": "HgBSqzNLdbRL"
      }
    },
    {
      "cell_type": "markdown",
      "source": [
        "#### **2. Create the operation in Q#.**"
      ],
      "metadata": {
        "nteract": {
          "transient": {
            "deleting": false
          }
        },
        "id": "dQlNGCmEdbRL"
      }
    },
    {
      "cell_type": "code",
      "source": [
        "%%qsharp\n",
        "\n",
        "operation ExerciseTwo() : Result {\n",
        "\n",
        "    // Alice encodes a 0 into a qubit\n",
        "    use q = Qubit();\n",
        "\n",
        "    // Alice puts this qubit into superposition\n",
        "    // COMPLETE THIS LINE\n",
        "\n",
        "    // Bob receives the qubit and takes it out of superposition\n",
        "    // COMPLETE THIS LINE\n",
        "\n",
        "    // Bob measures the qubit\n",
        "    return // COMPLETE THIS LINE\n",
        "}"
      ],
      "outputs": [],
      "execution_count": null,
      "metadata": {
        "id": "-kiVlQ0GdeGw",
        "microsoft": {
          "language": "qsharp"
        }
      }
    },
    {
      "cell_type": "markdown",
      "source": [
        "#### **3. Simulate the operation in python and visualize.**\n",
        "\n",
        "**Run the code below to simulate this exercise and see the distribution of measurement results.**"
      ],
      "metadata": {
        "nteract": {
          "transient": {
            "deleting": false
          }
        },
        "id": "RwZqn2W6duVA"
      }
    },
    {
      "cell_type": "code",
      "source": [
        "result = qsharp.azure.execute(ExerciseTwo, shots=100, jobName=\"Exercise #2\", timeout=240)\n",
        "\n",
        "pyplot.bar(result.keys(), result.values())\n",
        "pyplot.title(\"Result\")\n",
        "pyplot.xlabel(\"Measurement\")\n",
        "pyplot.ylabel(\"Probability\")\n",
        "\n",
        "pyplot.show()"
      ],
      "outputs": [
        {
          "output_type": "error",
          "ename": "AttributeError",
          "evalue": "'NoneType' object has no attribute '_name'",
          "traceback": [
            "\u001b[0;31m---------------------------------------------------------------------------\u001b[0m",
            "\u001b[0;31mAttributeError\u001b[0m                            Traceback (most recent call last)",
            "Cell \u001b[0;32mIn[6], line 1\u001b[0m\n\u001b[0;32m----> 1\u001b[0m result \u001b[38;5;241m=\u001b[39m \u001b[43mqsharp\u001b[49m\u001b[38;5;241;43m.\u001b[39;49m\u001b[43mazure\u001b[49m\u001b[38;5;241;43m.\u001b[39;49m\u001b[43mexecute\u001b[49m\u001b[43m(\u001b[49m\u001b[43mExerciseTwo\u001b[49m\u001b[43m,\u001b[49m\u001b[43m \u001b[49m\u001b[43mshots\u001b[49m\u001b[38;5;241;43m=\u001b[39;49m\u001b[38;5;241;43m100\u001b[39;49m\u001b[43m,\u001b[49m\u001b[43m \u001b[49m\u001b[43mjobName\u001b[49m\u001b[38;5;241;43m=\u001b[39;49m\u001b[38;5;124;43m\"\u001b[39;49m\u001b[38;5;124;43mExercise #2\u001b[39;49m\u001b[38;5;124;43m\"\u001b[39;49m\u001b[43m,\u001b[49m\u001b[43m \u001b[49m\u001b[43mtimeout\u001b[49m\u001b[38;5;241;43m=\u001b[39;49m\u001b[38;5;241;43m240\u001b[39;49m\u001b[43m)\u001b[49m\n\u001b[1;32m      3\u001b[0m pyplot\u001b[38;5;241m.\u001b[39mbar(result\u001b[38;5;241m.\u001b[39mkeys(), result\u001b[38;5;241m.\u001b[39mvalues())\n\u001b[1;32m      4\u001b[0m pyplot\u001b[38;5;241m.\u001b[39mtitle(\u001b[38;5;124m\"\u001b[39m\u001b[38;5;124mResult\u001b[39m\u001b[38;5;124m\"\u001b[39m)\n",
            "File \u001b[0;32m/usr/local/lib/python3.9/site-packages/qsharp/azure.py:160\u001b[0m, in \u001b[0;36mexecute\u001b[0;34m(op, **params)\u001b[0m\n\u001b[1;32m    152\u001b[0m \u001b[38;5;28;01mdef\u001b[39;00m \u001b[38;5;21mexecute\u001b[39m(op : qsharp\u001b[38;5;241m.\u001b[39mQSharpCallable, \u001b[38;5;241m*\u001b[39m\u001b[38;5;241m*\u001b[39mparams) \u001b[38;5;241m-\u001b[39m\u001b[38;5;241m>\u001b[39m AzureResult:\n\u001b[1;32m    153\u001b[0m \u001b[38;5;250m    \u001b[39m\u001b[38;5;124;03m\"\"\"\u001b[39;00m\n\u001b[1;32m    154\u001b[0m \u001b[38;5;124;03m    Submits a job to an Azure Quantum workspace and waits for completion.\u001b[39;00m\n\u001b[1;32m    155\u001b[0m \u001b[38;5;124;03m    Returns a dictionary containing the results of the job. This dictionary will usually\u001b[39;00m\n\u001b[0;32m   (...)\u001b[0m\n\u001b[1;32m    158\u001b[0m \u001b[38;5;124;03m    See https://docs.microsoft.com/qsharp/api/iqsharp-magic/azure.execute for more details.\u001b[39;00m\n\u001b[1;32m    159\u001b[0m \u001b[38;5;124;03m    \"\"\"\u001b[39;00m\n\u001b[0;32m--> 160\u001b[0m     (result, content) \u001b[38;5;241m=\u001b[39m \u001b[43mqsharp\u001b[49m\u001b[38;5;241;43m.\u001b[39;49m\u001b[43mclient\u001b[49m\u001b[38;5;241;43m.\u001b[39;49m\u001b[43m_execute_callable_magic\u001b[49m\u001b[43m(\u001b[49m\u001b[38;5;124;43m\"\u001b[39;49m\u001b[38;5;124;43mazure.execute\u001b[39;49m\u001b[38;5;124;43m\"\u001b[39;49m\u001b[43m,\u001b[49m\u001b[43m \u001b[49m\u001b[43mop\u001b[49m\u001b[43m,\u001b[49m\u001b[43m \u001b[49m\u001b[43mraise_on_stderr\u001b[49m\u001b[38;5;241;43m=\u001b[39;49m\u001b[38;5;28;43;01mFalse\u001b[39;49;00m\u001b[43m,\u001b[49m\u001b[43m \u001b[49m\u001b[43mreturn_full_result\u001b[49m\u001b[38;5;241;43m=\u001b[39;49m\u001b[38;5;28;43;01mTrue\u001b[39;49;00m\u001b[43m,\u001b[49m\u001b[43m \u001b[49m\u001b[38;5;241;43m*\u001b[39;49m\u001b[38;5;241;43m*\u001b[39;49m\u001b[43mparams\u001b[49m\u001b[43m)\u001b[49m\n\u001b[1;32m    161\u001b[0m     \u001b[38;5;28;01mif\u001b[39;00m \u001b[38;5;124m\"\u001b[39m\u001b[38;5;124merror_code\u001b[39m\u001b[38;5;124m\"\u001b[39m \u001b[38;5;129;01min\u001b[39;00m result: \u001b[38;5;28;01mraise\u001b[39;00m AzureError(result)\n\u001b[1;32m    162\u001b[0m     \u001b[38;5;28;01mreturn\u001b[39;00m AzureResult(result, content[\u001b[38;5;124m'\u001b[39m\u001b[38;5;124mdata\u001b[39m\u001b[38;5;124m'\u001b[39m])\n",
            "File \u001b[0;32m/usr/local/lib/python3.9/site-packages/qsharp/clients/iqsharp.py:294\u001b[0m, in \u001b[0;36mIQSharpClient._execute_callable_magic\u001b[0;34m(self, magic, op, raise_on_stderr, _quiet_, **kwargs)\u001b[0m\n\u001b[1;32m    288\u001b[0m \u001b[38;5;28;01mdef\u001b[39;00m \u001b[38;5;21m_execute_callable_magic\u001b[39m(\u001b[38;5;28mself\u001b[39m, magic : \u001b[38;5;28mstr\u001b[39m, op,\n\u001b[1;32m    289\u001b[0m         raise_on_stderr : \u001b[38;5;28mbool\u001b[39m \u001b[38;5;241m=\u001b[39m \u001b[38;5;28;01mFalse\u001b[39;00m,\n\u001b[1;32m    290\u001b[0m         _quiet_ : \u001b[38;5;28mbool\u001b[39m \u001b[38;5;241m=\u001b[39m \u001b[38;5;28;01mFalse\u001b[39;00m,\n\u001b[1;32m    291\u001b[0m         \u001b[38;5;241m*\u001b[39m\u001b[38;5;241m*\u001b[39mkwargs\n\u001b[1;32m    292\u001b[0m ) \u001b[38;5;241m-\u001b[39m\u001b[38;5;241m>\u001b[39m Any:\n\u001b[1;32m    293\u001b[0m     \u001b[38;5;28;01mreturn\u001b[39;00m \u001b[38;5;28mself\u001b[39m\u001b[38;5;241m.\u001b[39m_execute_magic(\n\u001b[0;32m--> 294\u001b[0m         \u001b[38;5;124mf\u001b[39m\u001b[38;5;124m\"\u001b[39m\u001b[38;5;132;01m{\u001b[39;00mmagic\u001b[38;5;132;01m}\u001b[39;00m\u001b[38;5;124m \u001b[39m\u001b[38;5;132;01m{\u001b[39;00m\u001b[43mop\u001b[49m\u001b[38;5;241;43m.\u001b[39;49m\u001b[43m_name\u001b[49m\u001b[38;5;132;01m}\u001b[39;00m\u001b[38;5;124m\"\u001b[39m,\n\u001b[1;32m    295\u001b[0m         raise_on_stderr\u001b[38;5;241m=\u001b[39mraise_on_stderr,\n\u001b[1;32m    296\u001b[0m         _quiet_\u001b[38;5;241m=\u001b[39m_quiet_,\n\u001b[1;32m    297\u001b[0m         \u001b[38;5;241m*\u001b[39m\u001b[38;5;241m*\u001b[39mkwargs\n\u001b[1;32m    298\u001b[0m     )\n",
            "\u001b[0;31mAttributeError\u001b[0m: 'NoneType' object has no attribute '_name'"
          ]
        }
      ],
      "execution_count": 6,
      "metadata": {
        "jupyter": {
          "source_hidden": false,
          "outputs_hidden": false
        },
        "nteract": {
          "transient": {
            "deleting": false
          }
        },
        "microsoft": {},
        "id": "mVeDrZI9lkwc"
      }
    },
    {
      "cell_type": "markdown",
      "source": [
        "### **Exercise #3**\n",
        "\n",
        "**Independently**, \n",
        "1. Prepare a qubit in the $| 0 \\rangle$ state. This simulates Alice encoding a bit from her key that is 0 into a qubit and randomly selecting *not* to put it into superposition.\n",
        "2. Apply the H gate. This simulates Bob incorrectly guessing what Alice did for this qubit and accidentally putting it into superposition.\n",
        "3. Make a measurement. This simulates Bob measuring the qubit to decode this bit of the key."
      ],
      "metadata": {
        "nteract": {
          "transient": {
            "deleting": false
          }
        },
        "id": "23W3wftRlkwc"
      }
    },
    {
      "cell_type": "markdown",
      "source": [
        "#### **1. Declare the operation in python.**\n",
        "\n",
        "Let's call it `ExerciseThree`."
      ],
      "metadata": {
        "nteract": {
          "transient": {
            "deleting": false
          }
        },
        "id": "EDQPqmfGdyiW"
      }
    },
    {
      "cell_type": "code",
      "source": [
        "ExerciseThree : any = None"
      ],
      "outputs": [],
      "execution_count": null,
      "metadata": {
        "id": "pFpK5gX5dyiX"
      }
    },
    {
      "cell_type": "markdown",
      "source": [
        "#### **2. Create the operation in Q#.**"
      ],
      "metadata": {
        "nteract": {
          "transient": {
            "deleting": false
          }
        },
        "id": "uM0DiZiadyiX"
      }
    },
    {
      "cell_type": "code",
      "source": [
        "%%qsharp\n",
        "\n",
        "operation ExerciseThree() : Result {\n",
        "   \n",
        "    // Alice encodes a 0 into a qubit\n",
        "    use q = Qubit();\n",
        "\n",
        "    // Alice does not put this qubit into superposition\n",
        "    // COMPLETE THIS LINE\n",
        "\n",
        "    // Bob receives the qubit and incorrectly tries to take it out of superposition\n",
        "    // COMPLETE THIS LINE\n",
        "\n",
        "    // Bob measures the qubit\n",
        "    return M(q);\n",
        "    \n",
        "}"
      ],
      "outputs": [],
      "execution_count": null,
      "metadata": {
        "id": "X4JCD-TxdyiX",
        "microsoft": {
          "language": "qsharp"
        }
      }
    },
    {
      "cell_type": "markdown",
      "source": [
        "#### **3. Simulate the operation in python and visualize.**\n",
        "\n",
        "**Run the code below to simulate this exercise and see the distribution of measurement results.**"
      ],
      "metadata": {
        "nteract": {
          "transient": {
            "deleting": false
          }
        },
        "id": "g38Snldyd7Kv"
      }
    },
    {
      "cell_type": "code",
      "source": [
        "result = qsharp.azure.execute(ExerciseThree, shots=100, jobName=\"Exercise #3\", timeout=240)\n",
        "\n",
        "pyplot.bar(result.keys(), result.values())\n",
        "pyplot.title(\"Result\")\n",
        "pyplot.xlabel(\"Measurement\")\n",
        "pyplot.ylabel(\"Probability\")\n",
        "\n",
        "pyplot.show()"
      ],
      "outputs": [],
      "execution_count": null,
      "metadata": {
        "jupyter": {
          "source_hidden": false,
          "outputs_hidden": false
        },
        "nteract": {
          "transient": {
            "deleting": false
          }
        },
        "id": "cPzhd9kDlkwc"
      }
    },
    {
      "cell_type": "markdown",
      "source": [
        "### **Exercise #4** \n",
        "\n",
        "**Independently**, \n",
        "1. Prepare a qubit in the $| - \\rangle$ state. This simulates Alice encoding a bit from her key that is 1 into a qubit and randomly selecting to put it into superposition.\n",
        "2. Apply the H gate. This simulates Bob correctly guessing what Alice did for this qubit and taking it out of superposition.\n",
        "3. Make a measurement. This simulates Bob measuring the qubit to decode this bit of the key."
      ],
      "metadata": {
        "nteract": {
          "transient": {
            "deleting": false
          }
        },
        "id": "uYP6-FBAlkwd"
      }
    },
    {
      "cell_type": "markdown",
      "source": [
        "#### **1. Declare the operation in python.**\n",
        "\n",
        "Let's call it `ExerciseFour`."
      ],
      "metadata": {
        "nteract": {
          "transient": {
            "deleting": false
          }
        },
        "id": "usLrjJYhd_dT"
      }
    },
    {
      "cell_type": "code",
      "source": [
        "ExerciseFour : any = None"
      ],
      "outputs": [],
      "execution_count": null,
      "metadata": {
        "id": "I6h0-eJqd_dT"
      }
    },
    {
      "cell_type": "markdown",
      "source": [
        "#### **2. Create the operation in Q#.**"
      ],
      "metadata": {
        "nteract": {
          "transient": {
            "deleting": false
          }
        },
        "id": "rRBvjxHdd_dU"
      }
    },
    {
      "cell_type": "code",
      "source": [
        "%%qsharp\n",
        "\n",
        "operation ExerciseFour() : Result {\n",
        "   \n",
        "    // Alice encodes a 1 into a qubit\n",
        "    use q = Qubit();\n",
        "    // COMPLETE THIS LINE\n",
        "\n",
        "    // Alice does puts this qubit into superposition\n",
        "    H(q);\n",
        "\n",
        "    // Bob receives the qubit and correctly takes it out of superposition\n",
        "    H(q);\n",
        "\n",
        "    // Bob measures the qubit\n",
        "    return M(q);\n",
        "    \n",
        "}"
      ],
      "outputs": [],
      "execution_count": null,
      "metadata": {
        "id": "PqFHz0_8d_dU",
        "microsoft": {
          "language": "qsharp"
        }
      }
    },
    {
      "cell_type": "markdown",
      "source": [
        "#### **3. Simulate the operation in python and visualize.**\n",
        "\n",
        "**Run the code below to simulate this exercise and see the distribution of measurement results.**"
      ],
      "metadata": {
        "nteract": {
          "transient": {
            "deleting": false
          }
        },
        "id": "MRyVEyPid82Z"
      }
    },
    {
      "cell_type": "code",
      "source": [
        "result = qsharp.azure.execute(ExerciseFour, shots=100, jobName=\"Exercise #4\", timeout=240)\n",
        "\n",
        "pyplot.bar(result.keys(), result.values())\n",
        "pyplot.title(\"Result\")\n",
        "pyplot.xlabel(\"Measurement\")\n",
        "pyplot.ylabel(\"Probability\")\n",
        "\n",
        "pyplot.show()"
      ],
      "outputs": [],
      "execution_count": null,
      "metadata": {
        "jupyter": {
          "source_hidden": false,
          "outputs_hidden": false
        },
        "nteract": {
          "transient": {
            "deleting": false
          }
        },
        "id": "ScNnfc8Llkwd"
      }
    },
    {
      "cell_type": "markdown",
      "source": [
        "### **Exercise #5** \n",
        "\n",
        "**Together**, let's:\n",
        "1. Prepare an array of 5 qubits all in the $| 1 \\rangle$ state. This simulates Alice preparing and sending 5 qubits representing the key 11111 and randomly selecting to put no qubits into superposition.\n",
        "2. Measure all the qubits. This simulates Bob correctly guessing that none of the qubits were put into superposition and decoding them."
      ],
      "metadata": {
        "nteract": {
          "transient": {
            "deleting": false
          }
        },
        "id": "nvMRBH7Glkwd"
      }
    },
    {
      "cell_type": "markdown",
      "source": [
        "#### **1. Declare the operation in python.**\n",
        "\n",
        "Let's call it `ExerciseFive`."
      ],
      "metadata": {
        "nteract": {
          "transient": {
            "deleting": false
          }
        },
        "id": "S2gtH9e6eOgO"
      }
    },
    {
      "cell_type": "code",
      "source": [
        "ExerciseFive : any = None"
      ],
      "outputs": [],
      "execution_count": null,
      "metadata": {
        "id": "u2Ve7wR2eOgP"
      }
    },
    {
      "cell_type": "markdown",
      "source": [
        "#### **2. Create the operation in Q#.**"
      ],
      "metadata": {
        "nteract": {
          "transient": {
            "deleting": false
          }
        },
        "id": "ckI6aoHyeOgP"
      }
    },
    {
      "cell_type": "code",
      "source": [
        "%%qsharp\n",
        "\n",
        "operation ExerciseFive() : Result[] {\n",
        "   \n",
        "    // Alice encodes a 1 into 5 qubits\n",
        "    use qs = // COMPLETE THIS LINE\n",
        "    \n",
        "    for i in 0 .. Length(qs) - 1 {\n",
        "        // COMPLETE THIS LINE\n",
        "    }\n",
        "\n",
        "    // Bob receives the qubits and decodes them\n",
        "    return MultiM(qs);\n",
        "}"
      ],
      "outputs": [],
      "execution_count": null,
      "metadata": {
        "id": "6ZVyBHT5eOgP",
        "microsoft": {
          "language": "qsharp"
        }
      }
    },
    {
      "cell_type": "markdown",
      "source": [
        "#### **3. Simulate the operation in python and visualize.**\n",
        "\n",
        "**Run the code below to simulate this exercise and see the distribution of measurement results.**"
      ],
      "metadata": {
        "nteract": {
          "transient": {
            "deleting": false
          }
        },
        "id": "LCbvgNVLeIzq"
      }
    },
    {
      "cell_type": "code",
      "source": [
        "result = qsharp.azure.execute(ExerciseFive, shots=100, jobName=\"Exercise #5\", timeout=240)\n",
        "\n",
        "pyplot.bar(result.keys(), result.values())\n",
        "pyplot.title(\"Result\")\n",
        "pyplot.xlabel(\"Measurement\")\n",
        "pyplot.ylabel(\"Probability\")\n",
        "\n",
        "pyplot.show()"
      ],
      "outputs": [],
      "execution_count": null,
      "metadata": {
        "jupyter": {
          "source_hidden": false,
          "outputs_hidden": false
        },
        "nteract": {
          "transient": {
            "deleting": false
          }
        },
        "id": "uTPiWCRHlkwd"
      }
    },
    {
      "cell_type": "markdown",
      "source": [
        "### **Exercise #6** \n",
        "\n",
        "**Together**, let's:\n",
        "1. Prepare an array of `n` qubits all in the $| 0 \\rangle$ state where `n` is a parameter passed into the operation. This simulates Alice encoding the key 00...0 in qubits.\n",
        "2. For each qubit, if `aliceChoices` is `true` for that qubit then put it into superposition. Otherwise, leave it in the $| 0 \\rangle$ state. This simulates Alice randomly selecting some qubits to put into superposition before sending to Bob.\n",
        "3. Measure all the qubits. This simulates Bob guessing that none of the qubits were put into superposition and decoding them."
      ],
      "metadata": {
        "nteract": {
          "transient": {
            "deleting": false
          }
        },
        "id": "XKASUdcBlkwd"
      }
    },
    {
      "cell_type": "markdown",
      "source": [
        "#### **1. Declare the operation in python.**\n",
        "\n",
        "Let's call it `ExerciseSix`."
      ],
      "metadata": {
        "nteract": {
          "transient": {
            "deleting": false
          }
        },
        "id": "Qnv9FIdxejbm"
      }
    },
    {
      "cell_type": "code",
      "source": [
        "ExerciseSix: any = None"
      ],
      "outputs": [],
      "execution_count": null,
      "metadata": {
        "id": "teLBKotBejbm"
      }
    },
    {
      "cell_type": "markdown",
      "source": [
        "#### **2. Create the operation in Q#.**\n",
        "\n",
        "**NOTE**: We have provided you with the line `DrawMany(DrawRandomBool, n, 0.5)`, which creates an Array of `n` Bools that are randomly `True` 0.5 of the time and `False` the other 0.5 of the time."
      ],
      "metadata": {
        "nteract": {
          "transient": {
            "deleting": false
          }
        },
        "id": "xxtKkeFHejbm"
      }
    },
    {
      "cell_type": "code",
      "source": [
        "%%qsharp\n",
        "\n",
        "operation ExerciseSix(n : Int) : Result[] {\n",
        "   \n",
        "    // Alice encodes a 0 into n qubits\n",
        "    use qs = // COMPLETE THIS LINE\n",
        "\n",
        "    // Alice randomly selects which qubits to put into superposition\n",
        "    let aliceChoices = DrawMany(DrawRandomBool, n, 0.5);\n",
        "    for i in 0 .. Length(aliceChoices) - 1{\n",
        "\n",
        "        if aliceChoices[i] {\n",
        "            // COMPLETE THIS LINE\n",
        "        }\n",
        "    }\n",
        "\n",
        "    // Bob receives the qubits and decodes them\n",
        "    return // COMPLETE THIS LINE\n",
        "}"
      ],
      "outputs": [],
      "execution_count": null,
      "metadata": {
        "id": "lK_7Vz5Uejbm",
        "microsoft": {
          "language": "qsharp"
        }
      }
    },
    {
      "cell_type": "markdown",
      "source": [
        "#### **3. Simulate the operation in python and visualize.**\n",
        "\n",
        "**Run the code below to simulate this exercise and see the distribution of measurement results.**"
      ],
      "metadata": {
        "nteract": {
          "transient": {
            "deleting": false
          }
        },
        "id": "kHtEDdiSeKN9"
      }
    },
    {
      "cell_type": "code",
      "source": [
        "result = qsharp.azure.execute(ExerciseSix, n = 5, shots=100, jobName=\"Exercise #6\", timeout=240)\n",
        "\n",
        "pyplot.bar(result.keys(), result.values())\n",
        "pyplot.title(\"Result\")\n",
        "pyplot.xlabel(\"Measurement\")\n",
        "pyplot.ylabel(\"Probability\")\n",
        "pyplot.xticks(rotation = 90)\n",
        "\n",
        "pyplot.show()"
      ],
      "outputs": [],
      "execution_count": null,
      "metadata": {
        "jupyter": {
          "source_hidden": false,
          "outputs_hidden": false
        },
        "nteract": {
          "transient": {
            "deleting": false
          }
        },
        "id": "zwBZGxqulkwd"
      }
    },
    {
      "cell_type": "markdown",
      "source": [
        "### **Exercise #7** \n",
        "\n",
        "**Run the code below to connect to hardware and run this operation on it.**"
      ],
      "metadata": {
        "nteract": {
          "transient": {
            "deleting": false
          }
        },
        "id": "FhAn2i8ZCtJ_"
      }
    },
    {
      "cell_type": "code",
      "source": [
        "qsharp.azure.target(\"ionq.qpu\")\n",
        "result = qsharp.azure.execute(ExerciseSix, n = 5, shots=100, jobName=\"Exercise #7\", timeout=1000)\n",
        "\n",
        "pyplot.bar(result.keys(), result.values())\n",
        "pyplot.title(\"Result\")\n",
        "pyplot.xlabel(\"Measurement\")\n",
        "pyplot.ylabel(\"Probability\")\n",
        "pyplot.xticks(rotation = 90)\n",
        "\n",
        "pyplot.show()"
      ],
      "outputs": [],
      "execution_count": null,
      "metadata": {
        "id": "FUYU5YVFC1Gb"
      }
    },
    {
      "cell_type": "markdown",
      "source": [
        "### **Summary**\n",
        "We now know a few things: \n",
        "\n",
        "1. If Alice needs to encode a `0` into a qubit, she simply needs to use the command `use q = Qubit();` since qubits automatically start in the $| 0 \\rangle $ state.\n",
        "\n",
        "1. If Alice needs to encode a `1` into a qubit, she needs to apply an `X` gate to the qubit since:\n",
        "$$ X|0\\rangle = | 1 \\rangle$$\n",
        "\n",
        "1. If Alice randomly chooses to prepare a qubit in a superposition state, she can use the Hadamard gate since:\n",
        "$$ H|0\\rangle = | + \\rangle $$\n",
        "$$ H|1\\rangle = | - \\rangle $$\n",
        "\n",
        "1. If Bob randomly chooses to try taking a qubit out of superposition, he can also use the Hadamard gate since:\n",
        "$$ H|+\\rangle = | 0 \\rangle $$\n",
        "$$ H|-\\rangle = | 1 \\rangle $$\n",
        "\n",
        "1. Alice will encode her key by using a qubit for each bit of the key and applying an X gate if that bit is 1. She will then randomly choose some qubits to put into superposition and \"send\" them to Bob. Bob will then randomly choose some qubits to, hopefully, take out of superposition. He will then measure the qubits to decode them into bits that now represent his key.\n",
        "\n",
        "<br><br>\n",
        "\n",
        "**Technical Note:** When we apply an H gate right before measuring, we can actually say that we are \"measuring in a different basis\"- the Hadamard basis. It turns out that applying an H gate is the same as if we just rotated our view of the Bloch sphere so the x-axis were pointing up and down. For this reason, we also call this the X Basis. You are not responsible for knowing this, but it is worth being aware of since a lot of the discussion about QKD involves bases.\n",
        "\n",
        "The most important thing for you to know is that when someone says that Alice or Bob measures a certain qubit:\n",
        "* \"in the Z basis\", this is exactly the same as saying Alice or Bob chooses to not put this qubit in superposition.\n",
        "* \"in the X basis\", this is exactly the same as saying Alice or Bob chooses to put this qubit in superposition."
      ],
      "metadata": {
        "nteract": {
          "transient": {
            "deleting": false
          }
        },
        "id": "B8N-H7iSlkwe"
      }
    },
    {
      "cell_type": "markdown",
      "source": [
        "## **Part #2: Quantum Key Distribution (BB84)**\n",
        "---\n",
        "\n",
        "Now let's implement QKD. Specifically, we will write code that simulates the BB84 protocol between Alice and Bob such that:\n",
        "\n",
        "* The initial key Alice wants to share with Bob is 5 bits long and is represented by the array returned by the operation `AliceBits()`.\n",
        "\n",
        "* We represent Alice's choices about whether to put each qubit into superposition or not using an array returned by the operation `AliceChoices()`, where `AliceChoices()[i] = false` if she chooses not to put qubit `i` into superposition and `AliceChoices()[i] = true` if she does choose to put qubit `i` into superposition.\n",
        "\n",
        "* We represent Bob's choices and key in a similar way: `BobChoices()[i] = false` or `BobChoices()[i] = true` and `BobBits()`."
      ],
      "metadata": {
        "nteract": {
          "transient": {
            "deleting": false
          }
        },
        "id": "GetBXQSFlkwe"
      }
    },
    {
      "cell_type": "markdown",
      "source": [
        "### **Phases #1 - 2: Alice Sends the Key and Bob Receives It.**\n",
        "\n",
        "We will be defining multiple operations here, but still using our 3 step process."
      ],
      "metadata": {
        "nteract": {
          "transient": {
            "deleting": false
          }
        },
        "id": "eMQyux5Clkwe"
      }
    },
    {
      "cell_type": "markdown",
      "source": [
        "#### **1. Declare the operations in python.**"
      ],
      "metadata": {
        "nteract": {
          "transient": {
            "deleting": false
          }
        },
        "id": "GtY1TLTdlYOE"
      }
    },
    {
      "cell_type": "code",
      "source": [
        "GetAliceBits : any = None\n",
        "GetAliceChoices : any = None\n",
        "GetBobChoices : any = None\n",
        "SendAliceBob : any = None"
      ],
      "outputs": [],
      "execution_count": null,
      "metadata": {
        "id": "1vPxUs9vlkQy"
      }
    },
    {
      "cell_type": "markdown",
      "source": [
        "#### **2. Create the operations in Q#.**\n"
      ],
      "metadata": {
        "nteract": {
          "transient": {
            "deleting": false
          }
        },
        "id": "0xnCR9oXleQR"
      }
    },
    {
      "cell_type": "code",
      "source": [
        "%%qsharp\n",
        "\n",
        "operation GetAliceBits(keyLength: Int) : Int[] {\n",
        "\n",
        "    return DrawMany(DrawRandomInt, keyLength, (0, 1));\n",
        "}\n",
        "\n",
        "\n",
        "operation GetAliceChoices(keyLength: Int) : Bool[] {\n",
        "\n",
        "    return DrawMany(DrawRandomBool, keyLength, 0.5);\n",
        "}\n",
        "\n",
        "\n",
        "operation GetBobChoices(keyLength: Int) : Bool[] {\n",
        "\n",
        "    return DrawMany(DrawRandomBool, keyLength, 0.5);\n",
        "}\n",
        "\n",
        "\n",
        "operation SendAliceBob(aliceBits : Int[], aliceChoices : Bool[], bobChoices : Bool[]) : Result[] {\n",
        "    \n",
        "    //Qubits initialized\n",
        "    let keyLength = // COMPLETE THIS LINE\n",
        "    use qs =  // COMPLETE THIS LINE\n",
        "\n",
        "    // Alice encodes her key\n",
        "    //========================\n",
        "    for i in 0 .. Length(aliceBits) - 1{\n",
        "\n",
        "        // Encode a 1 into the |1> state\n",
        "        // COMPLETE THIS CODE\n",
        "\n",
        "        // Put Alice's random choice of qubits into superposition\n",
        "        // COMPLETE THIS CODE\n",
        "    }\n",
        "\n",
        "    // Bob receives the key and\n",
        "    // acts according to his choices of superpositions\n",
        "    //=================================================\n",
        "    for i in 0 .. Length(qs) - 1 {\n",
        "\n",
        "        if bobChoices[i] {\n",
        "            // COMPLETE THIS LINE\n",
        "        }\n",
        "    }\n",
        "\n",
        "    // Bob measures the qubits\n",
        "    // to decode the key\n",
        "    //========================\n",
        "    return // COMPLETE THIS LINE\n",
        "}"
      ],
      "outputs": [],
      "execution_count": null,
      "metadata": {
        "id": "UYa8vsSclHDq",
        "microsoft": {
          "language": "qsharp"
        }
      }
    },
    {
      "cell_type": "markdown",
      "source": [
        "#### **3. Simulate the operation in python and visualize.**\n",
        "\n",
        "**Run the code below to simulate this exercise and see the distribution of measurement results.**"
      ],
      "metadata": {
        "nteract": {
          "transient": {
            "deleting": false
          }
        },
        "id": "AqxV7Oz2lgud"
      }
    },
    {
      "cell_type": "code",
      "source": [
        "keyLength = 5\n",
        "\n",
        "# STEPS #1 - 2\n",
        "aliceBits = GetAliceBits.simulate(keyLength = keyLength)\n",
        "aliceChoices = GetAliceChoices(keyLength = keyLength)\n",
        "\n",
        "print(\"Alice's bits: \" + str(aliceBits))\n",
        "print(\"Alice's choices: \" + str(aliceChoices))\n",
        "print(\"\\n\")\n",
        "\n",
        "\n",
        "# STEPS #3 - 5\n",
        "bobChoices = GetBobChoices.simulate(keyLength = keyLength)\n",
        "bobBits = SendAliceBob.simulate(aliceBits = aliceBits, aliceChoices = aliceChoices, bobChoices = bobChoices)\n",
        "\n",
        "\n",
        "print(\"Bob's choices: \" + str(bobChoices))\n",
        "print(\"Bob's bits: \" + str(bobBits))\n",
        "print(\"\\n\")"
      ],
      "outputs": [],
      "execution_count": null,
      "metadata": {
        "jupyter": {
          "source_hidden": false,
          "outputs_hidden": false
        },
        "nteract": {
          "transient": {
            "deleting": false
          }
        },
        "id": "pfWmW8zkZjSW"
      }
    },
    {
      "cell_type": "markdown",
      "source": [
        "### **Phase #3: Alice \"calls\" Bob and they compare their choices for superposition bits to determine their new key.**"
      ],
      "metadata": {
        "nteract": {
          "transient": {
            "deleting": false
          }
        },
        "id": "2ACAW9TIlkwf"
      }
    },
    {
      "cell_type": "markdown",
      "source": [
        "#### **Step #6: Alice and Bob compare notes and create their keys**\n",
        "\n",
        "**Together**, let's write an operation that compares Alice's and Bob's choices for superposition bits and creates a key based on this."
      ],
      "metadata": {
        "nteract": {
          "transient": {
            "deleting": false
          }
        },
        "id": "gn8AGTBKlkwf"
      }
    },
    {
      "cell_type": "markdown",
      "source": [
        "##### **1. Declare the operation in python.**\n",
        "\n",
        "Let's call it `GenerateKey`."
      ],
      "metadata": {
        "nteract": {
          "transient": {
            "deleting": false
          }
        },
        "id": "R9POFgeCpUYl"
      }
    },
    {
      "cell_type": "code",
      "source": [
        "GenerateKey : any = None"
      ],
      "outputs": [],
      "execution_count": null,
      "metadata": {
        "jupyter": {
          "source_hidden": false,
          "outputs_hidden": false
        },
        "nteract": {
          "transient": {
            "deleting": false
          }
        },
        "id": "vIm13xQ5pUYl"
      }
    },
    {
      "cell_type": "markdown",
      "source": [
        "##### **2. Create the operation in Q#.**"
      ],
      "metadata": {
        "nteract": {
          "transient": {
            "deleting": false
          }
        },
        "id": "oSHwfFnspUYl"
      }
    },
    {
      "cell_type": "code",
      "source": [
        "%%qsharp\n",
        "\n",
        "operation GenerateKey(bits : Int[], aliceChoices : Bool[], bobChoices : Bool[]) : Int[] {\n",
        "\n",
        "    // Count how many choices they agreed for\n",
        "    mutable count = 0;\n",
        "    for i in 0 .. Length(aliceChoices) - 1 {\n",
        "\n",
        "        if aliceChoices[i] == bobChoices[i] {\n",
        "            set count // COMPLETE THIS LINE\n",
        "        }\n",
        "    }\n",
        "\n",
        "    // Create the key\n",
        "    mutable key = [0, size =  // COMPLETE THIS LINE\n",
        "    mutable keyID = 0;\n",
        "    for i in 0 .. Length(aliceChoices) - 1 {\n",
        "\n",
        "        if  // COMPLETE THIS LINE\n",
        "            set key w/= keyID <- bits[i];\n",
        "            set keyID += 1;\n",
        "        }\n",
        "    }\n",
        "    \n",
        "    return  // COMPLETE THIS LINE\n",
        "}"
      ],
      "outputs": [],
      "execution_count": null,
      "metadata": {
        "jupyter": {
          "source_hidden": false,
          "outputs_hidden": false
        },
        "nteract": {
          "transient": {
            "deleting": false
          }
        },
        "microsoft": {
          "language": "qsharp"
        },
        "id": "3Go_6WSBpUYl"
      }
    },
    {
      "cell_type": "markdown",
      "source": [
        "#### **Step #7: Checking the shared key**\n",
        "\n",
        "Now that Alice and Bob have discarded the bits where their choices were not the same, the remaining bits form a shared key. To verify that the Eve did not intercept and the protocol is secure, they share a chosen sample of their key and ensure that it matches. \n",
        "\n",
        "1. If they find that the shared sample from both Alice and Bob has matched, they discard these bits and use the rest of the shared key. \n",
        "\n",
        "2. If they find out that the shared sample does not match, they know that Eve has intercepted! They would need to start the process all over again.\n",
        "\n",
        "<br>\n",
        "\n",
        "**Together**, let's implement this as follows:\n",
        "* Alice and Bob compare the first half of the key.\n",
        "* If these bits are all the same, then return `true`.\n",
        "* If any of these bits are different, then return `false`."
      ],
      "metadata": {
        "nteract": {
          "transient": {
            "deleting": false
          }
        },
        "id": "0mRQNTNJlkwf"
      }
    },
    {
      "cell_type": "markdown",
      "source": [
        "##### **1. Declare the operation in python.**\n",
        "\n",
        "Let's call it `IsSecureKey`."
      ],
      "metadata": {
        "nteract": {
          "transient": {
            "deleting": false
          }
        },
        "id": "z5_Wnz16pUYp"
      }
    },
    {
      "cell_type": "code",
      "source": [
        "IsSecureKey : any = None"
      ],
      "outputs": [],
      "execution_count": null,
      "metadata": {
        "jupyter": {
          "source_hidden": false,
          "outputs_hidden": false
        },
        "nteract": {
          "transient": {
            "deleting": false
          }
        },
        "id": "iidep2uVpUYr"
      }
    },
    {
      "cell_type": "markdown",
      "source": [
        "##### **2. Create the operation in Q#.**"
      ],
      "metadata": {
        "nteract": {
          "transient": {
            "deleting": false
          }
        },
        "id": "-XYAQxQIpUYr"
      }
    },
    {
      "cell_type": "code",
      "source": [
        "%%qsharp\n",
        "\n",
        "operation IsSecureKey(aliceKey : Int[], bobKey : Int[]) : Bool {\n",
        "\n",
        "    for i in 0 .. Length(aliceKey) / 2 {\n",
        "\n",
        "        // COMPLETE THIS CODE\n",
        "    }\n",
        "\n",
        "    return true;\n",
        "}"
      ],
      "outputs": [],
      "execution_count": null,
      "metadata": {
        "jupyter": {
          "source_hidden": false,
          "outputs_hidden": false
        },
        "nteract": {
          "transient": {
            "deleting": false
          }
        },
        "microsoft": {
          "language": "qsharp"
        },
        "id": "nESAeXiKpUYs"
      }
    },
    {
      "cell_type": "markdown",
      "source": [
        "### **Running the Full Protocol**\n",
        "\n",
        "In the space below, we combine all these components to run the protocol in full for Alice and Bob."
      ],
      "metadata": {
        "nteract": {
          "transient": {
            "deleting": false
          }
        },
        "id": "RrULa3k6ZjSX"
      }
    },
    {
      "cell_type": "code",
      "source": [
        "keyLength = 10\n",
        "\n",
        "# STEPS #1 - 2\n",
        "aliceBits = GetAliceBits.simulate(keyLength = keyLength)\n",
        "aliceChoices = GetAliceChoices(keyLength = keyLength)\n",
        "\n",
        "print(\"Alice's bits: \" + str(aliceBits))\n",
        "print(\"Alice's choices: \" + str(aliceChoices))\n",
        "print(\"\\n\")\n",
        "\n",
        "\n",
        "# STEPS #3 - 5\n",
        "bobChoices = GetBobChoices.simulate(keyLength = keyLength)\n",
        "bobBits = SendAliceBob.simulate(aliceBits = aliceBits, aliceChoices = aliceChoices, bobChoices = bobChoices)\n",
        "\n",
        "print(\"Bob's choices: \" + str(bobChoices))\n",
        "print(\"Bob's bits: \" + str(bobBits))\n",
        "print(\"\\n\")\n",
        "\n",
        "\n",
        "# STEP #6\n",
        "aliceKey = GenerateKey.simulate(bits = aliceBits, aliceChoices = aliceChoices, bobChoices = bobChoices)\n",
        "bobKey = GenerateKey.simulate(bits = bobBits, aliceChoices = aliceChoices, bobChoices = bobChoices)\n",
        "\n",
        "print(\"Alice's key: \" + str(aliceKey))\n",
        "print(\"Bob's key: \" + str(bobKey))\n",
        "print(\"\\n\")\n",
        "\n",
        "\n",
        "# STEP #7\n",
        "if IsSecureKey.simulate(aliceKey = aliceKey, bobKey = bobKey):\n",
        "\n",
        "    aliceKey = aliceKey[len(aliceKey) // 2: ]\n",
        "    bobKey = bobKey[len(bobKey) // 2: ]\n",
        "\n",
        "    print(\"Key seems secure! They will now use: \")\n",
        "    print(\"Alice's key: \" + str(aliceKey))\n",
        "    print(\"Bob's key: \" + str(bobKey))\n",
        "\n",
        "else:\n",
        "    print(\"Alice and Bob have detected Eve's interception!\")"
      ],
      "outputs": [],
      "execution_count": null,
      "metadata": {
        "jupyter": {
          "source_hidden": false,
          "outputs_hidden": false
        },
        "nteract": {
          "transient": {
            "deleting": false
          }
        },
        "id": "hsuQujU3pUYt"
      }
    },
    {
      "cell_type": "markdown",
      "source": [
        "---\n",
        "\n",
        "<center>\n",
        "\n",
        "### **Congratulations! You have just implemented the Full BB84 protocol between Alice and Bob in Q#.**\n",
        "\n",
        "</center>\n",
        "\n",
        "---"
      ],
      "metadata": {
        "nteract": {
          "transient": {
            "deleting": false
          }
        },
        "id": "NTZydyoTpUYu"
      }
    },
    {
      "cell_type": "markdown",
      "source": [
        "### **Running on Real Hardware**\n",
        "\n",
        "\n",
        "Now, let's run this on real hardware. Specifically, we will:\n",
        "1. Connect to IonQ's trapped ion computer: `\"ionq.qpu\"`.\n",
        "1. Submit the `SendAliceBob` operation for execution.\n",
        "1. Check the status of this job.\n",
        "1. Use the results when the results are ready and complete the protocol.\n",
        "1. Before continuing, reconnect to the simulator instead of hardware."
      ],
      "metadata": {
        "nteract": {
          "transient": {
            "deleting": false
          }
        },
        "id": "slMCQJzPpUYu"
      }
    },
    {
      "cell_type": "markdown",
      "source": [
        "#### **1. Connect to IonQ's trapped ion computer: \"ionq.qpu\".**"
      ],
      "metadata": {
        "id": "2w28AQZmh2wH"
      }
    },
    {
      "cell_type": "code",
      "source": [
        "qsharp.azure.target(\"ionq.qpu\")"
      ],
      "outputs": [],
      "execution_count": null,
      "metadata": {
        "id": "peVqYilrhUwU"
      }
    },
    {
      "cell_type": "markdown",
      "source": [
        "#### **2. Submit the SendAliceBob operation for execution.**"
      ],
      "metadata": {
        "id": "W6syTw7FiI79"
      }
    },
    {
      "cell_type": "code",
      "source": [
        "keyLength = 10\n",
        "\n",
        "# STEPS #1 - 2\n",
        "aliceBits = GetAliceBits.simulate(keyLength = keyLength)\n",
        "aliceChoices = GetAliceChoices(keyLength = keyLength)\n",
        "\n",
        "print(\"Alice's bits: \" + str(aliceBits))\n",
        "print(\"Alice's choices: \" + str(aliceChoices))\n",
        "print(\"\\n\")\n",
        "\n",
        "\n",
        "# STEPS #3 - 5\n",
        "bobChoices = GetBobChoices.simulate(keyLength = keyLength)\n",
        "qsharp.azure.execute(SendAliceBob, aliceBits = aliceBits, aliceChoices = aliceChoices, bobChoices = bobChoices, shots = 10, jobName = \"SendAliceBob\", timeout = 1000)"
      ],
      "outputs": [],
      "execution_count": null,
      "metadata": {
        "jupyter": {
          "source_hidden": false,
          "outputs_hidden": false
        },
        "nteract": {
          "transient": {
            "deleting": false
          }
        },
        "id": "BJSM4e8gpUYv"
      }
    },
    {
      "cell_type": "markdown",
      "source": [
        "#### **3. Check the status of this job.**"
      ],
      "metadata": {
        "id": "Kt_taJ75iMdU"
      }
    },
    {
      "cell_type": "code",
      "source": [
        "qsharp.azure.status('# To check on the status of your job, copy and paste the \"Job ID\" that was printed above."
      ],
      "outputs": [],
      "execution_count": null,
      "metadata": {
        "jupyter": {
          "source_hidden": false,
          "outputs_hidden": false
        },
        "nteract": {
          "transient": {
            "deleting": false
          }
        },
        "id": "8Xi9iDJC1HW6"
      }
    },
    {
      "cell_type": "markdown",
      "source": [
        "#### **4. Use the results when the results are ready and complete the protocol.**"
      ],
      "metadata": {
        "id": "_qoEM4p9iPNm"
      }
    },
    {
      "cell_type": "code",
      "source": [
        "bobBits = pickResult(qsharp.azure.output('# FILL THIS WITH THE JOB ID PRINTED ABOVE\n",
        "\n",
        "print(\"Bob's choices: \" + str(bobChoices))\n",
        "print(\"Bob's bits: \" + str(bobBits))\n",
        "print(\"\\n\")\n",
        "\n",
        "\n",
        "# STEP #6\n",
        "aliceKey = GenerateKey.simulate(bits = aliceBits, aliceChoices = aliceChoices, bobChoices = bobChoices)\n",
        "bobKey = GenerateKey.simulate(bits = bobBits, aliceChoices = aliceChoices, bobChoices = bobChoices)\n",
        "\n",
        "print(\"Alice's key: \" + str(aliceKey))\n",
        "print(\"Bob's key: \" + str(bobKey))\n",
        "print(\"\\n\")\n",
        "\n",
        "\n",
        "# STEP #7\n",
        "if IsSecureKey.simulate(aliceKey = aliceKey, bobKey = bobKey):\n",
        "\n",
        "    aliceKey = aliceKey[len(aliceKey) // 2: ]\n",
        "    bobKey = bobKey[len(bobKey) // 2: ]\n",
        "\n",
        "    print(\"Key seems secure! They will now use: \")\n",
        "    print(\"Alice's key: \" + str(aliceKey))\n",
        "    print(\"Bob's key: \" + str(bobKey))\n",
        "\n",
        "else:\n",
        "    print(\"Alice and Bob have detected Eve's interception!\")"
      ],
      "outputs": [],
      "execution_count": null,
      "metadata": {
        "jupyter": {
          "source_hidden": false,
          "outputs_hidden": false
        },
        "nteract": {
          "transient": {
            "deleting": false
          }
        },
        "id": "WmhEwD4t1HW6"
      }
    },
    {
      "cell_type": "markdown",
      "source": [
        "#### **5. Before continuing, reconnect to the simulator instead of hardware.**"
      ],
      "metadata": {
        "nteract": {
          "transient": {
            "deleting": false
          }
        },
        "id": "xpmoiOUJpUYv"
      }
    },
    {
      "cell_type": "code",
      "source": [
        "qsharp.azure.target(\"ionq.simulator\")"
      ],
      "outputs": [],
      "execution_count": null,
      "metadata": {
        "jupyter": {
          "source_hidden": false,
          "outputs_hidden": false
        },
        "nteract": {
          "transient": {
            "deleting": false
          }
        },
        "id": "Gceie51IpUYz"
      }
    },
    {
      "cell_type": "markdown",
      "source": [
        "## **Part #3: Eve Intercepts [Code Provided]**\n",
        "---\n",
        "\n",
        "Now, suppose Eve intercepts the (encoded) message that Alice has meant to send to Bob. Eve measures the qubits in the same way Bob would do in **Step #4** and **Step #5** and then sends them to Bob.\n",
        "\n",
        "<br>\n",
        "\n",
        "**Run the first two cells to define all necessary operations. Then run the last cell to simulate the full protocol.**"
      ],
      "metadata": {
        "nteract": {
          "transient": {
            "deleting": false
          }
        },
        "id": "4D4NfMYrlkwf"
      }
    },
    {
      "cell_type": "markdown",
      "source": [
        "### **Define the Operations**"
      ],
      "metadata": {
        "id": "RLclpTCVc8IM"
      }
    },
    {
      "cell_type": "code",
      "source": [
        "SendAliceEve : any = None\n",
        "SendEveBob : any = None"
      ],
      "outputs": [],
      "execution_count": null,
      "metadata": {
        "jupyter": {
          "source_hidden": false,
          "outputs_hidden": false
        },
        "nteract": {
          "transient": {
            "deleting": false
          }
        },
        "id": "btFWLqJrpUY0"
      }
    },
    {
      "cell_type": "code",
      "source": [
        "operation SendAliceEve(aliceBits : Int[], aliceChoices : Bool[]) : Result[] {\n",
        "    \n",
        "    //Qubits initialized\n",
        "    let keyLength = Length(aliceBits);\n",
        "    use qs = Qubit[keyLength];\n",
        "\n",
        "    // Alice encodes her key\n",
        "    //========================\n",
        "    for i in 0 .. Length(aliceBits) - 1{\n",
        "\n",
        "        // Encode a 1 into the |1> state\n",
        "        if aliceBits[i] == 1 {\n",
        "            X(qs[i]);\n",
        "        }\n",
        "\n",
        "        // Put Alice's random choice of qubits into superposition\n",
        "        if aliceChoices[i] {\n",
        "            H(qs[i]);\n",
        "        }\n",
        "    }\n",
        "\n",
        "    // Eve measures the qubits\n",
        "    // to decode the key\n",
        "    //========================\n",
        "    return MultiM(qs);\n",
        "}\n",
        "\n",
        "\n",
        "\n",
        "operation SendEveBob(eveBits : Int[], bobChoices : Bool[]) : Result[] {\n",
        "    \n",
        "    //Qubits initialized\n",
        "    let keyLength = Length(eveBits);\n",
        "    use qs = Qubit[keyLength];\n",
        "\n",
        "    // Eve encodes her measurements \n",
        "    // into qubits to send to Bob\n",
        "    //==============================\n",
        "    for i in 0 .. Length(eveBits) - 1{\n",
        "\n",
        "        // Encode a 1 into the |1> state\n",
        "        if eveBits[i] == 1 {\n",
        "            X(qs[i]);\n",
        "        }\n",
        "    }\n",
        "\n",
        "\n",
        "    // Bob receives the key unaware of Eve and\n",
        "    // acts according to his choices of superpositions\n",
        "    //=================================================\n",
        "    for i in 0 .. Length(qs) - 1 {\n",
        "\n",
        "        if bobChoices[i] {\n",
        "            H(qs[i]);\n",
        "        }\n",
        "    }\n",
        "\n",
        "    // Bob measures the qubits\n",
        "    // to decode the key\n",
        "    //========================\n",
        "    return MultiM(qs);\n",
        "}"
      ],
      "outputs": [],
      "execution_count": null,
      "metadata": {
        "jupyter": {
          "source_hidden": false,
          "outputs_hidden": false
        },
        "nteract": {
          "transient": {
            "deleting": false
          }
        },
        "microsoft": {},
        "id": "RBBkOnSCZjSX"
      }
    },
    {
      "cell_type": "markdown",
      "source": [
        "### **Simulate BB84 with Interception**"
      ],
      "metadata": {
        "id": "zFwanLOidAuQ"
      }
    },
    {
      "cell_type": "code",
      "source": [
        "keyLength = 8\n",
        "\n",
        "# STEPS #1 - 2\n",
        "aliceBits = GetAliceBits.simulate(keyLength = keyLength)\n",
        "aliceChoices = GetAliceChoices(keyLength = keyLength)\n",
        "\n",
        "print(\"Alice's bits: \" + str(aliceBits))\n",
        "print(\"Alice's choices: \" + str(aliceChoices))\n",
        "print(\"\\n\")\n",
        "\n",
        "\n",
        "# STEPS #3 - 5\n",
        "# EVE INTERCEPTS\n",
        "\n",
        "print(\"Eve Intercepts!\")\n",
        "eveBits = SendAliceEve.simulate(aliceBits = aliceBits, aliceChoices = aliceChoices)\n",
        "\n",
        "print(\"Eve measures: \" + str(eveBits))\n",
        "print(\"\\n\")\n",
        "\n",
        "# EVE SENDS QUBITS TO BOB\n",
        "bobChoices = GetBobChoices.simulate(keyLength = keyLength)\n",
        "bobBits = SendEveBob.simulate(eveBits = eveBits, bobChoices = bobChoices)\n",
        "\n",
        "print(\"Bob's choices: \" + str(bobChoices))\n",
        "print(\"Bob's bits: \" + str(bobBits))\n",
        "print(\"\\n\")\n",
        "\n",
        "\n",
        "# STEP #6\n",
        "aliceKey = GenerateKey.simulate(bits = aliceBits, aliceChoices = aliceChoices, bobChoices = bobChoices)\n",
        "bobKey = GenerateKey.simulate(bits = bobBits, aliceChoices = aliceChoices, bobChoices = bobChoices)\n",
        "\n",
        "print(\"Alice's key: \" + str(aliceKey))\n",
        "print(\"Bob's key: \" + str(bobKey))\n",
        "print(\"\\n\")\n",
        "\n",
        "\n",
        "# STEP #7\n",
        "if IsSecureKey.simulate(aliceKey = aliceKey, bobKey = bobKey):\n",
        "\n",
        "    aliceKey = aliceKey[len(aliceKey) // 2: ]\n",
        "    bobKey = bobKey[len(bobKey) // 2: ]\n",
        "\n",
        "    print(\"Key seems secure! They will now use: \")\n",
        "    print(\"Alice's key: \" + str(aliceKey))\n",
        "    print(\"Bob's key: \" + str(bobKey))\n",
        "\n",
        "else:\n",
        "    print(\"Alice and Bob have detected Eve's interception!\")"
      ],
      "outputs": [],
      "execution_count": null,
      "metadata": {
        "jupyter": {
          "source_hidden": false,
          "outputs_hidden": false
        },
        "nteract": {
          "transient": {
            "deleting": false
          }
        },
        "id": "H0CICqXXpUY1"
      }
    },
    {
      "cell_type": "markdown",
      "source": [
        "## **Part #4: The Full Protocol [Code Provided]**\n",
        "---\n",
        "\n",
        "In the cells below, we provide the full protocol, including Eve, so that you can see it altogether. This is broken into 4 pieces,\n",
        "\n",
        "1. **Define the Operations**: You must run this code to ensure all necessary operations are defined.\n",
        "\n",
        "2. **Simulate BB84**: This contains all the code in one cell to simulate BB84 from start to finish, with options to change the key length and if Eve intercepts or not.\n",
        "\n",
        "3. **Execute BB84 with No Interception on a Target**: This contains all the code to execute BB84 from start to finish *with no Eve*. It is broken into 2 cells with the first one ending with submiting a job for execution that can then be picked back up on when the job is complete.\n",
        "\n",
        "4. **Execute BB84 with Interception on a Target**: This contains all the code to execute BB84 from start to finish *with Eve*. It is broken into 3 cells with the first two cells ending with job submissions that can then be picked back up on when the jobs are complete."
      ],
      "metadata": {
        "nteract": {
          "transient": {
            "deleting": false
          }
        },
        "id": "tIhGOlC4ZjSY"
      }
    },
    {
      "cell_type": "markdown",
      "source": [
        "### **1. Define the Operations**\n",
        "\n",
        "**You must run this to use the code below.**"
      ],
      "metadata": {
        "nteract": {
          "transient": {
            "deleting": false
          }
        },
        "id": "E76iLLlpZjSY"
      }
    },
    {
      "cell_type": "code",
      "source": [
        "GetAliceBits: any = None\n",
        "GetAliceChoices: any = None\n",
        "GetBobChoices: any = None\n",
        "\n",
        "SendAliceBob: any = None\n",
        "SendAliceEve: any = None\n",
        "SendEveBob: any = None\n",
        "\n",
        "GenerateKey: any = None\n",
        "IsSecureKey: any = None"
      ],
      "outputs": [],
      "execution_count": null,
      "metadata": {
        "jupyter": {
          "source_hidden": false,
          "outputs_hidden": false
        },
        "nteract": {
          "transient": {
            "deleting": false
          }
        },
        "id": "MnR8PuZvZjSY"
      }
    },
    {
      "cell_type": "code",
      "source": [
        "%%qsharp\n",
        "\n",
        "// Alice and Bob getting setup\n",
        "//=============================\n",
        "operation GetAliceBits(keyLength: Int) : Int[] {\n",
        "\n",
        "    return DrawMany(DrawRandomInt, keyLength, (0, 1));\n",
        "}\n",
        "\n",
        "\n",
        "\n",
        "operation GetAliceChoices(keyLength: Int) : Bool[] {\n",
        "\n",
        "    return DrawMany(DrawRandomBool, keyLength, 0.5);\n",
        "}\n",
        "\n",
        "\n",
        "operation GetBobChoices(keyLength: Int) : Bool[] {\n",
        "\n",
        "    return DrawMany(DrawRandomBool, keyLength, 0.5);\n",
        "}\n",
        "\n",
        "\n",
        "\n",
        "// Alice, Bob, and potentially Eve communicating through the quantum channel\n",
        "//===========================================================================\n",
        "\n",
        "operation SendAliceBob(aliceBits : Int[], aliceChoices : Bool[], bobChoices : Bool[]) : Result[] {\n",
        "    \n",
        "    //Qubits initialized\n",
        "    let keyLength = Length(aliceBits);\n",
        "    use qs = Qubit[keyLength];\n",
        "\n",
        "    // Alice encodes her key\n",
        "    //========================\n",
        "    for i in 0 .. Length(aliceBits) - 1{\n",
        "\n",
        "        // Encode a 1 into the |1> state\n",
        "        if aliceBits[i] == 1 {\n",
        "            X(qs[i]);\n",
        "        }\n",
        "\n",
        "        // Put Alice's random choice of qubits into superposition\n",
        "        if aliceChoices[i] {\n",
        "            H(qs[i]);\n",
        "        }\n",
        "    }\n",
        "\n",
        "    // Bob receives the key and\n",
        "    // acts according to his choices of superpositions\n",
        "    //=================================================\n",
        "    for i in 0 .. Length(qs) - 1 {\n",
        "\n",
        "        if bobChoices[i] {\n",
        "            H(qs[i]);\n",
        "        }\n",
        "    }\n",
        "\n",
        "    // Bob measures the qubits\n",
        "    // to decode the key\n",
        "    //========================\n",
        "    return MultiM(qs);\n",
        "}\n",
        "\n",
        "\n",
        "operation SendAliceEve(aliceBits : Int[], aliceChoices : Bool[]) : Result[] {\n",
        "    \n",
        "    //Qubits initialized\n",
        "    let keyLength = Length(aliceBits);\n",
        "    use qs = Qubit[keyLength];\n",
        "\n",
        "    // Alice encodes her key\n",
        "    //========================\n",
        "    for i in 0 .. Length(aliceBits) - 1{\n",
        "\n",
        "        // Encode a 1 into the |1> state\n",
        "        if aliceBits[i] == 1 {\n",
        "            X(qs[i]);\n",
        "        }\n",
        "\n",
        "        // Put Alice's random choice of qubits into superposition\n",
        "        if aliceChoices[i] {\n",
        "            H(qs[i]);\n",
        "        }\n",
        "    }\n",
        "\n",
        "    // Eve measures the qubits\n",
        "    // to decode the key\n",
        "    //========================\n",
        "    return MultiM(qs);\n",
        "}\n",
        "\n",
        "\n",
        "\n",
        "operation SendEveBob(eveBits : Int[], bobChoices : Bool[]) : Result[] {\n",
        "    \n",
        "    //Qubits initialized\n",
        "    let keyLength = Length(eveBits);\n",
        "    use qs = Qubit[keyLength];\n",
        "\n",
        "    // Eve encodes her measurements \n",
        "    // into qubits to send to Bob\n",
        "    //==============================\n",
        "    for i in 0 .. Length(eveBits) - 1{\n",
        "\n",
        "        // Encode a 1 into the |1> state\n",
        "        if eveBits[i] == 1 {\n",
        "            X(qs[i]);\n",
        "        }\n",
        "    }\n",
        "\n",
        "\n",
        "    // Bob receives the key unaware of Eve and\n",
        "    // acts according to his choices of superpositions\n",
        "    //=================================================\n",
        "    for i in 0 .. Length(qs) - 1 {\n",
        "\n",
        "        if bobChoices[i] {\n",
        "            H(qs[i]);\n",
        "        }\n",
        "    }\n",
        "\n",
        "    // Bob measures the qubits\n",
        "    // to decode the key\n",
        "    //========================\n",
        "    return MultiM(qs);\n",
        "}\n",
        "\n",
        "\n",
        "\n",
        "// Alice and Bob comparing and generating keys\n",
        "//=============================================\n",
        "operation GenerateKey(bits : Int[], aliceChoices : Bool[], bobChoices : Bool[]) : Int[] {\n",
        "\n",
        "    // Count how many choices they agreed on\n",
        "    //=======================================\n",
        "    mutable count = 0;\n",
        "    for i in 0 .. Length(aliceChoices) - 1 {\n",
        "\n",
        "        if aliceChoices[i] == bobChoices[i] {\n",
        "            set count += 1;\n",
        "        }\n",
        "    }\n",
        "\n",
        "    // Create the key\n",
        "    //================\n",
        "    mutable key = [0, size = count];\n",
        "    mutable keyID = 0;\n",
        "    for i in 0 .. Length(aliceChoices) - 1 {\n",
        "\n",
        "        if aliceChoices[i] == bobChoices[i] {\n",
        "            set key w/= keyID <- bits[i];\n",
        "            set keyID += 1;\n",
        "        }\n",
        "    }\n",
        "    \n",
        "    return key;\n",
        "}\n",
        "\n",
        "operation IsSecureKey(aliceKey : Int[], bobKey : Int[]) : Bool {\n",
        "\n",
        "    // Check the first half of the keys\n",
        "    // to make sure they agree\n",
        "    //==================================\n",
        "    for i in 0 .. Length(aliceKey) / 2 {\n",
        "\n",
        "        if aliceKey[i] != bobKey[i]{\n",
        "            return false;\n",
        "        }\n",
        "    }\n",
        "\n",
        "    return true;\n",
        "}"
      ],
      "outputs": [],
      "execution_count": null,
      "metadata": {
        "jupyter": {
          "source_hidden": false,
          "outputs_hidden": false
        },
        "nteract": {
          "transient": {
            "deleting": false
          }
        },
        "microsoft": {
          "language": "qsharp"
        },
        "id": "Ful7K26mZjSY"
      }
    },
    {
      "cell_type": "markdown",
      "source": [
        "### **2. Simulate BB84**"
      ],
      "metadata": {
        "nteract": {
          "transient": {
            "deleting": false
          }
        },
        "id": "edO1uEA-ZjSY"
      }
    },
    {
      "cell_type": "code",
      "source": [
        "keyLength = 5\n",
        "eveIntercepts = False\n",
        "\n",
        "\n",
        "# STEPS #1 - 2\n",
        "aliceBits = GetAliceBits.simulate(keyLength = keyLength)\n",
        "aliceChoices = GetAliceChoices(keyLength = keyLength)\n",
        "bobChoices = GetBobChoices.simulate(keyLength = keyLength)\n",
        "\n",
        "print(\"Alice's bits: \" + str(aliceBits))\n",
        "print(\"Alice's choices: \" + str(aliceChoices))\n",
        "print(\"\\n\")\n",
        "\n",
        "\n",
        "# STEPS #3 - 5\n",
        "if eveIntercepts:\n",
        "    # EVE INTERCEPTS\n",
        "    print(\"Eve Intercepts!\")\n",
        "    eveBits = SendAliceEve.simulate(aliceBits = aliceBits, aliceChoices = aliceChoices)\n",
        "\n",
        "    print(\"Eve measures: \" + str(eveBits))\n",
        "    print(\"\\n\")\n",
        "\n",
        "    # EVE SENDS QUBITS TO BOB\n",
        "    bobBits = SendEveBob.simulate(eveBits = eveBits, bobChoices = bobChoices)\n",
        "\n",
        "else:\n",
        "    bobBits = SendAliceBob.simulate(aliceBits = aliceBits, aliceChoices = aliceChoices, bobChoices = bobChoices)\n",
        "\n",
        "print(\"Bob's choices: \" + str(bobChoices))\n",
        "print(\"Bob's bits: \" + str(bobBits))\n",
        "print(\"\\n\")\n",
        "\n",
        "\n",
        "# STEP #6\n",
        "aliceKey = GenerateKey.simulate(bits = aliceBits, aliceChoices = aliceChoices, bobChoices = bobChoices)\n",
        "bobKey = GenerateKey.simulate(bits = bobBits, aliceChoices = aliceChoices, bobChoices = bobChoices)\n",
        "\n",
        "print(\"Alice's key: \" + str(aliceKey))\n",
        "print(\"Bob's key: \" + str(bobKey))\n",
        "print(\"\\n\")\n",
        "\n",
        "\n",
        "# STEP #7\n",
        "if IsSecureKey.simulate(aliceKey = aliceKey, bobKey = bobKey):\n",
        "\n",
        "    aliceKey = aliceKey[len(aliceKey) // 2: ]\n",
        "    bobKey = bobKey[len(bobKey) // 2: ]\n",
        "\n",
        "    print(\"Key seems secure! They will now use: \")\n",
        "    print(\"Alice's key: \" + str(aliceKey))\n",
        "    print(\"Bob's key: \" + str(bobKey))\n",
        "\n",
        "else:\n",
        "    print(\"Alice and Bob have detected Eve's interception!\")"
      ],
      "outputs": [],
      "execution_count": null,
      "metadata": {
        "jupyter": {
          "source_hidden": false,
          "outputs_hidden": false
        },
        "nteract": {
          "transient": {
            "deleting": false
          }
        },
        "id": "Zj6KBVTkZjSY"
      }
    },
    {
      "cell_type": "markdown",
      "source": [
        "### **3. Execute BB84 with No Interception on a Target**"
      ],
      "metadata": {
        "nteract": {
          "transient": {
            "deleting": false
          }
        },
        "id": "gYSpsj3xZjSf"
      }
    },
    {
      "cell_type": "code",
      "source": [
        "keyLength = 5\n",
        "\n",
        "# STEPS #1 - 2\n",
        "aliceBits = GetAliceBits.simulate(keyLength = keyLength)\n",
        "aliceChoices = GetAliceChoices(keyLength = keyLength)\n",
        "bobChoices = GetBobChoices.simulate(keyLength = keyLength)\n",
        "\n",
        "print(\"Alice's bits: \" + str(aliceBits))\n",
        "print(\"Alice's choices: \" + str(aliceChoices))\n",
        "print(\"\\n\")\n",
        "\n",
        "qsharp.azure.execute(SendEveBob, eveBits = eveBits, bobChoices = bobChoices, shots = 10, timeout = 1000)"
      ],
      "outputs": [],
      "execution_count": null,
      "metadata": {
        "jupyter": {
          "source_hidden": false,
          "outputs_hidden": false
        },
        "nteract": {
          "transient": {
            "deleting": false
          }
        },
        "id": "ZIkeC6QWZjSf"
      }
    },
    {
      "cell_type": "code",
      "source": [
        "bobBits = pickResult(qsharp.azure.output(' # COMPLETE THIS LINE WITH THE JOB ID PRINTED ABOVE\n",
        "\n",
        "print(\"Bob's choices: \" + str(bobChoices))\n",
        "print(\"Bob's bits: \" + str(bobBits))\n",
        "print(\"\\n\")\n",
        "\n",
        "\n",
        "# STEP #6\n",
        "aliceKey = GenerateKey.simulate(bits = aliceBits, aliceChoices = aliceChoices, bobChoices = bobChoices)\n",
        "bobKey = GenerateKey.simulate(bits = bobBits, aliceChoices = aliceChoices, bobChoices = bobChoices)\n",
        "\n",
        "print(\"Alice's key: \" + str(aliceKey))\n",
        "print(\"Bob's key: \" + str(bobKey))\n",
        "print(\"\\n\")\n",
        "\n",
        "\n",
        "# STEP #7\n",
        "if IsSecureKey.simulate(aliceKey = aliceKey, bobKey = bobKey):\n",
        "\n",
        "    aliceKey = aliceKey[len(aliceKey) // 2: ]\n",
        "    bobKey = bobKey[len(bobKey) // 2: ]\n",
        "\n",
        "    print(\"Key seems secure! They will now use: \")\n",
        "    print(\"Alice's key: \" + str(aliceKey))\n",
        "    print(\"Bob's key: \" + str(bobKey))\n",
        "\n",
        "else:\n",
        "    print(\"Alice and Bob have detected Eve's interception!\")"
      ],
      "outputs": [],
      "execution_count": null,
      "metadata": {
        "jupyter": {
          "source_hidden": false,
          "outputs_hidden": false
        },
        "nteract": {
          "transient": {
            "deleting": false
          }
        },
        "id": "OQMMatxXZjSf"
      }
    },
    {
      "cell_type": "markdown",
      "source": [
        "### **4. Execute BB84 with Interception on a Target**"
      ],
      "metadata": {
        "nteract": {
          "transient": {
            "deleting": false
          }
        },
        "id": "JC0JRuFzZjSf"
      }
    },
    {
      "cell_type": "code",
      "source": [
        "keyLength = 5\n",
        "\n",
        "# STEPS #1 - 2\n",
        "aliceBits = GetAliceBits.simulate(keyLength = keyLength)\n",
        "aliceChoices = GetAliceChoices(keyLength = keyLength)\n",
        "bobChoices = GetBobChoices.simulate(keyLength = keyLength)\n",
        "\n",
        "print(\"Alice's bits: \" + str(aliceBits))\n",
        "print(\"Alice's choices: \" + str(aliceChoices))\n",
        "print(\"\\n\")\n",
        "\n",
        "# EVE INTERCEPTS\n",
        "print(\"Eve Intercepts!\")\n",
        "qsharp.azure.execute(SendAliceEve, aliceBits = aliceBits, aliceChoices = aliceChoices, shots = 10, timeout = 1000)"
      ],
      "outputs": [],
      "execution_count": null,
      "metadata": {
        "jupyter": {
          "source_hidden": false,
          "outputs_hidden": false
        },
        "nteract": {
          "transient": {
            "deleting": false
          }
        },
        "id": "ysceEZesZjSf"
      }
    },
    {
      "cell_type": "code",
      "source": [
        "eveBits = pickResult(qsharp.azure.output(' # COMPLETE THIS LINE WITH THE JOB ID PRINTED ABOVE\n",
        "\n",
        "print(\"Eve measures: \" + str(eveBits))\n",
        "print(\"\\n\")\n",
        "\n",
        "# EVE SENDS QUBITS TO BOB\n",
        "qsharp.azure.execute(SendEveBob, eveBits = eveBits, bobChoices = bobChoices, shots = 10, timeout = 1000)"
      ],
      "outputs": [],
      "execution_count": null,
      "metadata": {
        "jupyter": {
          "source_hidden": false,
          "outputs_hidden": false
        },
        "nteract": {
          "transient": {
            "deleting": false
          }
        },
        "id": "R8RF3_f5ZjSf"
      }
    },
    {
      "cell_type": "code",
      "source": [
        "bobBits = pickResult(qsharp.azure.output(' # COMPLETE THIS LINE WITH THE JOB ID PRINTED ABOVE\n",
        "\n",
        "print(\"Bob's choices: \" + str(bobChoices))\n",
        "print(\"Bob's bits: \" + str(bobBits))\n",
        "print(\"\\n\")\n",
        "\n",
        "\n",
        "# STEP #6\n",
        "aliceKey = GenerateKey.simulate(bits = aliceBits, aliceChoices = aliceChoices, bobChoices = bobChoices)\n",
        "bobKey = GenerateKey.simulate(bits = bobBits, aliceChoices = aliceChoices, bobChoices = bobChoices)\n",
        "\n",
        "print(\"Alice's key: \" + str(aliceKey))\n",
        "print(\"Bob's key: \" + str(bobKey))\n",
        "print(\"\\n\")\n",
        "\n",
        "\n",
        "# STEP #7\n",
        "if IsSecureKey.simulate(aliceKey = aliceKey, bobKey = bobKey):\n",
        "\n",
        "    aliceKey = aliceKey[len(aliceKey) // 2: ]\n",
        "    bobKey = bobKey[len(bobKey) // 2: ]\n",
        "\n",
        "    print(\"Key seems secure! They will now use: \")\n",
        "    print(\"Alice's key: \" + str(aliceKey))\n",
        "    print(\"Bob's key: \" + str(bobKey))\n",
        "\n",
        "else:\n",
        "    print(\"Alice and Bob have detected Eve's interception!\")"
      ],
      "outputs": [],
      "execution_count": null,
      "metadata": {
        "jupyter": {
          "source_hidden": false,
          "outputs_hidden": false
        },
        "nteract": {
          "transient": {
            "deleting": false
          }
        },
        "id": "5eXa0Y4NZjSg"
      }
    },
    {
      "cell_type": "markdown",
      "source": [
        "# End of Notebook\n",
        "---\n",
        "© 2023 The Coding School, All rights reserved"
      ],
      "metadata": {
        "nteract": {
          "transient": {
            "deleting": false
          }
        },
        "id": "y6pe_5mglkwg"
      }
    }
  ],
  "metadata": {
    "kernelspec": {
      "name": "python3",
      "language": "python",
      "display_name": "Python 3 (ipykernel)"
    },
    "language_info": {
      "name": "python",
      "version": "3.9.16",
      "mimetype": "text/x-python",
      "codemirror_mode": {
        "name": "ipython",
        "version": 3
      },
      "pygments_lexer": "ipython3",
      "nbconvert_exporter": "python",
      "file_extension": ".py"
    },
    "microsoft": {
      "host": {
        "AzureQuantum": {
          "sourceType": "SampleGallery",
          "sourceLink": "https://raw.githubusercontent.com/microsoft/Quantum/f7d76cc28219b577404437b993a8fdfdc0dad33e/samples/azure-quantum/parallel-qrng/ParallelQrng.ipynb"
        }
      }
    },
    "kernel_info": {
      "name": "python3"
    },
    "nteract": {
      "version": "nteract-front-end@1.0.0"
    },
    "colab": {
      "provenance": []
    }
  },
  "nbformat": 4,
  "nbformat_minor": 0
}