{
  "cells": [
    {
      "cell_type": "markdown",
      "source": [
        "# **Lab #3: Quantum Key Distribution** <br>\n",
        "## **Microsoft Winter School, February 11th 2023**\n",
        "\n",
        "### **Summary**\n",
        "\n",
        "In today's lab, we are going to implement the Quantum Key Distribution protocol BB84 in Q#.\n",
        "\n",
        "<br>\n",
        "\n",
        "### **Learning Objectives**\n",
        "* See how to run the same code with the local simulator, execute on a simulator, and excecute on real quantum hardware.\n",
        "* See how BB84 can be implemented in code.\n",
        "* Become familiar with the roles that Alice, Bob, and Eve all play in this protocol."
      ],
      "metadata": {
        "id": "Q4qzkpo5Pa44"
      }
    },
    {
      "cell_type": "markdown",
      "source": [
        "## **Part #0: Imports**\n",
        "---"
      ],
      "metadata": {
        "nteract": {
          "transient": {
            "deleting": false
          }
        },
        "id": "C48Ud0XQPa5F"
      }
    },
    {
      "cell_type": "markdown",
      "source": [
        "**Run the code below to open the necessary namespaces.**"
      ],
      "metadata": {
        "nteract": {
          "transient": {
            "deleting": false
          }
        },
        "id": "JT2rrkmAPa5G"
      }
    },
    {
      "cell_type": "code",
      "source": [
        "from matplotlib import pyplot\n",
        "import numpy as np\n",
        "from random import choices\n",
        "import json\n",
        "\n",
        "import qsharp.azure\n",
        "import qsharp\n",
        "\n",
        "\n",
        "# Connect to available targets\n",
        "# if you start typing qsharp - you should get a pop-up that inserts this \"connect\" command\n",
        "targets = qsharp.azure.connect(\n",
        "    resourceId=\"/subscriptions/cdd4985b-2017-484b-bb09-a575bd40587a/resourceGroups/AzureQuantum/providers/Microsoft.Quantum/Workspaces/qxqwinterschoolAndrzejDubaj\",\n",
        "    location=\"westcentralus\")\n",
        "\n",
        "\n",
        "# Set the target to ionq.simulator\n",
        "qsharp.azure.target(\"ionq.simulator\")\n",
        "\n",
        "\n",
        "# Helper function to pick one result according to the distribution of all results\n",
        "def pickResult(results):\n",
        "\n",
        "    probs = list(results.values())\n",
        "    bits = choices(list(results.keys()), weights = probs)[0]\n",
        "\n",
        "    return json.loads(bits)"
      ],
      "outputs": [
        {
          "output_type": "stream",
          "name": "stdout",
          "text": "Preparing Q# environment...\n..."
        },
        {
          "output_type": "display_data",
          "data": {
            "text/plain": "Connecting to Azure Quantum...",
            "application/x-qsharp-data": "\"Connecting to Azure Quantum...\""
          },
          "metadata": {}
        },
        {
          "output_type": "stream",
          "name": "stdout",
          "text": "Authenticated using Microsoft.Azure.Quantum.Authentication.TokenFileCredential\n\n\nConnected to Azure Quantum workspace qxqwinterschoolAndrzejDubaj in location westcentralus.\nLoading package Microsoft.Quantum.Providers.IonQ and dependencies...\nActive target is now ionq.simulator\n"
        }
      ],
      "execution_count": 1,
      "metadata": {
        "jupyter": {
          "source_hidden": false,
          "outputs_hidden": false
        },
        "nteract": {
          "transient": {
            "deleting": false
          }
        },
        "microsoft": {},
        "id": "GIYJ1ahOlkwa"
      }
    },
    {
      "cell_type": "code",
      "source": [
        "%%qsharp\n",
        "\n",
        "open Microsoft.Quantum.Arrays;\n",
        "open Microsoft.Quantum.Measurement;\n",
        "open Microsoft.Quantum.Random;\n",
        "open Microsoft.Quantum.Convert;"
      ],
      "outputs": [],
      "execution_count": 2,
      "metadata": {
        "jupyter": {
          "source_hidden": false,
          "outputs_hidden": false
        },
        "nteract": {
          "transient": {
            "deleting": false
          }
        },
        "collapsed": true,
        "microsoft": {
          "language": "qsharp"
        },
        "id": "FrxdvYCrPa5G"
      }
    },
    {
      "cell_type": "markdown",
      "source": [
        "## **Part 1: Warm-up**\n",
        "---\n",
        "\n",
        "Let's warm up with some review of Q#."
      ],
      "metadata": {
        "nteract": {
          "transient": {
            "deleting": false
          }
        },
        "id": "A5d-xhw4lkwb"
      }
    },
    {
      "cell_type": "markdown",
      "source": [
        "### **Exercise #1: Creating Q# Operations (Practice Together)**"
      ],
      "metadata": {
        "nteract": {
          "transient": {
            "deleting": false
          }
        },
        "id": "_Kj-qpWguQd1"
      }
    },
    {
      "cell_type": "markdown",
      "source": [
        "Let's start by reminding ourselves of some basic Q# rules regarding **operations**:\n",
        "* All Q# code has to be embedded in operations.\n",
        "* Operations can have arguments that are specified in parenthesis.\n",
        "* Operations must have a return type. However, you can return `Unit`, which means _nothing is returned_.\n",
        "\n",
        "Let's create an operation called `AddTwoVariables` that takes in two `Int` arguments, returns an `Int`. This operation will **return the sum of its arguments.**"
      ],
      "metadata": {
        "nteract": {
          "transient": {
            "deleting": false
          }
        },
        "id": "xeOdvOvUuQd1"
      }
    },
    {
      "cell_type": "code",
      "source": [
        "# remember, we need to declare the operation in Python first.\n",
        "AddTwoVariables : any = None"
      ],
      "outputs": [],
      "execution_count": 3,
      "metadata": {
        "jupyter": {
          "source_hidden": false,
          "outputs_hidden": false
        },
        "nteract": {
          "transient": {
            "deleting": false
          }
        },
        "id": "_F6j5C2LuQd1"
      }
    },
    {
      "cell_type": "code",
      "source": [
        "%%qsharp\n",
        "operation AddTwoVariables (a : Int, b: Int) : Int { //add another argument called b here) : //add return type here {\n",
        "    return a + b;\n",
        "}"
      ],
      "outputs": [],
      "execution_count": 4,
      "metadata": {
        "jupyter": {
          "source_hidden": false,
          "outputs_hidden": false
        },
        "nteract": {
          "transient": {
            "deleting": false
          }
        },
        "microsoft": {
          "language": "qsharp"
        },
        "id": "kZQj5ciBuQd1"
      }
    },
    {
      "cell_type": "code",
      "source": [
        "# we can run this operation by using simulate command\n",
        "AddTwoVariables.simulate(a = 1, b = 2)"
      ],
      "outputs": [
        {
          "output_type": "execute_result",
          "execution_count": 5,
          "data": {
            "text/plain": "3"
          },
          "metadata": {}
        }
      ],
      "execution_count": 5,
      "metadata": {
        "jupyter": {
          "source_hidden": false,
          "outputs_hidden": false
        },
        "nteract": {
          "transient": {
            "deleting": false
          }
        },
        "id": "JMByUGxVuQd2"
      }
    },
    {
      "cell_type": "markdown",
      "source": [
        "### **Exercise #2: Mutable vs. Immutable Variables (Practice Together)**"
      ],
      "metadata": {
        "nteract": {
          "transient": {
            "deleting": false
          }
        },
        "id": "wiHIVnv3uQd2"
      }
    },
    {
      "cell_type": "markdown",
      "source": [
        "Now, let's remember how to declare **mutable** and **immutable** **variables**.\n",
        "\n",
        "* **Mutable variables** - can be changed after being declared.\n",
        "* **Immutable variables** - cannot be changed after being declared."
      ],
      "metadata": {
        "nteract": {
          "transient": {
            "deleting": false
          }
        },
        "id": "PCoG6JeuuQd2"
      }
    },
    {
      "cell_type": "markdown",
      "source": [
        "Complete the following operation called `MakeMutableImmutable`. Return the variable that contains \"immutable\"."
      ],
      "metadata": {
        "nteract": {
          "transient": {
            "deleting": false
          }
        },
        "id": "0RVGYppcuQd2"
      }
    },
    {
      "cell_type": "code",
      "source": [
        "# declare the operation in Python\n",
        "MakeMutableImmutable : any = None"
      ],
      "outputs": [],
      "execution_count": 6,
      "metadata": {
        "jupyter": {
          "source_hidden": false,
          "outputs_hidden": false
        },
        "nteract": {
          "transient": {
            "deleting": false
          }
        },
        "id": "9F2CXQ5quQd2"
      }
    },
    {
      "cell_type": "code",
      "source": [
        "%%qsharp\n",
        "operation MakeMutableImmutable() : String {\n",
        "\n",
        "    let i = \"im\";\n",
        "\n",
        "    mutable m = \"mutable\";\n",
        "\n",
        "    set m = i + m; //Yes, you can append Strings together like this!\n",
        "    \n",
        "    return m;  //COMPLETE THIS LINE TO RETURN THE VARIABLE THAT STORES \"immutable\";\n",
        "}"
      ],
      "outputs": [],
      "execution_count": 7,
      "metadata": {
        "jupyter": {
          "source_hidden": false,
          "outputs_hidden": false
        },
        "nteract": {
          "transient": {
            "deleting": false
          }
        },
        "microsoft": {
          "language": "qsharp"
        },
        "id": "5j7_BHU7uQd2"
      }
    },
    {
      "cell_type": "code",
      "source": [
        "MakeMutableImmutable.simulate()"
      ],
      "outputs": [
        {
          "output_type": "execute_result",
          "execution_count": 8,
          "data": {
            "text/plain": "'immutable'"
          },
          "metadata": {}
        }
      ],
      "execution_count": 8,
      "metadata": {
        "jupyter": {
          "source_hidden": false,
          "outputs_hidden": false
        },
        "nteract": {
          "transient": {
            "deleting": false
          }
        },
        "id": "7jL2hRuOuQd2"
      }
    },
    {
      "cell_type": "markdown",
      "source": [
        "### **Exercise #3: Arrays in Q# (Practice Together)**"
      ],
      "metadata": {
        "nteract": {
          "transient": {
            "deleting": false
          }
        },
        "id": "tR_Aje_XuQd2"
      }
    },
    {
      "cell_type": "markdown",
      "source": [
        "Now, let's briefly remind ourselves how to work with arrays in Q#.\n",
        "\n",
        "* Arrays can also be mutable and immutable.\n",
        "\n",
        "Finish the `CountDown` operation according to the comments provided."
      ],
      "metadata": {
        "nteract": {
          "transient": {
            "deleting": false
          }
        },
        "id": "ZtBTMXSZuQd2"
      }
    },
    {
      "cell_type": "code",
      "source": [
        "CountDown : any = None"
      ],
      "outputs": [],
      "execution_count": 9,
      "metadata": {
        "jupyter": {
          "source_hidden": false,
          "outputs_hidden": false
        },
        "nteract": {
          "transient": {
            "deleting": false
          }
        },
        "id": "iFv15XPcuQd2"
      }
    },
    {
      "cell_type": "code",
      "source": [
        "%%qsharp\n",
        "operation CountDown() : Int[] { //COMPLETE YOUR TYPE HERE {\n",
        "\n",
        "    let countDownImmutable = [4, 3, 2, 1];\n",
        "\n",
        "    mutable countDownMutable = [4, size = 4];\n",
        "\n",
        "    // change countDownMutable to have the same values as countDownImmutable\n",
        "    set countDownMutable w/= 1 <- 3;\n",
        "    set countDownMutable w/= 2 <- 2;\n",
        "    set countDownMutable w/= 3 <- 1;\n",
        "    \n",
        "    //ADD YOUR CODE HERE\n",
        "\n",
        "    return countDownMutable;\n",
        "}"
      ],
      "outputs": [],
      "execution_count": 10,
      "metadata": {
        "jupyter": {
          "source_hidden": false,
          "outputs_hidden": false
        },
        "nteract": {
          "transient": {
            "deleting": false
          }
        },
        "microsoft": {
          "language": "qsharp"
        },
        "id": "sQG8udzSuQd2"
      }
    },
    {
      "cell_type": "code",
      "source": [
        "CountDown.simulate()"
      ],
      "outputs": [
        {
          "output_type": "execute_result",
          "execution_count": 11,
          "data": {
            "text/plain": "[4, 3, 2, 1]"
          },
          "metadata": {}
        }
      ],
      "execution_count": 11,
      "metadata": {
        "jupyter": {
          "source_hidden": false,
          "outputs_hidden": false
        },
        "nteract": {
          "transient": {
            "deleting": false
          }
        },
        "id": "ub6WJxRkuQd2"
      }
    },
    {
      "cell_type": "markdown",
      "source": [
        "### **Exercise #4: Conditionals and Loops in Q# (Practice Together)**"
      ],
      "metadata": {
        "nteract": {
          "transient": {
            "deleting": false
          }
        },
        "id": "TIPEJ7cLuQd3"
      }
    },
    {
      "cell_type": "markdown",
      "source": [
        "Now, let's review the syntax for if-statements and loops in Q#. Complete the following code."
      ],
      "metadata": {
        "nteract": {
          "transient": {
            "deleting": false
          }
        },
        "id": "YHVPi_ijuQd3"
      }
    },
    {
      "cell_type": "code",
      "source": [
        "# declare the operation in Python\n",
        "CountDownEven : any = None"
      ],
      "outputs": [],
      "execution_count": 12,
      "metadata": {
        "jupyter": {
          "source_hidden": false,
          "outputs_hidden": false
        },
        "nteract": {
          "transient": {
            "deleting": false
          }
        },
        "id": "OdPArY_7uQd3"
      }
    },
    {
      "cell_type": "code",
      "source": [
        "%%qsharp\n",
        "operation CountDownEven() : Unit {\n",
        "    let countDownImmutable = [10 ,9, 8, 7, 6, 5, 4, 3, 2, 1, 0];\n",
        "\n",
        "    for i in 0 .. Length(countDownImmutable)-1 {\n",
        "\n",
        "        //checking if index is even\n",
        "        if i%2 == 0 { \n",
        "            \n",
        "            Message($\"{countDownImmutable[i]}\");\n",
        "\n",
        "        }\n",
        "\n",
        "    }\n",
        "}"
      ],
      "outputs": [],
      "execution_count": 13,
      "metadata": {
        "jupyter": {
          "source_hidden": false,
          "outputs_hidden": false
        },
        "nteract": {
          "transient": {
            "deleting": false
          }
        },
        "microsoft": {
          "language": "qsharp"
        },
        "id": "pdy0LYNduQd3"
      }
    },
    {
      "cell_type": "code",
      "source": [
        "# add code here - simulate your operation\n",
        "CountDownEven.simulate()"
      ],
      "outputs": [
        {
          "output_type": "stream",
          "name": "stdout",
          "text": "10\n8\n6\n4\n2\n0\n"
        },
        {
          "output_type": "execute_result",
          "execution_count": 14,
          "data": {
            "text/plain": "()"
          },
          "metadata": {}
        }
      ],
      "execution_count": 14,
      "metadata": {
        "jupyter": {
          "source_hidden": false,
          "outputs_hidden": false
        },
        "nteract": {
          "transient": {
            "deleting": false
          }
        },
        "id": "bWrfZsIyuQd3"
      }
    },
    {
      "cell_type": "markdown",
      "source": [
        "### **Exercise #5: Qubits, Gates, and Measurements in Q# (Practice Together)**"
      ],
      "metadata": {
        "nteract": {
          "transient": {
            "deleting": false
          }
        },
        "id": "GE-CzIRFuQd3"
      }
    },
    {
      "cell_type": "markdown",
      "source": [
        "Almost done with our review! Let's remember how to use **qubits, gates and measurement.**\n",
        "\n",
        "Create and simulate an operation that takes a Bool, prepares a qubit in the $|0\\rangle$ state if the Bool is `false` and the $|1\\rangle$ state if the Bool is `true`, and returns the result of measuring it."
      ],
      "metadata": {
        "nteract": {
          "transient": {
            "deleting": false
          }
        },
        "id": "A5WzxVaLuQd3"
      }
    },
    {
      "cell_type": "code",
      "source": [
        "# declare MeasureConditionalQubits in Python\n",
        "MeasureConditionalQubits : any = None"
      ],
      "outputs": [],
      "execution_count": 15,
      "metadata": {
        "jupyter": {
          "source_hidden": false,
          "outputs_hidden": false
        },
        "nteract": {
          "transient": {
            "deleting": false
          }
        },
        "id": "-BFpH-lduQd3"
      }
    },
    {
      "cell_type": "code",
      "source": [
        "%%qsharp\n",
        "\n",
        "operation MeasureConditionalQubits(one : Bool) : Result {\n",
        "    \n",
        "    use q = Qubit();\n",
        "\n",
        "    if one {\n",
        "        //complete code;\n",
        "        X(q);\n",
        "    }\n",
        "\n",
        "    return M(q);//complete code;\n",
        "}"
      ],
      "outputs": [],
      "execution_count": 16,
      "metadata": {
        "jupyter": {
          "source_hidden": false,
          "outputs_hidden": false
        },
        "nteract": {
          "transient": {
            "deleting": false
          }
        },
        "microsoft": {
          "language": "qsharp"
        },
        "id": "8y8M3XZDuQd3"
      }
    },
    {
      "cell_type": "code",
      "source": [
        "# simulate MeasureConditionalQubits with one = True\n",
        "\n",
        "MeasureConditionalQubits.simulate(one=True)"
      ],
      "outputs": [
        {
          "output_type": "execute_result",
          "execution_count": 17,
          "data": {
            "text/plain": "1"
          },
          "metadata": {}
        }
      ],
      "execution_count": 17,
      "metadata": {
        "jupyter": {
          "source_hidden": false,
          "outputs_hidden": false
        },
        "nteract": {
          "transient": {
            "deleting": false
          }
        },
        "id": "n71-yrgEuQd3"
      }
    },
    {
      "cell_type": "code",
      "source": [
        "# simulate MeasureConditionalQubits with one = False\n",
        "MeasureConditionalQubits.simulate(one=False)"
      ],
      "outputs": [
        {
          "output_type": "execute_result",
          "execution_count": 18,
          "data": {
            "text/plain": "0"
          },
          "metadata": {}
        }
      ],
      "execution_count": 18,
      "metadata": {
        "jupyter": {
          "source_hidden": false,
          "outputs_hidden": false
        },
        "nteract": {
          "transient": {
            "deleting": false
          }
        },
        "id": "tNrbzK51uQd3"
      }
    },
    {
      "cell_type": "markdown",
      "source": [
        "### **Exercise #6: Running on Hardware (Practice Together)**"
      ],
      "metadata": {
        "nteract": {
          "transient": {
            "deleting": false
          }
        },
        "id": "j2F8JqdKuQd3"
      }
    },
    {
      "cell_type": "markdown",
      "source": [
        "Finally, let's review the entire process of creating quantum Q# operations and obtaining results. We are going to implement an operation that takes an `Int`, prepares an Array of that number of qubits in the $|+ \\rangle$ state, and returns the result of measuring them.\n",
        "\n",
        "1. Declare your operation in Python"
      ],
      "metadata": {
        "nteract": {
          "transient": {
            "deleting": false
          }
        },
        "id": "7Kko2z-tuQd3"
      }
    },
    {
      "cell_type": "code",
      "source": [
        "#declare MeasureNPluses operation in Python\n",
        "MeasureNPluses : any = None"
      ],
      "outputs": [],
      "execution_count": 19,
      "metadata": {
        "jupyter": {
          "source_hidden": false,
          "outputs_hidden": false
        },
        "nteract": {
          "transient": {
            "deleting": false
          }
        },
        "id": "TcigYYvMuQd3"
      }
    },
    {
      "cell_type": "markdown",
      "source": [
        "2. Implement your operation in Q#. "
      ],
      "metadata": {
        "nteract": {
          "transient": {
            "deleting": false
          }
        },
        "id": "lciy9cj9uQd4"
      }
    },
    {
      "cell_type": "code",
      "source": [
        "%%qsharp\n",
        "\n",
        "operation MeasureNPluses(num : Int) : Result[]{//complete this line {\n",
        "    \n",
        "    use qs = Qubit[num];\n",
        "\n",
        "    for i in 0 .. num - 1 {\n",
        "        //complete this line\n",
        "        H(qs[i]);\n",
        "    }\n",
        "\n",
        "    return MultiM(qs); //complete this line);\n",
        "}"
      ],
      "outputs": [],
      "execution_count": 20,
      "metadata": {
        "jupyter": {
          "source_hidden": false,
          "outputs_hidden": false
        },
        "nteract": {
          "transient": {
            "deleting": false
          }
        },
        "microsoft": {
          "language": "qsharp"
        },
        "id": "6c1J2685uQd4"
      }
    },
    {
      "cell_type": "markdown",
      "source": [
        "3. Simulate your operation with local simulator for quick confirmation."
      ],
      "metadata": {
        "nteract": {
          "transient": {
            "deleting": false
          }
        },
        "id": "NwHeYMUCuQd4"
      }
    },
    {
      "cell_type": "code",
      "source": [
        "#complete this code\n",
        "MeasureNPluses.simulate(num=4)"
      ],
      "outputs": [
        {
          "output_type": "execute_result",
          "execution_count": 21,
          "data": {
            "text/plain": "[1, 0, 0, 1]"
          },
          "metadata": {}
        }
      ],
      "execution_count": 21,
      "metadata": {
        "jupyter": {
          "source_hidden": false,
          "outputs_hidden": false
        },
        "nteract": {
          "transient": {
            "deleting": false
          }
        },
        "id": "Zl0h2VbOuQd4"
      }
    },
    {
      "cell_type": "markdown",
      "source": [
        "4. Print all the available targets."
      ],
      "metadata": {
        "nteract": {
          "transient": {
            "deleting": false
          }
        },
        "id": "8b6EunAruQd4"
      }
    },
    {
      "cell_type": "code",
      "source": [
        "print(\"Your available targets:\")\n",
        "\n",
        "for target in targets:\n",
        "    print(target.id)"
      ],
      "outputs": [
        {
          "output_type": "stream",
          "name": "stdout",
          "text": "Your available targets:\nionq.qpu\nionq.qpu.aria-1\nionq.simulator\nmicrosoft.estimator\nquantinuum.hqs-lt-s1\nquantinuum.hqs-lt-s1-apival\nquantinuum.hqs-lt-s2\nquantinuum.hqs-lt-s2-apival\nquantinuum.hqs-lt-s1-sim\nquantinuum.hqs-lt-s2-sim\nquantinuum.hqs-lt\nquantinuum.qpu.h1-1\nquantinuum.sim.h1-1sc\nquantinuum.qpu.h1-2\nquantinuum.sim.h1-2sc\nquantinuum.sim.h1-1e\nquantinuum.sim.h1-2e\nquantinuum.qpu.h1\nrigetti.sim.qvm\nrigetti.qpu.aspen-11\nrigetti.qpu.aspen-m-2\nrigetti.qpu.aspen-m-3\n"
        }
      ],
      "execution_count": 22,
      "metadata": {
        "jupyter": {
          "source_hidden": false,
          "outputs_hidden": false
        },
        "nteract": {
          "transient": {
            "deleting": false
          }
        },
        "id": "EtC4gnm1uQd4"
      }
    },
    {
      "cell_type": "markdown",
      "source": [
        "5. Select the target you'd like to use. "
      ],
      "metadata": {
        "nteract": {
          "transient": {
            "deleting": false
          }
        },
        "id": "idFESkqwuQd4"
      }
    },
    {
      "cell_type": "code",
      "source": [
        "qsharp.azure.target(\"ionq.simulator\")"
      ],
      "outputs": [
        {
          "output_type": "stream",
          "name": "stdout",
          "text": "Loading package Microsoft.Quantum.Providers.IonQ and dependencies...\nActive target is now ionq.simulator\n"
        },
        {
          "output_type": "execute_result",
          "execution_count": 23,
          "data": {
            "text/plain": "{'id': 'ionq.simulator', 'current_availability': {}, 'average_queue_time': 2}"
          },
          "metadata": {}
        }
      ],
      "execution_count": 23,
      "metadata": {
        "jupyter": {
          "source_hidden": false,
          "outputs_hidden": false
        },
        "nteract": {
          "transient": {
            "deleting": false
          }
        },
        "id": "KHr_64oyuQd4"
      }
    },
    {
      "cell_type": "markdown",
      "source": [
        "6. Run `execute` to send your operation to a target of your choice."
      ],
      "metadata": {
        "nteract": {
          "transient": {
            "deleting": false
          }
        },
        "id": "eJU_0hYMuQd4"
      }
    },
    {
      "cell_type": "code",
      "source": [
        "result = qsharp.azure.execute(MeasureNPluses, num = 4, shots = 100, jobName = \"MeasureNPluses\", timeout = 1000)"
      ],
      "outputs": [
        {
          "output_type": "stream",
          "name": "stdout",
          "text": "Submitting MeasureNPluses to target ionq.simulator...\nJob successfully submitted.\n   Job name: MeasureNPluses\n   Job ID: 59c9708f-621b-472f-ad88-1f85a3893618\nWaiting up to 1000 seconds for Azure Quantum job to complete...\n[21:02:15] Current job status: Waiting\n[21:02:20] Current job status: Succeeded\n"
        }
      ],
      "execution_count": 24,
      "metadata": {
        "jupyter": {
          "source_hidden": false,
          "outputs_hidden": false
        },
        "nteract": {
          "transient": {
            "deleting": false
          }
        },
        "id": "i395jz1NuQd4"
      }
    },
    {
      "cell_type": "markdown",
      "source": [
        "7. Visualize your results with a histogram."
      ],
      "metadata": {
        "nteract": {
          "transient": {
            "deleting": false
          }
        },
        "id": "wt8XTJOtuQd4"
      }
    },
    {
      "cell_type": "code",
      "source": [
        "pyplot.bar(result.keys(), result.values())\n",
        "\n",
        "pyplot.title(\"Result\")\n",
        "pyplot.xlabel(\"Measurement\")\n",
        "pyplot.ylabel(\"Probability\")\n",
        "pyplot.xticks(rotation = 90)\n",
        "\n",
        "pyplot.show()"
      ],
      "outputs": [
        {
          "output_type": "display_data",
          "data": {
            "text/plain": "<Figure size 640x480 with 1 Axes>",
            "image/png": "[encoded data removed]"
          },
          "metadata": {}
        }
      ],
      "execution_count": 25,
      "metadata": {
        "jupyter": {
          "source_hidden": false,
          "outputs_hidden": false
        },
        "nteract": {
          "transient": {
            "deleting": false
          }
        },
        "id": "ft0ClRiauQd4"
      }
    },
    {
      "cell_type": "markdown",
      "source": [
        "### **Some key points before we start.**\n",
        "Let's discuss a few implementation details: \n",
        "\n",
        "1. If Alice needs to encode a `0` into a qubit, she simply needs to use the command `use q = Qubit();` since qubits automatically start in the $| 0 \\rangle $ state.\n",
        "\n",
        "1. If Alice needs to encode a `1` into a qubit, she needs to apply an `X` gate to the qubit since:\n",
        "$$ X|0\\rangle = | 1 \\rangle$$\n",
        "\n",
        "1. If Alice randomly chooses to prepare a qubit in a superposition state, she can use the Hadamard gate since:\n",
        "$$ H|0\\rangle = | + \\rangle $$\n",
        "$$ H|1\\rangle = | - \\rangle $$\n",
        "\n",
        "1. If Bob randomly chooses to try taking a qubit out of superposition, he can also use the Hadamard gate since:\n",
        "$$ H|+\\rangle = | 0 \\rangle $$\n",
        "$$ H|-\\rangle = | 1 \\rangle $$\n",
        "\n",
        "1. Alice will encode her key by using a qubit for each bit of the key and applying an X gate if that bit is 1. She will then randomly choose some qubits to put into superposition and \"send\" them to Bob. Bob will then randomly choose some qubits to, hopefully, take out of superposition. He will then measure the qubits to decode them into bits that now represent his key.\n",
        "\n",
        "<br><br>\n",
        "\n",
        "**Technical Note:** When we apply an H gate right before measuring, we can actually say that we are \"measuring in a different basis\"- the Hadamard basis. It turns out that applying an H gate is the same as if we just rotated our view of the Bloch sphere so the x-axis were pointing up and down. For this reason, we also call this the X Basis. You are not responsible for knowing this, but it is worth being aware of since a lot of the discussion about QKD involves bases.\n",
        "\n",
        "The most important thing for you to know is that when someone says that Alice or Bob measures a certain qubit:\n",
        "* \"in the Z basis\", this is exactly the same as saying Alice or Bob chooses to not put this qubit in superposition.\n",
        "* \"in the X basis\", this is exactly the same as saying Alice or Bob chooses to put this qubit in superposition."
      ],
      "metadata": {
        "nteract": {
          "transient": {
            "deleting": false
          }
        },
        "id": "B8N-H7iSlkwe"
      }
    },
    {
      "cell_type": "markdown",
      "source": [
        "## **Part #2: Quantum Key Distribution (BB84)**\n",
        "---\n",
        "\n",
        "Now let's implement QKD. Specifically, we will write code that simulates the BB84 protocol between Alice and Bob such that:\n",
        "\n",
        "* The initial key Alice wants to share with Bob is 5 bits long and is represented by the array returned by the operation `AliceBits()`.\n",
        "\n",
        "* We represent Alice's choices about whether to put each qubit into superposition or not using an array returned by the operation `AliceChoices()`, where `AliceChoices()[i] = false` if she chooses not to put qubit `i` into superposition and `AliceChoices()[i] = true` if she does choose to put qubit `i` into superposition.\n",
        "\n",
        "* We represent Bob's choices and key in a similar way: `BobChoices()[i] = false` or `BobChoices()[i] = true` and `BobBits()`."
      ],
      "metadata": {
        "nteract": {
          "transient": {
            "deleting": false
          }
        },
        "id": "GetBXQSFlkwe"
      }
    },
    {
      "cell_type": "markdown",
      "source": [
        "### **Phases #1 - 2: Alice Sends the Key and Bob Receives It.**\n",
        "\n",
        "We will be defining multiple operations here, but still using our 3 step process."
      ],
      "metadata": {
        "nteract": {
          "transient": {
            "deleting": false
          }
        },
        "id": "eMQyux5Clkwe"
      }
    },
    {
      "cell_type": "markdown",
      "source": [
        "#### **1. Declare the operations in python.**"
      ],
      "metadata": {
        "nteract": {
          "transient": {
            "deleting": false
          }
        },
        "id": "GtY1TLTdlYOE"
      }
    },
    {
      "cell_type": "code",
      "source": [
        "GetAliceBits : any = None\n",
        "GetAliceChoices : any = None\n",
        "GetBobChoices : any = None\n",
        "SendAliceBob : any = None"
      ],
      "outputs": [],
      "execution_count": 28,
      "metadata": {
        "id": "1vPxUs9vlkQy"
      }
    },
    {
      "cell_type": "markdown",
      "source": [
        "#### **2. Create the operations in Q#.**\n"
      ],
      "metadata": {
        "nteract": {
          "transient": {
            "deleting": false
          }
        },
        "id": "0xnCR9oXleQR"
      }
    },
    {
      "cell_type": "code",
      "source": [
        "%%qsharp\n",
        "\n",
        "operation GetAliceBits(keyLength: Int) : Int[] {\n",
        "\n",
        "    return DrawMany(DrawRandomInt, keyLength, (0, 1));\n",
        "}\n",
        "\n",
        "\n",
        "operation GetAliceChoices(keyLength: Int) : Bool[] {\n",
        "\n",
        "    return DrawMany(DrawRandomBool, keyLength, 0.5);\n",
        "}\n",
        "\n",
        "\n",
        "operation GetBobChoices(keyLength: Int) : Bool[] {\n",
        "\n",
        "    return DrawMany(DrawRandomBool, keyLength, 0.5);\n",
        "}\n",
        "\n",
        "\n",
        "operation SendAliceBob(aliceBits : Int[], aliceChoices : Bool[], bobChoices : Bool[]) : Result[] {\n",
        "    \n",
        "    //Qubits initialized\n",
        "    let keyLength = Length(aliceBits)// COMPLETE THIS LINE\n",
        "    use qs = Qubit[keyLength];\n",
        "\n",
        "    // Alice encodes her key\n",
        "    //========================\n",
        "    for i in 0 .. Length(aliceBits) - 1{\n",
        "\n",
        "        // Encode a 1 into the |1> state\n",
        "        if aliceBits[i] == 1 {\n",
        "            // COMPLETE THIS LINE\n",
        "            X(qs[i]);\n",
        "        }\n",
        "\n",
        "        // Put Alice's random choice of qubits into superposition\n",
        "        if aliceChoices[i] {\n",
        "            // COMPLETE THIS LINE\n",
        "            H(qs[i]);\n",
        "        }\n",
        "    }\n",
        "\n",
        "    // Bob receives the key and\n",
        "    // acts according to his choices of superpositions\n",
        "    //=================================================\n",
        "    for i in 0 .. Length(qs) - 1 {\n",
        "\n",
        "        if bobChoices[i] {\n",
        "            // COMPLETE THIS LINE\n",
        "            H(qs[i]);\n",
        "        }\n",
        "    }\n",
        "\n",
        "    // Bob measures the qubits\n",
        "    // to decode the key\n",
        "    //========================\n",
        "    return MultiM(qs);\n",
        "}"
      ],
      "outputs": [
        {
          "output_type": "stream",
          "name": "stdout",
          "text": "\u001b[41m\u001b[30mfail\u001b[39m\u001b[22m\u001b[49m: Microsoft.Quantum.IQSharp.Snippets[0]\n      QS2003 (/snippet_.qs:Microsoft.VisualStudio.LanguageServer.Protocol.Range): Expecting semicolon.\n"
        },
        {
          "output_type": "error",
          "ename": "TypeError",
          "evalue": "'NoneType' object is not iterable",
          "traceback": [
            "\u001b[0;31m---------------------------------------------------------------------------\u001b[0m",
            "\u001b[0;31mTypeError\u001b[0m                                 Traceback (most recent call last)",
            "Cell \u001b[0;32mIn[29], line 1\u001b[0m\n\u001b[0;32m----> 1\u001b[0m \u001b[43mget_ipython\u001b[49m\u001b[43m(\u001b[49m\u001b[43m)\u001b[49m\u001b[38;5;241;43m.\u001b[39;49m\u001b[43mrun_cell_magic\u001b[49m\u001b[43m(\u001b[49m\u001b[38;5;124;43m'\u001b[39;49m\u001b[38;5;124;43mqsharp\u001b[39;49m\u001b[38;5;124;43m'\u001b[39;49m\u001b[43m,\u001b[49m\u001b[43m \u001b[49m\u001b[38;5;124;43m'\u001b[39;49m\u001b[38;5;124;43m'\u001b[39;49m\u001b[43m,\u001b[49m\u001b[43m \u001b[49m\u001b[38;5;124;43m\"\u001b[39;49m\u001b[38;5;130;43;01m\\n\u001b[39;49;00m\u001b[38;5;124;43moperation GetAliceBits(keyLength: Int) : Int[] \u001b[39;49m\u001b[38;5;124;43m{\u001b[39;49m\u001b[38;5;130;43;01m\\n\u001b[39;49;00m\u001b[38;5;130;43;01m\\n\u001b[39;49;00m\u001b[38;5;124;43m    return DrawMany(DrawRandomInt, keyLength, (0, 1));\u001b[39;49m\u001b[38;5;130;43;01m\\n\u001b[39;49;00m\u001b[38;5;124;43m}\u001b[39;49m\u001b[38;5;130;43;01m\\n\u001b[39;49;00m\u001b[38;5;130;43;01m\\n\u001b[39;49;00m\u001b[38;5;130;43;01m\\n\u001b[39;49;00m\u001b[38;5;124;43moperation GetAliceChoices(keyLength: Int) : Bool[] \u001b[39;49m\u001b[38;5;124;43m{\u001b[39;49m\u001b[38;5;130;43;01m\\n\u001b[39;49;00m\u001b[38;5;130;43;01m\\n\u001b[39;49;00m\u001b[38;5;124;43m    return DrawMany(DrawRandomBool, keyLength, 0.5);\u001b[39;49m\u001b[38;5;130;43;01m\\n\u001b[39;49;00m\u001b[38;5;124;43m}\u001b[39;49m\u001b[38;5;130;43;01m\\n\u001b[39;49;00m\u001b[38;5;130;43;01m\\n\u001b[39;49;00m\u001b[38;5;130;43;01m\\n\u001b[39;49;00m\u001b[38;5;124;43moperation GetBobChoices(keyLength: Int) : Bool[] \u001b[39;49m\u001b[38;5;124;43m{\u001b[39;49m\u001b[38;5;130;43;01m\\n\u001b[39;49;00m\u001b[38;5;130;43;01m\\n\u001b[39;49;00m\u001b[38;5;124;43m    return DrawMany(DrawRandomBool, keyLength, 0.5);\u001b[39;49m\u001b[38;5;130;43;01m\\n\u001b[39;49;00m\u001b[38;5;124;43m}\u001b[39;49m\u001b[38;5;130;43;01m\\n\u001b[39;49;00m\u001b[38;5;130;43;01m\\n\u001b[39;49;00m\u001b[38;5;130;43;01m\\n\u001b[39;49;00m\u001b[38;5;124;43moperation SendAliceBob(aliceBits : Int[], aliceChoices : Bool[], bobChoices : Bool[]) : Result[] \u001b[39;49m\u001b[38;5;124;43m{\u001b[39;49m\u001b[38;5;130;43;01m\\n\u001b[39;49;00m\u001b[38;5;124;43m    \u001b[39;49m\u001b[38;5;130;43;01m\\n\u001b[39;49;00m\u001b[38;5;124;43m    //Qubits initialized\u001b[39;49m\u001b[38;5;130;43;01m\\n\u001b[39;49;00m\u001b[38;5;124;43m    let keyLength = Length(aliceBits)// COMPLETE THIS LINE\u001b[39;49m\u001b[38;5;130;43;01m\\n\u001b[39;49;00m\u001b[38;5;124;43m    use qs = Qubit[keyLength];\u001b[39;49m\u001b[38;5;130;43;01m\\n\u001b[39;49;00m\u001b[38;5;130;43;01m\\n\u001b[39;49;00m\u001b[38;5;124;43m    // Alice encodes her key\u001b[39;49m\u001b[38;5;130;43;01m\\n\u001b[39;49;00m\u001b[38;5;124;43m    //========================\u001b[39;49m\u001b[38;5;130;43;01m\\n\u001b[39;49;00m\u001b[38;5;124;43m    for i in 0 .. Length(aliceBits) - 1\u001b[39;49m\u001b[38;5;124;43m{\u001b[39;49m\u001b[38;5;130;43;01m\\n\u001b[39;49;00m\u001b[38;5;130;43;01m\\n\u001b[39;49;00m\u001b[38;5;124;43m        // Encode a 1 into the |1> state\u001b[39;49m\u001b[38;5;130;43;01m\\n\u001b[39;49;00m\u001b[38;5;124;43m        if aliceBits[i] == 1 \u001b[39;49m\u001b[38;5;124;43m{\u001b[39;49m\u001b[38;5;130;43;01m\\n\u001b[39;49;00m\u001b[38;5;124;43m            // COMPLETE THIS LINE\u001b[39;49m\u001b[38;5;130;43;01m\\n\u001b[39;49;00m\u001b[38;5;124;43m            X(qs[i]);\u001b[39;49m\u001b[38;5;130;43;01m\\n\u001b[39;49;00m\u001b[38;5;124;43m        }\u001b[39;49m\u001b[38;5;130;43;01m\\n\u001b[39;49;00m\u001b[38;5;130;43;01m\\n\u001b[39;49;00m\u001b[38;5;124;43m        // Put Alice\u001b[39;49m\u001b[38;5;124;43m'\u001b[39;49m\u001b[38;5;124;43ms random choice of qubits into superposition\u001b[39;49m\u001b[38;5;130;43;01m\\n\u001b[39;49;00m\u001b[38;5;124;43m        if aliceChoices[i] \u001b[39;49m\u001b[38;5;124;43m{\u001b[39;49m\u001b[38;5;130;43;01m\\n\u001b[39;49;00m\u001b[38;5;124;43m            // COMPLETE THIS LINE\u001b[39;49m\u001b[38;5;130;43;01m\\n\u001b[39;49;00m\u001b[38;5;124;43m            H(qs[i]);\u001b[39;49m\u001b[38;5;130;43;01m\\n\u001b[39;49;00m\u001b[38;5;124;43m        }\u001b[39;49m\u001b[38;5;130;43;01m\\n\u001b[39;49;00m\u001b[38;5;124;43m    }\u001b[39;49m\u001b[38;5;130;43;01m\\n\u001b[39;49;00m\u001b[38;5;130;43;01m\\n\u001b[39;49;00m\u001b[38;5;124;43m    // Bob receives the key and\u001b[39;49m\u001b[38;5;130;43;01m\\n\u001b[39;49;00m\u001b[38;5;124;43m    // acts according to his choices of superpositions\u001b[39;49m\u001b[38;5;130;43;01m\\n\u001b[39;49;00m\u001b[38;5;124;43m    //=================================================\u001b[39;49m\u001b[38;5;130;43;01m\\n\u001b[39;49;00m\u001b[38;5;124;43m    for i in 0 .. Length(qs) - 1 \u001b[39;49m\u001b[38;5;124;43m{\u001b[39;49m\u001b[38;5;130;43;01m\\n\u001b[39;49;00m\u001b[38;5;130;43;01m\\n\u001b[39;49;00m\u001b[38;5;124;43m        if bobChoices[i] \u001b[39;49m\u001b[38;5;124;43m{\u001b[39;49m\u001b[38;5;130;43;01m\\n\u001b[39;49;00m\u001b[38;5;124;43m            // COMPLETE THIS LINE\u001b[39;49m\u001b[38;5;130;43;01m\\n\u001b[39;49;00m\u001b[38;5;124;43m            H(qs[i]);\u001b[39;49m\u001b[38;5;130;43;01m\\n\u001b[39;49;00m\u001b[38;5;124;43m        }\u001b[39;49m\u001b[38;5;130;43;01m\\n\u001b[39;49;00m\u001b[38;5;124;43m    }\u001b[39;49m\u001b[38;5;130;43;01m\\n\u001b[39;49;00m\u001b[38;5;130;43;01m\\n\u001b[39;49;00m\u001b[38;5;124;43m    // Bob measures the qubits\u001b[39;49m\u001b[38;5;130;43;01m\\n\u001b[39;49;00m\u001b[38;5;124;43m    // to decode the key\u001b[39;49m\u001b[38;5;130;43;01m\\n\u001b[39;49;00m\u001b[38;5;124;43m    //========================\u001b[39;49m\u001b[38;5;130;43;01m\\n\u001b[39;49;00m\u001b[38;5;124;43m    return MultiM(qs);\u001b[39;49m\u001b[38;5;130;43;01m\\n\u001b[39;49;00m\u001b[38;5;124;43m}\u001b[39;49m\u001b[38;5;130;43;01m\\n\u001b[39;49;00m\u001b[38;5;124;43m\"\u001b[39;49m\u001b[43m)\u001b[49m\n",
            "File \u001b[0;32m/usr/local/lib/python3.9/site-packages/IPython/core/interactiveshell.py:2422\u001b[0m, in \u001b[0;36mInteractiveShell.run_cell_magic\u001b[0;34m(self, magic_name, line, cell)\u001b[0m\n\u001b[1;32m   2420\u001b[0m \u001b[38;5;28;01mwith\u001b[39;00m \u001b[38;5;28mself\u001b[39m\u001b[38;5;241m.\u001b[39mbuiltin_trap:\n\u001b[1;32m   2421\u001b[0m     args \u001b[38;5;241m=\u001b[39m (magic_arg_s, cell)\n\u001b[0;32m-> 2422\u001b[0m     result \u001b[38;5;241m=\u001b[39m \u001b[43mfn\u001b[49m\u001b[43m(\u001b[49m\u001b[38;5;241;43m*\u001b[39;49m\u001b[43margs\u001b[49m\u001b[43m,\u001b[49m\u001b[43m \u001b[49m\u001b[38;5;241;43m*\u001b[39;49m\u001b[38;5;241;43m*\u001b[39;49m\u001b[43mkwargs\u001b[49m\u001b[43m)\u001b[49m\n\u001b[1;32m   2423\u001b[0m \u001b[38;5;28;01mreturn\u001b[39;00m result\n",
            "File \u001b[0;32m/usr/local/lib/python3.9/site-packages/qsharp/ipython_magic.py:28\u001b[0m, in \u001b[0;36mregister_magics.<locals>.qsharp\u001b[0;34m(magic_args, cell, local_ns)\u001b[0m\n\u001b[1;32m     26\u001b[0m     local_ns[callables\u001b[38;5;241m.\u001b[39m_name] \u001b[38;5;241m=\u001b[39m callables\n\u001b[1;32m     27\u001b[0m \u001b[38;5;28;01melse\u001b[39;00m:\n\u001b[0;32m---> 28\u001b[0m     \u001b[38;5;28;01mfor\u001b[39;00m qs_callable \u001b[38;5;129;01min\u001b[39;00m callables:\n\u001b[1;32m     29\u001b[0m         local_ns[qs_callable\u001b[38;5;241m.\u001b[39m_name] \u001b[38;5;241m=\u001b[39m qs_callable\n",
            "\u001b[0;31mTypeError\u001b[0m: 'NoneType' object is not iterable"
          ]
        }
      ],
      "execution_count": 29,
      "metadata": {
        "id": "UYa8vsSclHDq",
        "microsoft": {
          "language": "qsharp"
        }
      }
    },
    {
      "cell_type": "markdown",
      "source": [
        "#### **3. Simulate the operation in python and visualize.**\n",
        "\n",
        "**Run the code below to simulate this exercise and see the distribution of measurement results.**"
      ],
      "metadata": {
        "nteract": {
          "transient": {
            "deleting": false
          }
        },
        "id": "AqxV7Oz2lgud"
      }
    },
    {
      "cell_type": "code",
      "source": [
        "keyLength = 5\n",
        "\n",
        "# STEPS #1 - 2\n",
        "aliceBits = GetAliceBits.simulate(keyLength = keyLength)\n",
        "aliceChoices = GetAliceChoices(keyLength = keyLength)\n",
        "\n",
        "print(\"Alice's bits: \" + str(aliceBits))\n",
        "print(\"Alice's choices: \" + str(aliceChoices))\n",
        "print(\"\\n\")\n",
        "\n",
        "\n",
        "# STEPS #3 - 5\n",
        "bobChoices = GetBobChoices.simulate(keyLength = keyLength)\n",
        "bobBits = SendAliceBob.simulate(aliceBits = aliceBits, aliceChoices = aliceChoices, bobChoices = bobChoices)\n",
        "\n",
        "\n",
        "print(\"Bob's choices: \" + str(bobChoices))\n",
        "print(\"Bob's bits: \" + str(bobBits))\n",
        "print(\"\\n\")"
      ],
      "outputs": [
        {
          "output_type": "error",
          "ename": "AttributeError",
          "evalue": "'NoneType' object has no attribute 'simulate'",
          "traceback": [
            "\u001b[0;31m---------------------------------------------------------------------------\u001b[0m",
            "\u001b[0;31mAttributeError\u001b[0m                            Traceback (most recent call last)",
            "Cell \u001b[0;32mIn[77], line 4\u001b[0m\n\u001b[1;32m      1\u001b[0m keyLength \u001b[38;5;241m=\u001b[39m \u001b[38;5;241m5\u001b[39m\n\u001b[1;32m      3\u001b[0m \u001b[38;5;66;03m# STEPS #1 - 2\u001b[39;00m\n\u001b[0;32m----> 4\u001b[0m aliceBits \u001b[38;5;241m=\u001b[39m \u001b[43mGetAliceBits\u001b[49m\u001b[38;5;241;43m.\u001b[39;49m\u001b[43msimulate\u001b[49m(keyLength \u001b[38;5;241m=\u001b[39m keyLength)\n\u001b[1;32m      5\u001b[0m aliceChoices \u001b[38;5;241m=\u001b[39m GetAliceChoices(keyLength \u001b[38;5;241m=\u001b[39m keyLength)\n\u001b[1;32m      7\u001b[0m \u001b[38;5;28mprint\u001b[39m(\u001b[38;5;124m\"\u001b[39m\u001b[38;5;124mAlice\u001b[39m\u001b[38;5;124m'\u001b[39m\u001b[38;5;124ms bits: \u001b[39m\u001b[38;5;124m\"\u001b[39m \u001b[38;5;241m+\u001b[39m \u001b[38;5;28mstr\u001b[39m(aliceBits))\n",
            "\u001b[0;31mAttributeError\u001b[0m: 'NoneType' object has no attribute 'simulate'"
          ]
        }
      ],
      "execution_count": 77,
      "metadata": {
        "jupyter": {
          "source_hidden": false,
          "outputs_hidden": false
        },
        "nteract": {
          "transient": {
            "deleting": false
          }
        },
        "id": "pfWmW8zkZjSW"
      }
    },
    {
      "cell_type": "markdown",
      "source": [
        "### **Phase #3: Alice \"calls\" Bob and they compare their choices for superposition bits to determine their new key.**"
      ],
      "metadata": {
        "nteract": {
          "transient": {
            "deleting": false
          }
        },
        "id": "2ACAW9TIlkwf"
      }
    },
    {
      "cell_type": "markdown",
      "source": [
        "#### **Step #6: Alice and Bob compare notes and create their keys**\n",
        "\n",
        "**Together**, let's write an operation that compares Alice's and Bob's choices for superposition bits and creates a key based on this."
      ],
      "metadata": {
        "nteract": {
          "transient": {
            "deleting": false
          }
        },
        "id": "gn8AGTBKlkwf"
      }
    },
    {
      "cell_type": "markdown",
      "source": [
        "##### **1. Declare the operation in python.**\n",
        "\n",
        "Let's call it `GenerateKey`."
      ],
      "metadata": {
        "nteract": {
          "transient": {
            "deleting": false
          }
        },
        "id": "R9POFgeCpUYl"
      }
    },
    {
      "cell_type": "code",
      "source": [
        "GenerateKey : any = None"
      ],
      "outputs": [],
      "execution_count": 30,
      "metadata": {
        "jupyter": {
          "source_hidden": false,
          "outputs_hidden": false
        },
        "nteract": {
          "transient": {
            "deleting": false
          }
        },
        "id": "vIm13xQ5pUYl"
      }
    },
    {
      "cell_type": "markdown",
      "source": [
        "##### **2. Create the operation in Q#.**"
      ],
      "metadata": {
        "nteract": {
          "transient": {
            "deleting": false
          }
        },
        "id": "oSHwfFnspUYl"
      }
    },
    {
      "cell_type": "code",
      "source": [
        "%%qsharp\n",
        "\n",
        "operation GenerateKey(bits : Int[], aliceChoices : Bool[], bobChoices : Bool[]) : Int[] {\n",
        "\n",
        "    // Count how many choices they agreed for\n",
        "    mutable count = 0;\n",
        "    for i in 0 .. Length(aliceChoices) - 1 {\n",
        "\n",
        "        if aliceChoices[i] == bobChoices[i] {\n",
        "            set count // COMPLETE THIS LINE\n",
        "        }\n",
        "    }\n",
        "\n",
        "    // Create the key\n",
        "    mutable key = [0, size =  count];// COMPLETE THIS LINE\n",
        "    mutable keyID = 0;\n",
        "    for i in 0 .. Length(aliceChoices) - 1 {\n",
        "\n",
        "        if  aliceChoices[i] == bobChoices[i]{ // COMPLETE THIS LINE\n",
        "            set key w/= keyID <- bits[i];\n",
        "            set keyID += 1;\n",
        "        }\n",
        "    }\n",
        "    \n",
        "    return  key;// COMPLETE THIS LINE\n",
        "}"
      ],
      "outputs": [
        {
          "output_type": "stream",
          "name": "stdout",
          "text": "\u001b[41m\u001b[30mfail\u001b[39m\u001b[22m\u001b[49m: Microsoft.Quantum.IQSharp.Snippets[0]\n      QS3102 (/snippet_.qs:Microsoft.VisualStudio.LanguageServer.Protocol.Range): Expecting expression.\n\u001b[41m\u001b[30mfail\u001b[39m\u001b[22m\u001b[49m: Microsoft.Quantum.IQSharp.Snippets[0]\n      QS3112 (/snippet_.qs:Microsoft.VisualStudio.LanguageServer.Protocol.Range): Expecting assignment (\"=\").\n"
        },
        {
          "output_type": "error",
          "ename": "TypeError",
          "evalue": "'NoneType' object is not iterable",
          "traceback": [
            "\u001b[0;31m---------------------------------------------------------------------------\u001b[0m",
            "\u001b[0;31mTypeError\u001b[0m                                 Traceback (most recent call last)",
            "Cell \u001b[0;32mIn[31], line 1\u001b[0m\n\u001b[0;32m----> 1\u001b[0m \u001b[43mget_ipython\u001b[49m\u001b[43m(\u001b[49m\u001b[43m)\u001b[49m\u001b[38;5;241;43m.\u001b[39;49m\u001b[43mrun_cell_magic\u001b[49m\u001b[43m(\u001b[49m\u001b[38;5;124;43m'\u001b[39;49m\u001b[38;5;124;43mqsharp\u001b[39;49m\u001b[38;5;124;43m'\u001b[39;49m\u001b[43m,\u001b[49m\u001b[43m \u001b[49m\u001b[38;5;124;43m'\u001b[39;49m\u001b[38;5;124;43m'\u001b[39;49m\u001b[43m,\u001b[49m\u001b[43m \u001b[49m\u001b[38;5;124;43m'\u001b[39;49m\u001b[38;5;130;43;01m\\n\u001b[39;49;00m\u001b[38;5;124;43moperation GenerateKey(bits : Int[], aliceChoices : Bool[], bobChoices : Bool[]) : Int[] \u001b[39;49m\u001b[38;5;124;43m{\u001b[39;49m\u001b[38;5;130;43;01m\\n\u001b[39;49;00m\u001b[38;5;130;43;01m\\n\u001b[39;49;00m\u001b[38;5;124;43m    // Count how many choices they agreed for\u001b[39;49m\u001b[38;5;130;43;01m\\n\u001b[39;49;00m\u001b[38;5;124;43m    mutable count = 0;\u001b[39;49m\u001b[38;5;130;43;01m\\n\u001b[39;49;00m\u001b[38;5;124;43m    for i in 0 .. Length(aliceChoices) - 1 \u001b[39;49m\u001b[38;5;124;43m{\u001b[39;49m\u001b[38;5;130;43;01m\\n\u001b[39;49;00m\u001b[38;5;130;43;01m\\n\u001b[39;49;00m\u001b[38;5;124;43m        if aliceChoices[i] == bobChoices[i] \u001b[39;49m\u001b[38;5;124;43m{\u001b[39;49m\u001b[38;5;130;43;01m\\n\u001b[39;49;00m\u001b[38;5;124;43m            set count // COMPLETE THIS LINE\u001b[39;49m\u001b[38;5;130;43;01m\\n\u001b[39;49;00m\u001b[38;5;124;43m        }\u001b[39;49m\u001b[38;5;130;43;01m\\n\u001b[39;49;00m\u001b[38;5;124;43m    }\u001b[39;49m\u001b[38;5;130;43;01m\\n\u001b[39;49;00m\u001b[38;5;130;43;01m\\n\u001b[39;49;00m\u001b[38;5;124;43m    // Create the key\u001b[39;49m\u001b[38;5;130;43;01m\\n\u001b[39;49;00m\u001b[38;5;124;43m    mutable key = [0, size =  count];// COMPLETE THIS LINE\u001b[39;49m\u001b[38;5;130;43;01m\\n\u001b[39;49;00m\u001b[38;5;124;43m    mutable keyID = 0;\u001b[39;49m\u001b[38;5;130;43;01m\\n\u001b[39;49;00m\u001b[38;5;124;43m    for i in 0 .. Length(aliceChoices) - 1 \u001b[39;49m\u001b[38;5;124;43m{\u001b[39;49m\u001b[38;5;130;43;01m\\n\u001b[39;49;00m\u001b[38;5;130;43;01m\\n\u001b[39;49;00m\u001b[38;5;124;43m        if  aliceChoices[i] == bobChoices[i]\u001b[39;49m\u001b[38;5;124;43m{\u001b[39;49m\u001b[38;5;124;43m // COMPLETE THIS LINE\u001b[39;49m\u001b[38;5;130;43;01m\\n\u001b[39;49;00m\u001b[38;5;124;43m            set key w/= keyID <- bits[i];\u001b[39;49m\u001b[38;5;130;43;01m\\n\u001b[39;49;00m\u001b[38;5;124;43m            set keyID += 1;\u001b[39;49m\u001b[38;5;130;43;01m\\n\u001b[39;49;00m\u001b[38;5;124;43m        }\u001b[39;49m\u001b[38;5;130;43;01m\\n\u001b[39;49;00m\u001b[38;5;124;43m    }\u001b[39;49m\u001b[38;5;130;43;01m\\n\u001b[39;49;00m\u001b[38;5;124;43m    \u001b[39;49m\u001b[38;5;130;43;01m\\n\u001b[39;49;00m\u001b[38;5;124;43m    return  key;// COMPLETE THIS LINE\u001b[39;49m\u001b[38;5;130;43;01m\\n\u001b[39;49;00m\u001b[38;5;124;43m}\u001b[39;49m\u001b[38;5;130;43;01m\\n\u001b[39;49;00m\u001b[38;5;124;43m'\u001b[39;49m\u001b[43m)\u001b[49m\n",
            "File \u001b[0;32m/usr/local/lib/python3.9/site-packages/IPython/core/interactiveshell.py:2422\u001b[0m, in \u001b[0;36mInteractiveShell.run_cell_magic\u001b[0;34m(self, magic_name, line, cell)\u001b[0m\n\u001b[1;32m   2420\u001b[0m \u001b[38;5;28;01mwith\u001b[39;00m \u001b[38;5;28mself\u001b[39m\u001b[38;5;241m.\u001b[39mbuiltin_trap:\n\u001b[1;32m   2421\u001b[0m     args \u001b[38;5;241m=\u001b[39m (magic_arg_s, cell)\n\u001b[0;32m-> 2422\u001b[0m     result \u001b[38;5;241m=\u001b[39m \u001b[43mfn\u001b[49m\u001b[43m(\u001b[49m\u001b[38;5;241;43m*\u001b[39;49m\u001b[43margs\u001b[49m\u001b[43m,\u001b[49m\u001b[43m \u001b[49m\u001b[38;5;241;43m*\u001b[39;49m\u001b[38;5;241;43m*\u001b[39;49m\u001b[43mkwargs\u001b[49m\u001b[43m)\u001b[49m\n\u001b[1;32m   2423\u001b[0m \u001b[38;5;28;01mreturn\u001b[39;00m result\n",
            "File \u001b[0;32m/usr/local/lib/python3.9/site-packages/qsharp/ipython_magic.py:28\u001b[0m, in \u001b[0;36mregister_magics.<locals>.qsharp\u001b[0;34m(magic_args, cell, local_ns)\u001b[0m\n\u001b[1;32m     26\u001b[0m     local_ns[callables\u001b[38;5;241m.\u001b[39m_name] \u001b[38;5;241m=\u001b[39m callables\n\u001b[1;32m     27\u001b[0m \u001b[38;5;28;01melse\u001b[39;00m:\n\u001b[0;32m---> 28\u001b[0m     \u001b[38;5;28;01mfor\u001b[39;00m qs_callable \u001b[38;5;129;01min\u001b[39;00m callables:\n\u001b[1;32m     29\u001b[0m         local_ns[qs_callable\u001b[38;5;241m.\u001b[39m_name] \u001b[38;5;241m=\u001b[39m qs_callable\n",
            "\u001b[0;31mTypeError\u001b[0m: 'NoneType' object is not iterable"
          ]
        },
        {
          "output_type": "stream",
          "name": "stderr",
          "text": "/snippet_.qs(9,22): error QS3102: Expecting expression.\n/snippet_.qs(9,22): error QS3112: Expecting assignment (\"=\").\n"
        }
      ],
      "execution_count": 31,
      "metadata": {
        "jupyter": {
          "source_hidden": false,
          "outputs_hidden": false
        },
        "nteract": {
          "transient": {
            "deleting": false
          }
        },
        "microsoft": {
          "language": "qsharp"
        },
        "id": "3Go_6WSBpUYl"
      }
    },
    {
      "cell_type": "markdown",
      "source": [
        "#### **Step #7: Checking the shared key**\n",
        "\n",
        "Now that Alice and Bob have discarded the bits where their choices were not the same, the remaining bits form a shared key. To verify that the Eve did not intercept and the protocol is secure, they share a chosen sample of their key and ensure that it matches. \n",
        "\n",
        "1. If they find that the shared sample from both Alice and Bob has matched, they discard these bits and use the rest of the shared key. \n",
        "\n",
        "2. If they find out that the shared sample does not match, they know that Eve has intercepted! They would need to start the process all over again.\n",
        "\n",
        "<br>\n",
        "\n",
        "**Together**, let's implement this as follows:\n",
        "* Alice and Bob compare the first half of the key.\n",
        "* If these bits are all the same, then return `true`.\n",
        "* If any of these bits are different, then return `false`."
      ],
      "metadata": {
        "nteract": {
          "transient": {
            "deleting": false
          }
        },
        "id": "0mRQNTNJlkwf"
      }
    },
    {
      "cell_type": "markdown",
      "source": [
        "##### **1. Declare the operation in python.**\n",
        "\n",
        "Let's call it `IsSecureKey`."
      ],
      "metadata": {
        "nteract": {
          "transient": {
            "deleting": false
          }
        },
        "id": "z5_Wnz16pUYp"
      }
    },
    {
      "cell_type": "code",
      "source": [
        "IsSecureKey : any = None"
      ],
      "outputs": [],
      "execution_count": 32,
      "metadata": {
        "jupyter": {
          "source_hidden": false,
          "outputs_hidden": false
        },
        "nteract": {
          "transient": {
            "deleting": false
          }
        },
        "id": "iidep2uVpUYr"
      }
    },
    {
      "cell_type": "markdown",
      "source": [
        "##### **2. Create the operation in Q#.**"
      ],
      "metadata": {
        "nteract": {
          "transient": {
            "deleting": false
          }
        },
        "id": "-XYAQxQIpUYr"
      }
    },
    {
      "cell_type": "code",
      "source": [
        "%%qsharp\n",
        "\n",
        "operation IsSecureKey(aliceKey : Int[], bobKey : Int[]) : Bool {\n",
        "\n",
        "    for i in 0 .. Length(aliceKey) / 2 {\n",
        "\n",
        "        if aliceKey[i] != bobKey[i]{\n",
        "            return false; // COMPLETE THIS LINE\n",
        "        }\n",
        "    }\n",
        "\n",
        "    return true;// COMPLETE THIS LINE\n",
        "}"
      ],
      "outputs": [],
      "execution_count": 33,
      "metadata": {
        "jupyter": {
          "source_hidden": false,
          "outputs_hidden": false
        },
        "nteract": {
          "transient": {
            "deleting": false
          }
        },
        "microsoft": {
          "language": "qsharp"
        },
        "id": "nESAeXiKpUYs"
      }
    },
    {
      "cell_type": "markdown",
      "source": [
        "### **Running the Full Protocol**\n",
        "\n",
        "In the space below, we combine all these components to run the protocol in full for Alice and Bob."
      ],
      "metadata": {
        "nteract": {
          "transient": {
            "deleting": false
          }
        },
        "id": "RrULa3k6ZjSX"
      }
    },
    {
      "cell_type": "code",
      "source": [
        "keyLength = 10\n",
        "\n",
        "# STEPS #1 - 2\n",
        "aliceBits = GetAliceBits.simulate(keyLength = keyLength)\n",
        "aliceChoices = GetAliceChoices(keyLength = keyLength)\n",
        "\n",
        "print(\"Alice's bits: \" + str(aliceBits))\n",
        "print(\"Alice's choices: \" + str(aliceChoices))\n",
        "print(\"\\n\")\n",
        "\n",
        "\n",
        "# STEPS #3 - 5\n",
        "bobChoices = GetBobChoices.simulate(keyLength = keyLength)\n",
        "bobBits = SendAliceBob.simulate(aliceBits = aliceBits, aliceChoices = aliceChoices, bobChoices = bobChoices)\n",
        "\n",
        "print(\"Bob's choices: \" + str(bobChoices))\n",
        "print(\"Bob's bits: \" + str(bobBits))\n",
        "print(\"\\n\")\n",
        "\n",
        "\n",
        "# STEP #6\n",
        "aliceKey = GenerateKey.simulate(bits = aliceBits, aliceChoices = aliceChoices, bobChoices = bobChoices)\n",
        "bobKey = GenerateKey.simulate(bits = bobBits, aliceChoices = aliceChoices, bobChoices = bobChoices)\n",
        "\n",
        "print(\"Alice's key: \" + str(aliceKey))\n",
        "print(\"Bob's key: \" + str(bobKey))\n",
        "print(\"\\n\")\n",
        "\n",
        "\n",
        "# STEP #7\n",
        "if IsSecureKey.simulate(aliceKey = aliceKey, bobKey = bobKey):\n",
        "\n",
        "    aliceKey = aliceKey[len(aliceKey) // 2: ]\n",
        "    bobKey = bobKey[len(bobKey) // 2: ]\n",
        "\n",
        "    print(\"Key seems secure! They will now use: \")\n",
        "    print(\"Alice's key: \" + str(aliceKey))\n",
        "    print(\"Bob's key: \" + str(bobKey))\n",
        "\n",
        "else:\n",
        "    print(\"Alice and Bob have detected Eve's interception!\")"
      ],
      "outputs": [
        {
          "output_type": "error",
          "ename": "AttributeError",
          "evalue": "'NoneType' object has no attribute 'simulate'",
          "traceback": [
            "\u001b[0;31m---------------------------------------------------------------------------\u001b[0m",
            "\u001b[0;31mAttributeError\u001b[0m                            Traceback (most recent call last)",
            "Cell \u001b[0;32mIn[34], line 4\u001b[0m\n\u001b[1;32m      1\u001b[0m keyLength \u001b[38;5;241m=\u001b[39m \u001b[38;5;241m10\u001b[39m\n\u001b[1;32m      3\u001b[0m \u001b[38;5;66;03m# STEPS #1 - 2\u001b[39;00m\n\u001b[0;32m----> 4\u001b[0m aliceBits \u001b[38;5;241m=\u001b[39m \u001b[43mGetAliceBits\u001b[49m\u001b[38;5;241;43m.\u001b[39;49m\u001b[43msimulate\u001b[49m(keyLength \u001b[38;5;241m=\u001b[39m keyLength)\n\u001b[1;32m      5\u001b[0m aliceChoices \u001b[38;5;241m=\u001b[39m GetAliceChoices(keyLength \u001b[38;5;241m=\u001b[39m keyLength)\n\u001b[1;32m      7\u001b[0m \u001b[38;5;28mprint\u001b[39m(\u001b[38;5;124m\"\u001b[39m\u001b[38;5;124mAlice\u001b[39m\u001b[38;5;124m'\u001b[39m\u001b[38;5;124ms bits: \u001b[39m\u001b[38;5;124m\"\u001b[39m \u001b[38;5;241m+\u001b[39m \u001b[38;5;28mstr\u001b[39m(aliceBits))\n",
            "\u001b[0;31mAttributeError\u001b[0m: 'NoneType' object has no attribute 'simulate'"
          ]
        }
      ],
      "execution_count": 34,
      "metadata": {
        "jupyter": {
          "source_hidden": false,
          "outputs_hidden": false
        },
        "nteract": {
          "transient": {
            "deleting": false
          }
        },
        "id": "hsuQujU3pUYt"
      }
    },
    {
      "cell_type": "markdown",
      "source": [
        "---\n",
        "\n",
        "<center>\n",
        "\n",
        "### **Congratulations! You have just implemented the Full BB84 protocol between Alice and Bob in Q#.**\n",
        "\n",
        "</center>\n",
        "\n",
        "---"
      ],
      "metadata": {
        "nteract": {
          "transient": {
            "deleting": false
          }
        },
        "id": "NTZydyoTpUYu"
      }
    },
    {
      "cell_type": "markdown",
      "source": [
        "### **Running on Real Hardware**\n",
        "\n",
        "\n",
        "Now, let's run this on real hardware. Specifically, we will:\n",
        "1. Connect to IonQ's trapped ion computer: `\"ionq.qpu\"`.\n",
        "1. Submit the `SendAliceBob` operation for execution.\n",
        "1. Check the status of this job.\n",
        "1. Use the results when the results are ready and complete the protocol.\n",
        "1. Before continuing, reconnect to the simulator instead of hardware."
      ],
      "metadata": {
        "nteract": {
          "transient": {
            "deleting": false
          }
        },
        "id": "slMCQJzPpUYu"
      }
    },
    {
      "cell_type": "markdown",
      "source": [
        "#### **1. Connect to IonQ's trapped ion computer: \"ionq.qpu\".**"
      ],
      "metadata": {
        "id": "2w28AQZmh2wH"
      }
    },
    {
      "cell_type": "code",
      "source": [
        "qsharp.azure.target(\"ionq.qpu\")"
      ],
      "outputs": [
        {
          "output_type": "stream",
          "name": "stdout",
          "text": "Loading package Microsoft.Quantum.Providers.IonQ and dependencies...\nActive target is now ionq.qpu\n"
        },
        {
          "output_type": "execute_result",
          "execution_count": 35,
          "data": {
            "text/plain": "{'id': 'ionq.qpu', 'current_availability': {}, 'average_queue_time': 17465}"
          },
          "metadata": {}
        }
      ],
      "execution_count": 35,
      "metadata": {
        "id": "peVqYilrhUwU"
      }
    },
    {
      "cell_type": "markdown",
      "source": [
        "#### **2. Submit the SendAliceBob operation for execution.**"
      ],
      "metadata": {
        "id": "W6syTw7FiI79"
      }
    },
    {
      "cell_type": "code",
      "source": [
        "keyLength = 10\n",
        "\n",
        "# STEPS #1 - 2\n",
        "aliceBits = GetAliceBits.simulate(keyLength = keyLength)\n",
        "aliceChoices = GetAliceChoices(keyLength = keyLength)\n",
        "\n",
        "print(\"Alice's bits: \" + str(aliceBits))\n",
        "print(\"Alice's choices: \" + str(aliceChoices))\n",
        "print(\"\\n\")\n",
        "\n",
        "\n",
        "# STEPS #3 - 5\n",
        "bobChoices = GetBobChoices.simulate(keyLength = keyLength)"
      ],
      "outputs": [
        {
          "output_type": "error",
          "ename": "AttributeError",
          "evalue": "'NoneType' object has no attribute 'simulate'",
          "traceback": [
            "\u001b[0;31m---------------------------------------------------------------------------\u001b[0m",
            "\u001b[0;31mAttributeError\u001b[0m                            Traceback (most recent call last)",
            "Cell \u001b[0;32mIn[36], line 4\u001b[0m\n\u001b[1;32m      1\u001b[0m keyLength \u001b[38;5;241m=\u001b[39m \u001b[38;5;241m10\u001b[39m\n\u001b[1;32m      3\u001b[0m \u001b[38;5;66;03m# STEPS #1 - 2\u001b[39;00m\n\u001b[0;32m----> 4\u001b[0m aliceBits \u001b[38;5;241m=\u001b[39m \u001b[43mGetAliceBits\u001b[49m\u001b[38;5;241;43m.\u001b[39;49m\u001b[43msimulate\u001b[49m(keyLength \u001b[38;5;241m=\u001b[39m keyLength)\n\u001b[1;32m      5\u001b[0m aliceChoices \u001b[38;5;241m=\u001b[39m GetAliceChoices(keyLength \u001b[38;5;241m=\u001b[39m keyLength)\n\u001b[1;32m      7\u001b[0m \u001b[38;5;28mprint\u001b[39m(\u001b[38;5;124m\"\u001b[39m\u001b[38;5;124mAlice\u001b[39m\u001b[38;5;124m'\u001b[39m\u001b[38;5;124ms bits: \u001b[39m\u001b[38;5;124m\"\u001b[39m \u001b[38;5;241m+\u001b[39m \u001b[38;5;28mstr\u001b[39m(aliceBits))\n",
            "\u001b[0;31mAttributeError\u001b[0m: 'NoneType' object has no attribute 'simulate'"
          ]
        }
      ],
      "execution_count": 36,
      "metadata": {
        "jupyter": {
          "source_hidden": false,
          "outputs_hidden": false
        },
        "nteract": {
          "transient": {
            "deleting": false
          }
        },
        "id": "BJSM4e8gpUYv"
      }
    },
    {
      "cell_type": "code",
      "source": [
        "qsharp.azure.execute(SendAliceBob, aliceBits = aliceBits, aliceChoices = aliceChoices, bobChoices = bobChoices, shots = 10, jobName = \"SendAliceBob\", timeout = 1000)"
      ],
      "outputs": [
        {
          "output_type": "error",
          "ename": "NameError",
          "evalue": "name 'aliceBits' is not defined",
          "traceback": [
            "\u001b[0;31m---------------------------------------------------------------------------\u001b[0m",
            "\u001b[0;31mNameError\u001b[0m                                 Traceback (most recent call last)",
            "Cell \u001b[0;32mIn[92], line 1\u001b[0m\n\u001b[0;32m----> 1\u001b[0m qsharp\u001b[38;5;241m.\u001b[39mazure\u001b[38;5;241m.\u001b[39mexecute(SendAliceBob, aliceBits \u001b[38;5;241m=\u001b[39m \u001b[43maliceBits\u001b[49m, aliceChoices \u001b[38;5;241m=\u001b[39m aliceChoices, bobChoices \u001b[38;5;241m=\u001b[39m bobChoices, shots \u001b[38;5;241m=\u001b[39m \u001b[38;5;241m10\u001b[39m, jobName \u001b[38;5;241m=\u001b[39m \u001b[38;5;124m\"\u001b[39m\u001b[38;5;124mSendAliceBob\u001b[39m\u001b[38;5;124m\"\u001b[39m, timeout \u001b[38;5;241m=\u001b[39m \u001b[38;5;241m1000\u001b[39m)\n",
            "\u001b[0;31mNameError\u001b[0m: name 'aliceBits' is not defined"
          ]
        }
      ],
      "execution_count": 92,
      "metadata": {
        "jupyter": {
          "source_hidden": false,
          "outputs_hidden": false
        },
        "nteract": {
          "transient": {
            "deleting": false
          }
        },
        "id": "IC4Z1aRsuQd6"
      }
    },
    {
      "cell_type": "markdown",
      "source": [
        "#### **3. Check the status of this job.**"
      ],
      "metadata": {
        "id": "Kt_taJ75iMdU"
      }
    },
    {
      "cell_type": "code",
      "source": [
        "qsharp.azure.status('# To check on the status of your job, copy and paste the \"Job ID\" that was printed above."
      ],
      "outputs": [],
      "execution_count": null,
      "metadata": {
        "jupyter": {
          "source_hidden": false,
          "outputs_hidden": false
        },
        "nteract": {
          "transient": {
            "deleting": false
          }
        },
        "id": "8Xi9iDJC1HW6"
      }
    },
    {
      "cell_type": "markdown",
      "source": [
        "#### **4. Use the results when the results are ready and complete the protocol.**"
      ],
      "metadata": {
        "id": "_qoEM4p9iPNm"
      }
    },
    {
      "cell_type": "code",
      "source": [
        "bobBits = pickResult(qsharp.azure.output('# FILL THIS WITH THE JOB ID PRINTED ABOVE\n",
        "\n",
        "print(\"Bob's choices: \" + str(bobChoices))\n",
        "print(\"Bob's bits: \" + str(bobBits))\n",
        "print(\"\\n\")\n",
        "\n",
        "\n",
        "# STEP #6\n",
        "aliceKey = GenerateKey.simulate(bits = aliceBits, aliceChoices = aliceChoices, bobChoices = bobChoices)\n",
        "bobKey = GenerateKey.simulate(bits = bobBits, aliceChoices = aliceChoices, bobChoices = bobChoices)\n",
        "\n",
        "print(\"Alice's key: \" + str(aliceKey))\n",
        "print(\"Bob's key: \" + str(bobKey))\n",
        "print(\"\\n\")\n",
        "\n",
        "\n",
        "# STEP #7\n",
        "if IsSecureKey.simulate(aliceKey = aliceKey, bobKey = bobKey):\n",
        "\n",
        "    aliceKey = aliceKey[len(aliceKey) // 2: ]\n",
        "    bobKey = bobKey[len(bobKey) // 2: ]\n",
        "\n",
        "    print(\"Key seems secure! They will now use: \")\n",
        "    print(\"Alice's key: \" + str(aliceKey))\n",
        "    print(\"Bob's key: \" + str(bobKey))\n",
        "\n",
        "else:\n",
        "    print(\"Alice and Bob have detected Eve's interception!\")"
      ],
      "outputs": [],
      "execution_count": null,
      "metadata": {
        "jupyter": {
          "source_hidden": false,
          "outputs_hidden": false
        },
        "nteract": {
          "transient": {
            "deleting": false
          }
        },
        "id": "WmhEwD4t1HW6"
      }
    },
    {
      "cell_type": "markdown",
      "source": [
        "#### **5. Before continuing, reconnect to the simulator instead of hardware.**"
      ],
      "metadata": {
        "nteract": {
          "transient": {
            "deleting": false
          }
        },
        "id": "xpmoiOUJpUYv"
      }
    },
    {
      "cell_type": "code",
      "source": [
        "qsharp.azure.target(\"ionq.simulator\")"
      ],
      "outputs": [],
      "execution_count": null,
      "metadata": {
        "jupyter": {
          "source_hidden": false,
          "outputs_hidden": false
        },
        "nteract": {
          "transient": {
            "deleting": false
          }
        },
        "id": "Gceie51IpUYz"
      }
    },
    {
      "cell_type": "markdown",
      "source": [
        "## **Part #3: Eve Intercepts [Code Provided]**\n",
        "---\n",
        "\n",
        "Now, suppose Eve intercepts the (encoded) message that Alice has meant to send to Bob. Eve measures the qubits in the same way Bob would do in **Step #4** and **Step #5** and then sends them to Bob.\n",
        "\n",
        "<br>\n",
        "\n",
        "**Run the first two cells to define all necessary operations. Then run the last cell to simulate the full protocol.**"
      ],
      "metadata": {
        "nteract": {
          "transient": {
            "deleting": false
          }
        },
        "id": "4D4NfMYrlkwf"
      }
    },
    {
      "cell_type": "markdown",
      "source": [
        "### **Define the Operations**"
      ],
      "metadata": {
        "id": "RLclpTCVc8IM"
      }
    },
    {
      "cell_type": "code",
      "source": [
        "SendAliceEve : any = None\n",
        "SendEveBob : any = None"
      ],
      "outputs": [],
      "execution_count": 99,
      "metadata": {
        "jupyter": {
          "source_hidden": false,
          "outputs_hidden": false
        },
        "nteract": {
          "transient": {
            "deleting": false
          }
        },
        "id": "btFWLqJrpUY0"
      }
    },
    {
      "cell_type": "code",
      "source": [
        "%%qsharp\n",
        "operation SendAliceEve(aliceBits : Int[], aliceChoices : Bool[]) : Result[] {\n",
        "    \n",
        "    //Qubits initialized\n",
        "    let keyLength = Length(aliceBits);\n",
        "    use qs = Qubit[keyLength];\n",
        "\n",
        "    // Alice encodes her key\n",
        "    //========================\n",
        "    for i in 0 .. Length(aliceBits) - 1{\n",
        "\n",
        "        // Encode a 1 into the |1> state\n",
        "        if aliceBits[i] == 1 {\n",
        "            X(qs[i]);\n",
        "        }\n",
        "\n",
        "        // Put Alice's random choice of qubits into superposition\n",
        "        if aliceChoices[i] {\n",
        "            H(qs[i]);\n",
        "        }\n",
        "    }\n",
        "\n",
        "    // Eve measures the qubits\n",
        "    // to decode the key\n",
        "    //========================\n",
        "    return MultiM(qs);\n",
        "}\n",
        "\n",
        "\n",
        "\n",
        "operation SendEveBob(eveBits : Int[], bobChoices : Bool[]) : Result[] {\n",
        "    \n",
        "    //Qubits initialized\n",
        "    let keyLength = Length(eveBits);\n",
        "    use qs = Qubit[keyLength];\n",
        "\n",
        "    // Eve encodes her measurements \n",
        "    // into qubits to send to Bob\n",
        "    //==============================\n",
        "    for i in 0 .. Length(eveBits) - 1{\n",
        "\n",
        "        // Encode a 1 into the |1> state\n",
        "        if eveBits[i] == 1 {\n",
        "            X(qs[i]);\n",
        "        }\n",
        "    }\n",
        "\n",
        "\n",
        "    // Bob receives the key unaware of Eve and\n",
        "    // acts according to his choices of superpositions\n",
        "    //=================================================\n",
        "    for i in 0 .. Length(qs) - 1 {\n",
        "\n",
        "        if bobChoices[i] {\n",
        "            H(qs[i]);\n",
        "        }\n",
        "    }\n",
        "\n",
        "    // Bob measures the qubits\n",
        "    // to decode the key\n",
        "    //========================\n",
        "    return MultiM(qs);\n",
        "}"
      ],
      "outputs": [],
      "execution_count": 100,
      "metadata": {
        "jupyter": {
          "source_hidden": false,
          "outputs_hidden": false
        },
        "nteract": {
          "transient": {
            "deleting": false
          }
        },
        "microsoft": {
          "language": "qsharp"
        },
        "id": "RBBkOnSCZjSX"
      }
    },
    {
      "cell_type": "markdown",
      "source": [
        "### **Simulate BB84 with Interception**"
      ],
      "metadata": {
        "id": "zFwanLOidAuQ"
      }
    },
    {
      "cell_type": "code",
      "source": [
        "keyLength = 8\n",
        "\n",
        "# STEPS #1 - 2\n",
        "aliceBits = GetAliceBits.simulate(keyLength = keyLength)\n",
        "aliceChoices = GetAliceChoices(keyLength = keyLength)\n",
        "\n",
        "print(\"Alice's bits: \" + str(aliceBits))\n",
        "print(\"Alice's choices: \" + str(aliceChoices))\n",
        "print(\"\\n\")\n",
        "\n",
        "\n",
        "# STEPS #3 - 5\n",
        "# EVE INTERCEPTS\n",
        "\n",
        "print(\"Eve Intercepts!\")\n",
        "eveBits = SendAliceEve.simulate(aliceBits = aliceBits, aliceChoices = aliceChoices)\n",
        "\n",
        "print(\"Eve measures: \" + str(eveBits))\n",
        "print(\"\\n\")\n",
        "\n",
        "# EVE SENDS QUBITS TO BOB\n",
        "bobChoices = GetBobChoices.simulate(keyLength = keyLength)\n",
        "bobBits = SendEveBob.simulate(eveBits = eveBits, bobChoices = bobChoices)\n",
        "\n",
        "print(\"Bob's choices: \" + str(bobChoices))\n",
        "print(\"Bob's bits: \" + str(bobBits))\n",
        "print(\"\\n\")\n",
        "\n",
        "\n",
        "# STEP #6\n",
        "aliceKey = GenerateKey.simulate(bits = aliceBits, aliceChoices = aliceChoices, bobChoices = bobChoices)\n",
        "bobKey = GenerateKey.simulate(bits = bobBits, aliceChoices = aliceChoices, bobChoices = bobChoices)\n",
        "\n",
        "print(\"Alice's key: \" + str(aliceKey))\n",
        "print(\"Bob's key: \" + str(bobKey))\n",
        "print(\"\\n\")\n",
        "\n",
        "\n",
        "# STEP #7\n",
        "if IsSecureKey.simulate(aliceKey = aliceKey, bobKey = bobKey):\n",
        "\n",
        "    aliceKey = aliceKey[len(aliceKey) // 2: ]\n",
        "    bobKey = bobKey[len(bobKey) // 2: ]\n",
        "\n",
        "    print(\"Key seems secure! They will now use: \")\n",
        "    print(\"Alice's key: \" + str(aliceKey))\n",
        "    print(\"Bob's key: \" + str(bobKey))\n",
        "\n",
        "else:\n",
        "    print(\"Alice and Bob have detected Eve's interception!\")"
      ],
      "outputs": [
        {
          "output_type": "error",
          "ename": "AttributeError",
          "evalue": "'NoneType' object has no attribute 'simulate'",
          "traceback": [
            "\u001b[0;31m---------------------------------------------------------------------------\u001b[0m",
            "\u001b[0;31mAttributeError\u001b[0m                            Traceback (most recent call last)",
            "Cell \u001b[0;32mIn[37], line 4\u001b[0m\n\u001b[1;32m      1\u001b[0m keyLength \u001b[38;5;241m=\u001b[39m \u001b[38;5;241m8\u001b[39m\n\u001b[1;32m      3\u001b[0m \u001b[38;5;66;03m# STEPS #1 - 2\u001b[39;00m\n\u001b[0;32m----> 4\u001b[0m aliceBits \u001b[38;5;241m=\u001b[39m \u001b[43mGetAliceBits\u001b[49m\u001b[38;5;241;43m.\u001b[39;49m\u001b[43msimulate\u001b[49m(keyLength \u001b[38;5;241m=\u001b[39m keyLength)\n\u001b[1;32m      5\u001b[0m aliceChoices \u001b[38;5;241m=\u001b[39m GetAliceChoices(keyLength \u001b[38;5;241m=\u001b[39m keyLength)\n\u001b[1;32m      7\u001b[0m \u001b[38;5;28mprint\u001b[39m(\u001b[38;5;124m\"\u001b[39m\u001b[38;5;124mAlice\u001b[39m\u001b[38;5;124m'\u001b[39m\u001b[38;5;124ms bits: \u001b[39m\u001b[38;5;124m\"\u001b[39m \u001b[38;5;241m+\u001b[39m \u001b[38;5;28mstr\u001b[39m(aliceBits))\n",
            "\u001b[0;31mAttributeError\u001b[0m: 'NoneType' object has no attribute 'simulate'"
          ]
        }
      ],
      "execution_count": 37,
      "metadata": {
        "jupyter": {
          "source_hidden": false,
          "outputs_hidden": false
        },
        "nteract": {
          "transient": {
            "deleting": false
          }
        },
        "id": "H0CICqXXpUY1"
      }
    },
    {
      "cell_type": "markdown",
      "source": [
        "## **Part #4: The Full Protocol [Code Provided]**\n",
        "---\n",
        "\n",
        "In the cells below, we provide the full protocol, including Eve, so that you can see it altogether. This is broken into 4 pieces,\n",
        "\n",
        "1. **Define the Operations**: You must run this code to ensure all necessary operations are defined.\n",
        "\n",
        "2. **Simulate BB84**: This contains all the code in one cell to simulate BB84 from start to finish, with options to change the key length and if Eve intercepts or not.\n",
        "\n",
        "3. **Execute BB84 with No Interception on a Target**: This contains all the code to execute BB84 from start to finish *with no Eve*. It is broken into 2 cells with the first one ending with submiting a job for execution that can then be picked back up on when the job is complete.\n",
        "\n",
        "4. **Execute BB84 with Interception on a Target**: This contains all the code to execute BB84 from start to finish *with Eve*. It is broken into 3 cells with the first two cells ending with job submissions that can then be picked back up on when the jobs are complete."
      ],
      "metadata": {
        "nteract": {
          "transient": {
            "deleting": false
          }
        },
        "id": "tIhGOlC4ZjSY"
      }
    },
    {
      "cell_type": "markdown",
      "source": [
        "### **1. Define the Operations**\n",
        "\n",
        "**You must run this to use the code below.**"
      ],
      "metadata": {
        "nteract": {
          "transient": {
            "deleting": false
          }
        },
        "id": "E76iLLlpZjSY"
      }
    },
    {
      "cell_type": "code",
      "source": [
        "GetAliceBits: any = None\n",
        "GetAliceChoices: any = None\n",
        "GetBobChoices: any = None\n",
        "\n",
        "SendAliceBob: any = None\n",
        "SendAliceEve: any = None\n",
        "SendEveBob: any = None\n",
        "\n",
        "GenerateKey: any = None\n",
        "IsSecureKey: any = None"
      ],
      "outputs": [],
      "execution_count": 38,
      "metadata": {
        "jupyter": {
          "source_hidden": false,
          "outputs_hidden": false
        },
        "nteract": {
          "transient": {
            "deleting": false
          }
        },
        "id": "MnR8PuZvZjSY"
      }
    },
    {
      "cell_type": "code",
      "source": [
        "%%qsharp\n",
        "\n",
        "// Alice and Bob getting setup\n",
        "//=============================\n",
        "operation GetAliceBits(keyLength: Int) : Int[] {\n",
        "\n",
        "    return DrawMany(DrawRandomInt, keyLength, (0, 1));\n",
        "}\n",
        "\n",
        "\n",
        "\n",
        "operation GetAliceChoices(keyLength: Int) : Bool[] {\n",
        "\n",
        "    return DrawMany(DrawRandomBool, keyLength, 0.5);\n",
        "}\n",
        "\n",
        "\n",
        "operation GetBobChoices(keyLength: Int) : Bool[] {\n",
        "\n",
        "    return DrawMany(DrawRandomBool, keyLength, 0.5);\n",
        "}\n",
        "\n",
        "\n",
        "\n",
        "// Alice, Bob, and potentially Eve communicating through the quantum channel\n",
        "//===========================================================================\n",
        "\n",
        "operation SendAliceBob(aliceBits : Int[], aliceChoices : Bool[], bobChoices : Bool[]) : Result[] {\n",
        "    \n",
        "    //Qubits initialized\n",
        "    let keyLength = Length(aliceBits);\n",
        "    use qs = Qubit[keyLength];\n",
        "\n",
        "    // Alice encodes her key\n",
        "    //========================\n",
        "    for i in 0 .. Length(aliceBits) - 1{\n",
        "\n",
        "        // Encode a 1 into the |1> state\n",
        "        if aliceBits[i] == 1 {\n",
        "            X(qs[i]);\n",
        "        }\n",
        "\n",
        "        // Put Alice's random choice of qubits into superposition\n",
        "        if aliceChoices[i] {\n",
        "            H(qs[i]);\n",
        "        }\n",
        "    }\n",
        "\n",
        "    // Bob receives the key and\n",
        "    // acts according to his choices of superpositions\n",
        "    //=================================================\n",
        "    for i in 0 .. Length(qs) - 1 {\n",
        "\n",
        "        if bobChoices[i] {\n",
        "            H(qs[i]);\n",
        "        }\n",
        "    }\n",
        "\n",
        "    // Bob measures the qubits\n",
        "    // to decode the key\n",
        "    //========================\n",
        "    return MultiM(qs);\n",
        "}\n",
        "\n",
        "\n",
        "operation SendAliceEve(aliceBits : Int[], aliceChoices : Bool[]) : Result[] {\n",
        "    \n",
        "    //Qubits initialized\n",
        "    let keyLength = Length(aliceBits);\n",
        "    use qs = Qubit[keyLength];\n",
        "\n",
        "    // Alice encodes her key\n",
        "    //========================\n",
        "    for i in 0 .. Length(aliceBits) - 1{\n",
        "\n",
        "        // Encode a 1 into the |1> state\n",
        "        if aliceBits[i] == 1 {\n",
        "            X(qs[i]);\n",
        "        }\n",
        "\n",
        "        // Put Alice's random choice of qubits into superposition\n",
        "        if aliceChoices[i] {\n",
        "            H(qs[i]);\n",
        "        }\n",
        "    }\n",
        "\n",
        "    // Eve measures the qubits\n",
        "    // to decode the key\n",
        "    //========================\n",
        "    return MultiM(qs);\n",
        "}\n",
        "\n",
        "\n",
        "\n",
        "operation SendEveBob(eveBits : Int[], bobChoices : Bool[]) : Result[] {\n",
        "    \n",
        "    //Qubits initialized\n",
        "    let keyLength = Length(eveBits);\n",
        "    use qs = Qubit[keyLength];\n",
        "\n",
        "    // Eve encodes her measurements \n",
        "    // into qubits to send to Bob\n",
        "    //==============================\n",
        "    for i in 0 .. Length(eveBits) - 1{\n",
        "\n",
        "        // Encode a 1 into the |1> state\n",
        "        if eveBits[i] == 1 {\n",
        "            X(qs[i]);\n",
        "        }\n",
        "    }\n",
        "\n",
        "\n",
        "    // Bob receives the key unaware of Eve and\n",
        "    // acts according to his choices of superpositions\n",
        "    //=================================================\n",
        "    for i in 0 .. Length(qs) - 1 {\n",
        "\n",
        "        if bobChoices[i] {\n",
        "            H(qs[i]);\n",
        "        }\n",
        "    }\n",
        "\n",
        "    // Bob measures the qubits\n",
        "    // to decode the key\n",
        "    //========================\n",
        "    return MultiM(qs);\n",
        "}\n",
        "\n",
        "\n",
        "\n",
        "// Alice and Bob comparing and generating keys\n",
        "//=============================================\n",
        "operation GenerateKey(bits : Int[], aliceChoices : Bool[], bobChoices : Bool[]) : Int[] {\n",
        "\n",
        "    // Count how many choices they agreed on\n",
        "    //=======================================\n",
        "    mutable count = 0;\n",
        "    for i in 0 .. Length(aliceChoices) - 1 {\n",
        "\n",
        "        if aliceChoices[i] == bobChoices[i] {\n",
        "            set count += 1;\n",
        "        }\n",
        "    }\n",
        "\n",
        "    // Create the key\n",
        "    //================\n",
        "    mutable key = [0, size = count];\n",
        "    mutable keyID = 0;\n",
        "    for i in 0 .. Length(aliceChoices) - 1 {\n",
        "\n",
        "        if aliceChoices[i] == bobChoices[i] {\n",
        "            set key w/= keyID <- bits[i];\n",
        "            set keyID += 1;\n",
        "        }\n",
        "    }\n",
        "    \n",
        "    return key;\n",
        "}\n",
        "\n",
        "operation IsSecureKey(aliceKey : Int[], bobKey : Int[]) : Bool {\n",
        "\n",
        "    // Check the first half of the keys\n",
        "    // to make sure they agree\n",
        "    //==================================\n",
        "    for i in 0 .. Length(aliceKey) / 2 {\n",
        "\n",
        "        if aliceKey[i] != bobKey[i]{\n",
        "            return false;\n",
        "        }\n",
        "    }\n",
        "\n",
        "    return true;\n",
        "}"
      ],
      "outputs": [],
      "execution_count": 39,
      "metadata": {
        "jupyter": {
          "source_hidden": false,
          "outputs_hidden": false
        },
        "nteract": {
          "transient": {
            "deleting": false
          }
        },
        "microsoft": {
          "language": "qsharp"
        },
        "id": "Ful7K26mZjSY"
      }
    },
    {
      "cell_type": "markdown",
      "source": [
        "### **2. Simulate BB84**"
      ],
      "metadata": {
        "nteract": {
          "transient": {
            "deleting": false
          }
        },
        "id": "edO1uEA-ZjSY"
      }
    },
    {
      "cell_type": "code",
      "source": [
        "keyLength = 5\n",
        "eveIntercepts = False\n",
        "\n",
        "\n",
        "# STEPS #1 - 2\n",
        "aliceBits = GetAliceBits.simulate(keyLength = keyLength)\n",
        "aliceChoices = GetAliceChoices(keyLength = keyLength)\n",
        "bobChoices = GetBobChoices.simulate(keyLength = keyLength)\n",
        "\n",
        "print(\"Alice's bits: \" + str(aliceBits))\n",
        "print(\"Alice's choices: \" + str(aliceChoices))\n",
        "print(\"\\n\")\n",
        "\n",
        "\n",
        "# STEPS #3 - 5\n",
        "if eveIntercepts:\n",
        "    # EVE INTERCEPTS\n",
        "    print(\"Eve Intercepts!\")\n",
        "    eveBits = SendAliceEve.simulate(aliceBits = aliceBits, aliceChoices = aliceChoices)\n",
        "\n",
        "    print(\"Eve measures: \" + str(eveBits))\n",
        "    print(\"\\n\")\n",
        "\n",
        "    # EVE SENDS QUBITS TO BOB\n",
        "    bobBits = SendEveBob.simulate(eveBits = eveBits, bobChoices = bobChoices)\n",
        "\n",
        "else:\n",
        "    bobBits = SendAliceBob.simulate(aliceBits = aliceBits, aliceChoices = aliceChoices, bobChoices = bobChoices)\n",
        "\n",
        "print(\"Bob's choices: \" + str(bobChoices))\n",
        "print(\"Bob's bits: \" + str(bobBits))\n",
        "print(\"\\n\")\n",
        "\n",
        "\n",
        "# STEP #6\n",
        "aliceKey = GenerateKey.simulate(bits = aliceBits, aliceChoices = aliceChoices, bobChoices = bobChoices)\n",
        "bobKey = GenerateKey.simulate(bits = bobBits, aliceChoices = aliceChoices, bobChoices = bobChoices)\n",
        "\n",
        "print(\"Alice's key: \" + str(aliceKey))\n",
        "print(\"Bob's key: \" + str(bobKey))\n",
        "print(\"\\n\")\n",
        "\n",
        "\n",
        "# STEP #7\n",
        "if IsSecureKey.simulate(aliceKey = aliceKey, bobKey = bobKey):\n",
        "\n",
        "    aliceKey = aliceKey[len(aliceKey) // 2: ]\n",
        "    bobKey = bobKey[len(bobKey) // 2: ]\n",
        "\n",
        "    print(\"Key seems secure! They will now use: \")\n",
        "    print(\"Alice's key: \" + str(aliceKey))\n",
        "    print(\"Bob's key: \" + str(bobKey))\n",
        "\n",
        "else:\n",
        "    print(\"Alice and Bob have detected Eve's interception!\")"
      ],
      "outputs": [
        {
          "output_type": "stream",
          "name": "stdout",
          "text": "Alice's bits: [1, 1, 1, 0, 1]\nAlice's choices: [False, True, False, True, False]\n\n\nBob's choices: [False, False, False, True, True]\nBob's bits: [1, 1, 1, 0, 1]\n\n\nAlice's key: [1, 1, 0]\nBob's key: [1, 1, 0]\n\n\nKey seems secure! They will now use: \nAlice's key: [1, 0]\nBob's key: [1, 0]\n"
        }
      ],
      "execution_count": 40,
      "metadata": {
        "jupyter": {
          "source_hidden": false,
          "outputs_hidden": false
        },
        "nteract": {
          "transient": {
            "deleting": false
          }
        },
        "id": "Zj6KBVTkZjSY"
      }
    },
    {
      "cell_type": "markdown",
      "source": [
        "### **3. Execute BB84 with No Interception on a Target**"
      ],
      "metadata": {
        "nteract": {
          "transient": {
            "deleting": false
          }
        },
        "id": "gYSpsj3xZjSf"
      }
    },
    {
      "cell_type": "code",
      "source": [
        "keyLength = 5\n",
        "\n",
        "# STEPS #1 - 2\n",
        "aliceBits = GetAliceBits.simulate(keyLength = keyLength)\n",
        "aliceChoices = GetAliceChoices(keyLength = keyLength)\n",
        "bobChoices = GetBobChoices.simulate(keyLength = keyLength)\n",
        "\n",
        "print(\"Alice's bits: \" + str(aliceBits))\n",
        "print(\"Alice's choices: \" + str(aliceChoices))\n",
        "print(\"\\n\")"
      ],
      "outputs": [
        {
          "output_type": "stream",
          "name": "stdout",
          "text": "Alice's bits: [1, 1, 1, 0, 1]\nAlice's choices: [True, True, True, True, True]\n\n\n"
        }
      ],
      "execution_count": 41,
      "metadata": {
        "jupyter": {
          "source_hidden": false,
          "outputs_hidden": false
        },
        "nteract": {
          "transient": {
            "deleting": false
          }
        },
        "id": "ZIkeC6QWZjSf"
      }
    },
    {
      "cell_type": "code",
      "source": [
        "qsharp.azure.execute(SendEveBob, eveBits = eveBits, bobChoices = bobChoices, shots = 10, timeout = 1000)"
      ],
      "outputs": [
        {
          "output_type": "error",
          "ename": "NameError",
          "evalue": "name 'eveBits' is not defined",
          "traceback": [
            "\u001b[0;31m---------------------------------------------------------------------------\u001b[0m",
            "\u001b[0;31mNameError\u001b[0m                                 Traceback (most recent call last)",
            "Cell \u001b[0;32mIn[42], line 1\u001b[0m\n\u001b[0;32m----> 1\u001b[0m qsharp\u001b[38;5;241m.\u001b[39mazure\u001b[38;5;241m.\u001b[39mexecute(SendEveBob, eveBits \u001b[38;5;241m=\u001b[39m \u001b[43meveBits\u001b[49m, bobChoices \u001b[38;5;241m=\u001b[39m bobChoices, shots \u001b[38;5;241m=\u001b[39m \u001b[38;5;241m10\u001b[39m, timeout \u001b[38;5;241m=\u001b[39m \u001b[38;5;241m1000\u001b[39m)\n",
            "\u001b[0;31mNameError\u001b[0m: name 'eveBits' is not defined"
          ]
        }
      ],
      "execution_count": 42,
      "metadata": {
        "jupyter": {
          "source_hidden": false,
          "outputs_hidden": false
        },
        "nteract": {
          "transient": {
            "deleting": false
          }
        },
        "id": "gDNW5o57uQd8"
      }
    },
    {
      "cell_type": "code",
      "source": [
        "bobBits = pickResult(qsharp.azure.output(' # COMPLETE THIS LINE WITH THE JOB ID PRINTED ABOVE\n",
        "\n",
        "print(\"Bob's choices: \" + str(bobChoices))\n",
        "print(\"Bob's bits: \" + str(bobBits))\n",
        "print(\"\\n\")\n",
        "\n",
        "\n",
        "# STEP #6\n",
        "aliceKey = GenerateKey.simulate(bits = aliceBits, aliceChoices = aliceChoices, bobChoices = bobChoices)\n",
        "bobKey = GenerateKey.simulate(bits = bobBits, aliceChoices = aliceChoices, bobChoices = bobChoices)\n",
        "\n",
        "print(\"Alice's key: \" + str(aliceKey))\n",
        "print(\"Bob's key: \" + str(bobKey))\n",
        "print(\"\\n\")\n",
        "\n",
        "\n",
        "# STEP #7\n",
        "if IsSecureKey.simulate(aliceKey = aliceKey, bobKey = bobKey):\n",
        "\n",
        "    aliceKey = aliceKey[len(aliceKey) // 2: ]\n",
        "    bobKey = bobKey[len(bobKey) // 2: ]\n",
        "\n",
        "    print(\"Key seems secure! They will now use: \")\n",
        "    print(\"Alice's key: \" + str(aliceKey))\n",
        "    print(\"Bob's key: \" + str(bobKey))\n",
        "\n",
        "else:\n",
        "    print(\"Alice and Bob have detected Eve's interception!\")"
      ],
      "outputs": [
        {
          "output_type": "error",
          "ename": "SyntaxError",
          "evalue": "EOL while scanning string literal (1295976306.py, line 1)",
          "traceback": [
            "\u001b[0;36m  Cell \u001b[0;32mIn[43], line 1\u001b[0;36m\u001b[0m\n\u001b[0;31m    bobBits = pickResult(qsharp.azure.output(' # COMPLETE THIS LINE WITH THE JOB ID PRINTED ABOVE\u001b[0m\n\u001b[0m                                                                                                 ^\u001b[0m\n\u001b[0;31mSyntaxError\u001b[0m\u001b[0;31m:\u001b[0m EOL while scanning string literal\n"
          ]
        }
      ],
      "execution_count": 43,
      "metadata": {
        "jupyter": {
          "source_hidden": false,
          "outputs_hidden": false
        },
        "nteract": {
          "transient": {
            "deleting": false
          }
        },
        "id": "OQMMatxXZjSf"
      }
    },
    {
      "cell_type": "markdown",
      "source": [
        "### **4. Execute BB84 with Interception on a Target**"
      ],
      "metadata": {
        "nteract": {
          "transient": {
            "deleting": false
          }
        },
        "id": "JC0JRuFzZjSf"
      }
    },
    {
      "cell_type": "code",
      "source": [
        "keyLength = 5\n",
        "\n",
        "# STEPS #1 - 2\n",
        "aliceBits = GetAliceBits.simulate(keyLength = keyLength)\n",
        "aliceChoices = GetAliceChoices(keyLength = keyLength)\n",
        "bobChoices = GetBobChoices.simulate(keyLength = keyLength)\n",
        "\n",
        "print(\"Alice's bits: \" + str(aliceBits))\n",
        "print(\"Alice's choices: \" + str(aliceChoices))\n",
        "print(\"\\n\")\n",
        "\n",
        "# EVE INTERCEPTS\n",
        "print(\"Eve Intercepts!\")"
      ],
      "outputs": [
        {
          "output_type": "stream",
          "name": "stdout",
          "text": "Alice's bits: [1, 0, 1, 0, 1]\nAlice's choices: [False, False, False, False, True]\n\n\nEve Intercepts!\n"
        }
      ],
      "execution_count": 108,
      "metadata": {
        "jupyter": {
          "source_hidden": false,
          "outputs_hidden": false
        },
        "nteract": {
          "transient": {
            "deleting": false
          }
        },
        "id": "ysceEZesZjSf"
      }
    },
    {
      "cell_type": "code",
      "source": [
        "qsharp.azure.execute(SendAliceEve, aliceBits = aliceBits, aliceChoices = aliceChoices, shots = 10, timeout = 1000)"
      ],
      "outputs": [
        {
          "output_type": "stream",
          "name": "stdout",
          "text": "Submitting SendAliceEve to target ionq.qpu...\nJob successfully submitted.\n   Job name: SendAliceEve\n   Job ID: 38fba146-050f-4a56-a9b5-45ba738041a6\nWaiting up to 1000 seconds for Azure Quantum job to complete...\n[21:06:47] Current job status: Waiting\n[21:06:52] Current job status: Waiting\n[21:06:57] Current job status: Waiting\n[21:07:02] Current job status: Waiting\n[21:07:07] Current job status: Waiting\n[21:07:13] Current job status: Waiting\n[21:07:18] Current job status: Waiting\n[21:07:23] Current job status: Waiting\n[21:07:28] Current job status: Waiting\n[21:07:33] Current job status: Waiting\n[21:07:38] Current job status: Waiting\n[21:07:43] Current job status: Waiting\n[21:07:48] Current job status: Waiting\n[21:07:53] Current job status: Waiting\n[21:07:58] Current job status: Waiting\n[21:08:03] Current job status: Waiting\n[21:08:08] Current job status: Waiting\n[21:08:13] Current job status: Waiting\n[21:08:18] Current job status: Waiting\n"
        },
        {
          "output_type": "error",
          "ename": "TimeoutError",
          "evalue": "Timeout waiting for output",
          "traceback": [
            "\u001b[0;31m---------------------------------------------------------------------------\u001b[0m",
            "\u001b[0;31mTimeoutError\u001b[0m                              Traceback (most recent call last)",
            "Cell \u001b[0;32mIn[44], line 1\u001b[0m\n\u001b[0;32m----> 1\u001b[0m \u001b[43mqsharp\u001b[49m\u001b[38;5;241;43m.\u001b[39;49m\u001b[43mazure\u001b[49m\u001b[38;5;241;43m.\u001b[39;49m\u001b[43mexecute\u001b[49m\u001b[43m(\u001b[49m\u001b[43mSendAliceEve\u001b[49m\u001b[43m,\u001b[49m\u001b[43m \u001b[49m\u001b[43maliceBits\u001b[49m\u001b[43m \u001b[49m\u001b[38;5;241;43m=\u001b[39;49m\u001b[43m \u001b[49m\u001b[43maliceBits\u001b[49m\u001b[43m,\u001b[49m\u001b[43m \u001b[49m\u001b[43maliceChoices\u001b[49m\u001b[43m \u001b[49m\u001b[38;5;241;43m=\u001b[39;49m\u001b[43m \u001b[49m\u001b[43maliceChoices\u001b[49m\u001b[43m,\u001b[49m\u001b[43m \u001b[49m\u001b[43mshots\u001b[49m\u001b[43m \u001b[49m\u001b[38;5;241;43m=\u001b[39;49m\u001b[43m \u001b[49m\u001b[38;5;241;43m10\u001b[39;49m\u001b[43m,\u001b[49m\u001b[43m \u001b[49m\u001b[43mtimeout\u001b[49m\u001b[43m \u001b[49m\u001b[38;5;241;43m=\u001b[39;49m\u001b[43m \u001b[49m\u001b[38;5;241;43m1000\u001b[39;49m\u001b[43m)\u001b[49m\n",
            "File \u001b[0;32m/usr/local/lib/python3.9/site-packages/qsharp/azure.py:160\u001b[0m, in \u001b[0;36mexecute\u001b[0;34m(op, **params)\u001b[0m\n\u001b[1;32m    152\u001b[0m \u001b[38;5;28;01mdef\u001b[39;00m \u001b[38;5;21mexecute\u001b[39m(op : qsharp\u001b[38;5;241m.\u001b[39mQSharpCallable, \u001b[38;5;241m*\u001b[39m\u001b[38;5;241m*\u001b[39mparams) \u001b[38;5;241m-\u001b[39m\u001b[38;5;241m>\u001b[39m AzureResult:\n\u001b[1;32m    153\u001b[0m \u001b[38;5;250m    \u001b[39m\u001b[38;5;124;03m\"\"\"\u001b[39;00m\n\u001b[1;32m    154\u001b[0m \u001b[38;5;124;03m    Submits a job to an Azure Quantum workspace and waits for completion.\u001b[39;00m\n\u001b[1;32m    155\u001b[0m \u001b[38;5;124;03m    Returns a dictionary containing the results of the job. This dictionary will usually\u001b[39;00m\n\u001b[0;32m   (...)\u001b[0m\n\u001b[1;32m    158\u001b[0m \u001b[38;5;124;03m    See https://docs.microsoft.com/qsharp/api/iqsharp-magic/azure.execute for more details.\u001b[39;00m\n\u001b[1;32m    159\u001b[0m \u001b[38;5;124;03m    \"\"\"\u001b[39;00m\n\u001b[0;32m--> 160\u001b[0m     (result, content) \u001b[38;5;241m=\u001b[39m \u001b[43mqsharp\u001b[49m\u001b[38;5;241;43m.\u001b[39;49m\u001b[43mclient\u001b[49m\u001b[38;5;241;43m.\u001b[39;49m\u001b[43m_execute_callable_magic\u001b[49m\u001b[43m(\u001b[49m\u001b[38;5;124;43m\"\u001b[39;49m\u001b[38;5;124;43mazure.execute\u001b[39;49m\u001b[38;5;124;43m\"\u001b[39;49m\u001b[43m,\u001b[49m\u001b[43m \u001b[49m\u001b[43mop\u001b[49m\u001b[43m,\u001b[49m\u001b[43m \u001b[49m\u001b[43mraise_on_stderr\u001b[49m\u001b[38;5;241;43m=\u001b[39;49m\u001b[38;5;28;43;01mFalse\u001b[39;49;00m\u001b[43m,\u001b[49m\u001b[43m \u001b[49m\u001b[43mreturn_full_result\u001b[49m\u001b[38;5;241;43m=\u001b[39;49m\u001b[38;5;28;43;01mTrue\u001b[39;49;00m\u001b[43m,\u001b[49m\u001b[43m \u001b[49m\u001b[38;5;241;43m*\u001b[39;49m\u001b[38;5;241;43m*\u001b[39;49m\u001b[43mparams\u001b[49m\u001b[43m)\u001b[49m\n\u001b[1;32m    161\u001b[0m     \u001b[38;5;28;01mif\u001b[39;00m \u001b[38;5;124m\"\u001b[39m\u001b[38;5;124merror_code\u001b[39m\u001b[38;5;124m\"\u001b[39m \u001b[38;5;129;01min\u001b[39;00m result: \u001b[38;5;28;01mraise\u001b[39;00m AzureError(result)\n\u001b[1;32m    162\u001b[0m     \u001b[38;5;28;01mreturn\u001b[39;00m AzureResult(result, content[\u001b[38;5;124m'\u001b[39m\u001b[38;5;124mdata\u001b[39m\u001b[38;5;124m'\u001b[39m])\n",
            "File \u001b[0;32m/usr/local/lib/python3.9/site-packages/qsharp/clients/iqsharp.py:293\u001b[0m, in \u001b[0;36mIQSharpClient._execute_callable_magic\u001b[0;34m(self, magic, op, raise_on_stderr, _quiet_, **kwargs)\u001b[0m\n\u001b[1;32m    288\u001b[0m \u001b[38;5;28;01mdef\u001b[39;00m \u001b[38;5;21m_execute_callable_magic\u001b[39m(\u001b[38;5;28mself\u001b[39m, magic : \u001b[38;5;28mstr\u001b[39m, op,\n\u001b[1;32m    289\u001b[0m         raise_on_stderr : \u001b[38;5;28mbool\u001b[39m \u001b[38;5;241m=\u001b[39m \u001b[38;5;28;01mFalse\u001b[39;00m,\n\u001b[1;32m    290\u001b[0m         _quiet_ : \u001b[38;5;28mbool\u001b[39m \u001b[38;5;241m=\u001b[39m \u001b[38;5;28;01mFalse\u001b[39;00m,\n\u001b[1;32m    291\u001b[0m         \u001b[38;5;241m*\u001b[39m\u001b[38;5;241m*\u001b[39mkwargs\n\u001b[1;32m    292\u001b[0m ) \u001b[38;5;241m-\u001b[39m\u001b[38;5;241m>\u001b[39m Any:\n\u001b[0;32m--> 293\u001b[0m     \u001b[38;5;28;01mreturn\u001b[39;00m \u001b[38;5;28;43mself\u001b[39;49m\u001b[38;5;241;43m.\u001b[39;49m\u001b[43m_execute_magic\u001b[49m\u001b[43m(\u001b[49m\n\u001b[1;32m    294\u001b[0m \u001b[43m        \u001b[49m\u001b[38;5;124;43mf\u001b[39;49m\u001b[38;5;124;43m\"\u001b[39;49m\u001b[38;5;132;43;01m{\u001b[39;49;00m\u001b[43mmagic\u001b[49m\u001b[38;5;132;43;01m}\u001b[39;49;00m\u001b[38;5;124;43m \u001b[39;49m\u001b[38;5;132;43;01m{\u001b[39;49;00m\u001b[43mop\u001b[49m\u001b[38;5;241;43m.\u001b[39;49m\u001b[43m_name\u001b[49m\u001b[38;5;132;43;01m}\u001b[39;49;00m\u001b[38;5;124;43m\"\u001b[39;49m\u001b[43m,\u001b[49m\n\u001b[1;32m    295\u001b[0m \u001b[43m        \u001b[49m\u001b[43mraise_on_stderr\u001b[49m\u001b[38;5;241;43m=\u001b[39;49m\u001b[43mraise_on_stderr\u001b[49m\u001b[43m,\u001b[49m\n\u001b[1;32m    296\u001b[0m \u001b[43m        \u001b[49m\u001b[43m_quiet_\u001b[49m\u001b[38;5;241;43m=\u001b[39;49m\u001b[43m_quiet_\u001b[49m\u001b[43m,\u001b[49m\n\u001b[1;32m    297\u001b[0m \u001b[43m        \u001b[49m\u001b[38;5;241;43m*\u001b[39;49m\u001b[38;5;241;43m*\u001b[39;49m\u001b[43mkwargs\u001b[49m\n\u001b[1;32m    298\u001b[0m \u001b[43m    \u001b[49m\u001b[43m)\u001b[49m\n",
            "File \u001b[0;32m/usr/local/lib/python3.9/site-packages/qsharp/clients/iqsharp.py:283\u001b[0m, in \u001b[0;36mIQSharpClient._execute_magic\u001b[0;34m(self, magic, raise_on_stderr, _quiet_, return_full_result, **kwargs)\u001b[0m\n\u001b[1;32m    281\u001b[0m \u001b[38;5;28;01mdef\u001b[39;00m \u001b[38;5;21m_execute_magic\u001b[39m(\u001b[38;5;28mself\u001b[39m, magic : \u001b[38;5;28mstr\u001b[39m, raise_on_stderr : \u001b[38;5;28mbool\u001b[39m \u001b[38;5;241m=\u001b[39m \u001b[38;5;28;01mFalse\u001b[39;00m, _quiet_ : \u001b[38;5;28mbool\u001b[39m \u001b[38;5;241m=\u001b[39m \u001b[38;5;28;01mFalse\u001b[39;00m, return_full_result\u001b[38;5;241m=\u001b[39m\u001b[38;5;28;01mFalse\u001b[39;00m, \u001b[38;5;241m*\u001b[39m\u001b[38;5;241m*\u001b[39mkwargs) \u001b[38;5;241m-\u001b[39m\u001b[38;5;241m>\u001b[39m Any:\n\u001b[1;32m    282\u001b[0m     _timeout_ \u001b[38;5;241m=\u001b[39m kwargs\u001b[38;5;241m.\u001b[39mpop(\u001b[38;5;124m'\u001b[39m\u001b[38;5;124m_timeout_\u001b[39m\u001b[38;5;124m'\u001b[39m, DEFAULT_TIMEOUT)\n\u001b[0;32m--> 283\u001b[0m     \u001b[38;5;28;01mreturn\u001b[39;00m \u001b[38;5;28;43mself\u001b[39;49m\u001b[38;5;241;43m.\u001b[39;49m\u001b[43m_execute\u001b[49m\u001b[43m(\u001b[49m\n\u001b[1;32m    284\u001b[0m \u001b[43m        \u001b[49m\u001b[38;5;124;43mf\u001b[39;49m\u001b[38;5;124;43m'\u001b[39;49m\u001b[38;5;124;43m%\u001b[39;49m\u001b[38;5;132;43;01m{\u001b[39;49;00m\u001b[43mmagic\u001b[49m\u001b[38;5;132;43;01m}\u001b[39;49;00m\u001b[38;5;124;43m \u001b[39;49m\u001b[38;5;132;43;01m{\u001b[39;49;00m\u001b[43mjson\u001b[49m\u001b[38;5;241;43m.\u001b[39;49m\u001b[43mdumps\u001b[49m\u001b[43m(\u001b[49m\u001b[43mmap_tuples\u001b[49m\u001b[43m(\u001b[49m\u001b[43mkwargs\u001b[49m\u001b[43m)\u001b[49m\u001b[43m)\u001b[49m\u001b[38;5;132;43;01m}\u001b[39;49;00m\u001b[38;5;124;43m'\u001b[39;49m\u001b[43m,\u001b[49m\n\u001b[1;32m    285\u001b[0m \u001b[43m        \u001b[49m\u001b[43mraise_on_stderr\u001b[49m\u001b[38;5;241;43m=\u001b[39;49m\u001b[43mraise_on_stderr\u001b[49m\u001b[43m,\u001b[49m\u001b[43m \u001b[49m\u001b[43m_quiet_\u001b[49m\u001b[38;5;241;43m=\u001b[39;49m\u001b[43m_quiet_\u001b[49m\u001b[43m,\u001b[49m\u001b[43m \u001b[49m\u001b[43m_timeout_\u001b[49m\u001b[38;5;241;43m=\u001b[39;49m\u001b[43m_timeout_\u001b[49m\u001b[43m,\u001b[49m\u001b[43m \u001b[49m\u001b[43mreturn_full_result\u001b[49m\u001b[38;5;241;43m=\u001b[39;49m\u001b[43mreturn_full_result\u001b[49m\n\u001b[1;32m    286\u001b[0m \u001b[43m    \u001b[49m\u001b[43m)\u001b[49m\n",
            "File \u001b[0;32m/usr/local/lib/python3.9/site-packages/qsharp/clients/iqsharp.py:373\u001b[0m, in \u001b[0;36mIQSharpClient._execute\u001b[0;34m(self, input, return_full_result, raise_on_stderr, output_hook, display_data_handler, _timeout_, _quiet_, **kwargs)\u001b[0m\n\u001b[1;32m    371\u001b[0m         \u001b[38;5;28;01mraise\u001b[39;00m AlreadyExecutingError(\u001b[38;5;124m\"\u001b[39m\u001b[38;5;124mCannot execute through the IQ# client while another execution is completing.\u001b[39m\u001b[38;5;124m\"\u001b[39m)\n\u001b[1;32m    372\u001b[0m     \u001b[38;5;28mself\u001b[39m\u001b[38;5;241m.\u001b[39m_busy \u001b[38;5;241m=\u001b[39m \u001b[38;5;28;01mTrue\u001b[39;00m\n\u001b[0;32m--> 373\u001b[0m     reply \u001b[38;5;241m=\u001b[39m \u001b[38;5;28;43mself\u001b[39;49m\u001b[38;5;241;43m.\u001b[39;49m\u001b[43mkernel_client\u001b[49m\u001b[38;5;241;43m.\u001b[39;49m\u001b[43mexecute_interactive\u001b[49m\u001b[43m(\u001b[49m\u001b[38;5;28;43minput\u001b[39;49m\u001b[43m,\u001b[49m\u001b[43m \u001b[49m\u001b[43mtimeout\u001b[49m\u001b[38;5;241;43m=\u001b[39;49m\u001b[43m_timeout_\u001b[49m\u001b[43m,\u001b[49m\u001b[43m \u001b[49m\u001b[43moutput_hook\u001b[49m\u001b[38;5;241;43m=\u001b[39;49m\u001b[43m_output_hook\u001b[49m\u001b[43m,\u001b[49m\u001b[43m \u001b[49m\u001b[38;5;241;43m*\u001b[39;49m\u001b[38;5;241;43m*\u001b[39;49m\u001b[43mkwargs\u001b[49m\u001b[43m)\u001b[49m\n\u001b[1;32m    374\u001b[0m \u001b[38;5;28;01mfinally\u001b[39;00m:\n\u001b[1;32m    375\u001b[0m     \u001b[38;5;28mself\u001b[39m\u001b[38;5;241m.\u001b[39m_busy \u001b[38;5;241m=\u001b[39m \u001b[38;5;28;01mFalse\u001b[39;00m\n",
            "File \u001b[0;32m/usr/local/lib/python3.9/site-packages/jupyter_core/utils/__init__.py:160\u001b[0m, in \u001b[0;36mrun_sync.<locals>.wrapped\u001b[0;34m(*args, **kwargs)\u001b[0m\n\u001b[1;32m    158\u001b[0m     \u001b[38;5;28;01mif\u001b[39;00m name \u001b[38;5;129;01mnot\u001b[39;00m \u001b[38;5;129;01min\u001b[39;00m _runner_map:\n\u001b[1;32m    159\u001b[0m         _runner_map[name] \u001b[38;5;241m=\u001b[39m _TaskRunner()\n\u001b[0;32m--> 160\u001b[0m     \u001b[38;5;28;01mreturn\u001b[39;00m \u001b[43m_runner_map\u001b[49m\u001b[43m[\u001b[49m\u001b[43mname\u001b[49m\u001b[43m]\u001b[49m\u001b[38;5;241;43m.\u001b[39;49m\u001b[43mrun\u001b[49m\u001b[43m(\u001b[49m\u001b[43minner\u001b[49m\u001b[43m)\u001b[49m\n\u001b[1;32m    161\u001b[0m \u001b[38;5;28;01mexcept\u001b[39;00m \u001b[38;5;167;01mRuntimeError\u001b[39;00m:\n\u001b[1;32m    162\u001b[0m     \u001b[38;5;28;01mpass\u001b[39;00m\n",
            "File \u001b[0;32m/usr/local/lib/python3.9/site-packages/jupyter_core/utils/__init__.py:128\u001b[0m, in \u001b[0;36m_TaskRunner.run\u001b[0;34m(self, coro)\u001b[0m\n\u001b[1;32m    126\u001b[0m         \u001b[38;5;28mself\u001b[39m\u001b[38;5;241m.\u001b[39m__runner_thread\u001b[38;5;241m.\u001b[39mstart()\n\u001b[1;32m    127\u001b[0m fut \u001b[38;5;241m=\u001b[39m asyncio\u001b[38;5;241m.\u001b[39mrun_coroutine_threadsafe(coro, \u001b[38;5;28mself\u001b[39m\u001b[38;5;241m.\u001b[39m__io_loop)\n\u001b[0;32m--> 128\u001b[0m \u001b[38;5;28;01mreturn\u001b[39;00m \u001b[43mfut\u001b[49m\u001b[38;5;241;43m.\u001b[39;49m\u001b[43mresult\u001b[49m\u001b[43m(\u001b[49m\u001b[38;5;28;43;01mNone\u001b[39;49;00m\u001b[43m)\u001b[49m\n",
            "File \u001b[0;32m/usr/local/lib/python3.9/concurrent/futures/_base.py:446\u001b[0m, in \u001b[0;36mFuture.result\u001b[0;34m(self, timeout)\u001b[0m\n\u001b[1;32m    444\u001b[0m     \u001b[38;5;28;01mraise\u001b[39;00m CancelledError()\n\u001b[1;32m    445\u001b[0m \u001b[38;5;28;01melif\u001b[39;00m \u001b[38;5;28mself\u001b[39m\u001b[38;5;241m.\u001b[39m_state \u001b[38;5;241m==\u001b[39m FINISHED:\n\u001b[0;32m--> 446\u001b[0m     \u001b[38;5;28;01mreturn\u001b[39;00m \u001b[38;5;28;43mself\u001b[39;49m\u001b[38;5;241;43m.\u001b[39;49m\u001b[43m__get_result\u001b[49m\u001b[43m(\u001b[49m\u001b[43m)\u001b[49m\n\u001b[1;32m    447\u001b[0m \u001b[38;5;28;01melse\u001b[39;00m:\n\u001b[1;32m    448\u001b[0m     \u001b[38;5;28;01mraise\u001b[39;00m \u001b[38;5;167;01mTimeoutError\u001b[39;00m()\n",
            "File \u001b[0;32m/usr/local/lib/python3.9/concurrent/futures/_base.py:391\u001b[0m, in \u001b[0;36mFuture.__get_result\u001b[0;34m(self)\u001b[0m\n\u001b[1;32m    389\u001b[0m \u001b[38;5;28;01mif\u001b[39;00m \u001b[38;5;28mself\u001b[39m\u001b[38;5;241m.\u001b[39m_exception:\n\u001b[1;32m    390\u001b[0m     \u001b[38;5;28;01mtry\u001b[39;00m:\n\u001b[0;32m--> 391\u001b[0m         \u001b[38;5;28;01mraise\u001b[39;00m \u001b[38;5;28mself\u001b[39m\u001b[38;5;241m.\u001b[39m_exception\n\u001b[1;32m    392\u001b[0m     \u001b[38;5;28;01mfinally\u001b[39;00m:\n\u001b[1;32m    393\u001b[0m         \u001b[38;5;66;03m# Break a reference cycle with the exception in self._exception\u001b[39;00m\n\u001b[1;32m    394\u001b[0m         \u001b[38;5;28mself\u001b[39m \u001b[38;5;241m=\u001b[39m \u001b[38;5;28;01mNone\u001b[39;00m\n",
            "File \u001b[0;32m/usr/local/lib/python3.9/site-packages/jupyter_client/client.py:535\u001b[0m, in \u001b[0;36mKernelClient._async_execute_interactive\u001b[0;34m(self, code, silent, store_history, user_expressions, allow_stdin, stop_on_error, timeout, output_hook, stdin_hook)\u001b[0m\n\u001b[1;32m    533\u001b[0m events \u001b[38;5;241m=\u001b[39m \u001b[38;5;28mdict\u001b[39m(poller\u001b[38;5;241m.\u001b[39mpoll(timeout_ms))\n\u001b[1;32m    534\u001b[0m \u001b[38;5;28;01mif\u001b[39;00m \u001b[38;5;129;01mnot\u001b[39;00m events:\n\u001b[0;32m--> 535\u001b[0m     \u001b[38;5;28;01mraise\u001b[39;00m \u001b[38;5;167;01mTimeoutError\u001b[39;00m(\u001b[38;5;124m\"\u001b[39m\u001b[38;5;124mTimeout waiting for output\u001b[39m\u001b[38;5;124m\"\u001b[39m)\n\u001b[1;32m    536\u001b[0m \u001b[38;5;28;01mif\u001b[39;00m stdin_socket \u001b[38;5;129;01min\u001b[39;00m events:\n\u001b[1;32m    537\u001b[0m     req \u001b[38;5;241m=\u001b[39m \u001b[38;5;28;01mawait\u001b[39;00m ensure_async(\u001b[38;5;28mself\u001b[39m\u001b[38;5;241m.\u001b[39mstdin_channel\u001b[38;5;241m.\u001b[39mget_msg(timeout\u001b[38;5;241m=\u001b[39m\u001b[38;5;241m0\u001b[39m))\n",
            "\u001b[0;31mTimeoutError\u001b[0m: Timeout waiting for output"
          ]
        }
      ],
      "execution_count": 44,
      "metadata": {
        "jupyter": {
          "source_hidden": false,
          "outputs_hidden": false
        },
        "nteract": {
          "transient": {
            "deleting": false
          }
        },
        "id": "3uD7IyiluQd8"
      }
    },
    {
      "cell_type": "code",
      "source": [
        "eveBits = pickResult(qsharp.azure.output(' # COMPLETE THIS LINE WITH THE JOB ID PRINTED ABOVE\n",
        "\n",
        "print(\"Eve measures: \" + str(eveBits))\n",
        "print(\"\\n\")"
      ],
      "outputs": [
        {
          "output_type": "error",
          "ename": "SyntaxError",
          "evalue": "EOL while scanning string literal (2669545216.py, line 1)",
          "traceback": [
            "\u001b[0;36m  Cell \u001b[0;32mIn[110], line 1\u001b[0;36m\u001b[0m\n\u001b[0;31m    eveBits = pickResult(qsharp.azure.output(' # COMPLETE THIS LINE WITH THE JOB ID PRINTED ABOVE\u001b[0m\n\u001b[0m                                                                                                 ^\u001b[0m\n\u001b[0;31mSyntaxError\u001b[0m\u001b[0;31m:\u001b[0m EOL while scanning string literal\n"
          ]
        }
      ],
      "execution_count": 110,
      "metadata": {
        "jupyter": {
          "source_hidden": false,
          "outputs_hidden": false
        },
        "nteract": {
          "transient": {
            "deleting": false
          }
        },
        "id": "R8RF3_f5ZjSf"
      }
    },
    {
      "cell_type": "code",
      "source": [
        "# EVE SENDS QUBITS TO BOB\n",
        "qsharp.azure.execute(SendEveBob, eveBits = eveBits, bobChoices = bobChoices, shots = 10, timeout = 1000)"
      ],
      "outputs": [
        {
          "output_type": "error",
          "ename": "NameError",
          "evalue": "name 'eveBits' is not defined",
          "traceback": [
            "\u001b[0;31m---------------------------------------------------------------------------\u001b[0m",
            "\u001b[0;31mNameError\u001b[0m                                 Traceback (most recent call last)",
            "Cell \u001b[0;32mIn[46], line 2\u001b[0m\n\u001b[1;32m      1\u001b[0m \u001b[38;5;66;03m# EVE SENDS QUBITS TO BOB\u001b[39;00m\n\u001b[0;32m----> 2\u001b[0m qsharp\u001b[38;5;241m.\u001b[39mazure\u001b[38;5;241m.\u001b[39mexecute(SendEveBob, eveBits \u001b[38;5;241m=\u001b[39m \u001b[43meveBits\u001b[49m, bobChoices \u001b[38;5;241m=\u001b[39m bobChoices, shots \u001b[38;5;241m=\u001b[39m \u001b[38;5;241m10\u001b[39m, timeout \u001b[38;5;241m=\u001b[39m \u001b[38;5;241m1000\u001b[39m)\n",
            "\u001b[0;31mNameError\u001b[0m: name 'eveBits' is not defined"
          ]
        }
      ],
      "execution_count": 46,
      "metadata": {
        "jupyter": {
          "source_hidden": false,
          "outputs_hidden": false
        },
        "nteract": {
          "transient": {
            "deleting": false
          }
        },
        "id": "1MPvml-xuQd8"
      }
    },
    {
      "cell_type": "code",
      "source": [
        "bobBits = pickResult(qsharp.azure.output(' # COMPLETE THIS LINE WITH THE JOB ID PRINTED ABOVE\n",
        "\n",
        "print(\"Bob's choices: \" + str(bobChoices))\n",
        "print(\"Bob's bits: \" + str(bobBits))\n",
        "print(\"\\n\")\n",
        "\n",
        "\n",
        "# STEP #6\n",
        "aliceKey = GenerateKey.simulate(bits = aliceBits, aliceChoices = aliceChoices, bobChoices = bobChoices)\n",
        "bobKey = GenerateKey.simulate(bits = bobBits, aliceChoices = aliceChoices, bobChoices = bobChoices)\n",
        "\n",
        "print(\"Alice's key: \" + str(aliceKey))\n",
        "print(\"Bob's key: \" + str(bobKey))\n",
        "print(\"\\n\")\n",
        "\n",
        "\n",
        "# STEP #7\n",
        "if IsSecureKey.simulate(aliceKey = aliceKey, bobKey = bobKey):\n",
        "\n",
        "    aliceKey = aliceKey[len(aliceKey) // 2: ]\n",
        "    bobKey = bobKey[len(bobKey) // 2: ]\n",
        "\n",
        "    print(\"Key seems secure! They will now use: \")\n",
        "    print(\"Alice's key: \" + str(aliceKey))\n",
        "    print(\"Bob's key: \" + str(bobKey))\n",
        "\n",
        "else:\n",
        "    print(\"Alice and Bob have detected Eve's interception!\")"
      ],
      "outputs": [
        {
          "output_type": "error",
          "ename": "SyntaxError",
          "evalue": "EOL while scanning string literal (1295976306.py, line 1)",
          "traceback": [
            "\u001b[0;36m  Cell \u001b[0;32mIn[47], line 1\u001b[0;36m\u001b[0m\n\u001b[0;31m    bobBits = pickResult(qsharp.azure.output(' # COMPLETE THIS LINE WITH THE JOB ID PRINTED ABOVE\u001b[0m\n\u001b[0m                                                                                                 ^\u001b[0m\n\u001b[0;31mSyntaxError\u001b[0m\u001b[0;31m:\u001b[0m EOL while scanning string literal\n"
          ]
        }
      ],
      "execution_count": 47,
      "metadata": {
        "jupyter": {
          "source_hidden": false,
          "outputs_hidden": false
        },
        "nteract": {
          "transient": {
            "deleting": false
          }
        },
        "id": "5eXa0Y4NZjSg"
      }
    },
    {
      "cell_type": "markdown",
      "source": [
        "# End of Notebook\n",
        "---\n",
        "© 2023 The Coding School, All rights reserved"
      ],
      "metadata": {
        "nteract": {
          "transient": {
            "deleting": false
          }
        },
        "id": "y6pe_5mglkwg"
      }
    }
  ],
  "metadata": {
    "kernelspec": {
      "name": "python3",
      "language": "python",
      "display_name": "Python 3 (ipykernel)"
    },
    "language_info": {
      "name": "python",
      "version": "3.9.16",
      "mimetype": "text/x-python",
      "codemirror_mode": {
        "name": "ipython",
        "version": 3
      },
      "pygments_lexer": "ipython3",
      "nbconvert_exporter": "python",
      "file_extension": ".py"
    },
    "microsoft": {
      "host": {
        "AzureQuantum": {
          "sourceType": "SampleGallery",
          "sourceLink": "https://raw.githubusercontent.com/microsoft/Quantum/f7d76cc28219b577404437b993a8fdfdc0dad33e/samples/azure-quantum/parallel-qrng/ParallelQrng.ipynb"
        }
      }
    },
    "kernel_info": {
      "name": "python3"
    },
    "nteract": {
      "version": "nteract-front-end@1.0.0"
    },
    "colab": {
      "provenance": []
    }
  },
  "nbformat": 4,
  "nbformat_minor": 0
}