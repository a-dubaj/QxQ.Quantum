{
  "cells": [
    {
      "cell_type": "markdown",
      "source": [
        "# **Lab #2: Quantum Computing on Azure Quantum with Q# and Jupyter Notebooks** \n",
        "## **Microsoft Winter School, February 5th 2023**\n",
        "\n",
        "### **Summary**\n",
        "\n",
        "In today's lab, we are going to build a random number generator while learning about quantum computing and Q#. \n",
        "\n",
        "Note that only a quantum computer can generate **truly random** numbers. Classical computers are only able to create what we call **pseudorandom** numbers, because, technically, one can predict which number a classical computer will generate (given enough information).\n",
        "\n",
        "<br>\n",
        "\n",
        "### **Learning Objectives**\n",
        "* Get familiar with Azure Quantum platform and notebooks.\n",
        "* Create simple programs and quantum circuits in Q#.\n",
        "* Learn different ways to get results from your programs, and how to visualize them.\n",
        "* Build a random number generator with qubits."
      ],
      "metadata": {
        "id": "JVVLcPDR1eSf"
      }
    },
    {
      "cell_type": "markdown",
      "source": [
        "## **Part #0: Imports**\n",
        "\n",
        "**Run the code below to import all necessary libraries and functions for this lab.**\n",
        "\n",
        "<br>\n",
        "\n",
        "**NOTE:** Azure Quantum Workspace Notebooks allow you to run both Q# and Python code. We are going to use Python to visualize our results. Every cell containing Q# code needs to be identified with `%%qsharp`. We will be using _Python3 kernel_, so, **please, make sure the correct kernel is selected at the top!**"
      ],
      "metadata": {
        "nteract": {
          "transient": {
            "deleting": false
          }
        },
        "id": "ENXo-7TN1eSh"
      }
    },
    {
      "cell_type": "code",
      "source": [
        "from matplotlib import pyplot\n",
        "\n",
        "import qsharp\n",
        "import qsharp.azure\n",
        "\n",
        "# Connect to available targets\n",
        "targets = qsharp.azure.connect(\n",
        "    resourceId=\"/subscriptions/cdd4985b-2017-484b-bb09-a575bd40587a/resourceGroups/AzureQuantum/providers/Microsoft.Quantum/Workspaces/qxqwinterschoolAndrzejDubaj\",\n",
        "    location=\"westcentralus\")"
      ],
      "outputs": [
        {
          "output_type": "stream",
          "name": "stdout",
          "text": "Preparing Q# environment...\n..."
        },
        {
          "output_type": "display_data",
          "data": {
            "text/plain": "Connecting to Azure Quantum...",
            "application/x-qsharp-data": "\"Connecting to Azure Quantum...\""
          },
          "metadata": {}
        },
        {
          "output_type": "stream",
          "name": "stdout",
          "text": "Authenticated using Microsoft.Azure.Quantum.Authentication.TokenFileCredential\n\n\nConnected to Azure Quantum workspace qxqwinterschoolAndrzejDubaj in location westcentralus.\n"
        }
      ],
      "execution_count": 1,
      "metadata": {
        "jupyter": {
          "source_hidden": false,
          "outputs_hidden": false
        },
        "nteract": {
          "transient": {
            "deleting": false
          }
        },
        "microsoft": {},
        "id": "ErXcUGJC1eSi"
      }
    },
    {
      "cell_type": "code",
      "source": [
        "%%qsharp\n",
        "open Microsoft.Quantum.Arrays;\n",
        "open Microsoft.Quantum.Measurement;\n",
        "open Microsoft.Quantum.Convert;"
      ],
      "outputs": [],
      "execution_count": 2,
      "metadata": {
        "jupyter": {
          "source_hidden": false,
          "outputs_hidden": false
        },
        "nteract": {
          "transient": {
            "deleting": false
          }
        },
        "collapsed": true,
        "microsoft": {
          "language": "qsharp"
        },
        "id": "-1toKjBz1eSj"
      }
    },
    {
      "cell_type": "markdown",
      "source": [
        "## **Part #1: Basics of Q#**\n",
        "\n",
        "Let's learn about **operations** in Q# by working with purely classical data types and functionality."
      ],
      "metadata": {
        "nteract": {
          "transient": {
            "deleting": false
          }
        },
        "id": "dgiJSJ_n1eSk"
      }
    },
    {
      "cell_type": "markdown",
      "source": [
        "### **Exercise #1.1: Create Your First Q# Operation (Practice Together)**\n",
        "\n",
        "We will now create our first piece of Q# code! Any time you write Q# code, it has to be embedded in an **operation**. We will do this in three parts:\n",
        "\n",
        "1. Declare the operation in python so that it is recognized later on.\n",
        "2. Create an operation in Q# called `HelloWorld`.\n",
        "3. Simulate the operation in python."
      ],
      "metadata": {
        "nteract": {
          "transient": {
            "deleting": false
          }
        },
        "id": "z_E96aK51eSk"
      }
    },
    {
      "cell_type": "markdown",
      "source": [
        "#### **1. Declare the operation in python so that it is recognized later on.**"
      ],
      "metadata": {
        "nteract": {
          "transient": {
            "deleting": false
          }
        },
        "id": "o4FC7P_b1eSk"
      }
    },
    {
      "cell_type": "code",
      "source": [
        "HelloWorld: any = None"
      ],
      "outputs": [],
      "execution_count": 3,
      "metadata": {
        "jupyter": {
          "source_hidden": false,
          "outputs_hidden": true
        },
        "nteract": {
          "transient": {
            "deleting": false
          }
        },
        "id": "o1fnmmhw1eSk"
      }
    },
    {
      "cell_type": "markdown",
      "source": [
        "#### **2. Create an operation in Q# called `HelloWorld`.** \n",
        "\n",
        "Let's complete the code below so that this operation:\n",
        "* Takes no parameters.\n",
        "* Returns the `Unit` type.\n",
        "* Prints the message `\"Hello, world!\"`."
      ],
      "metadata": {
        "nteract": {
          "transient": {
            "deleting": false
          }
        },
        "id": "IUBPKUIP1eSk"
      }
    },
    {
      "cell_type": "code",
      "source": [
        "%%qsharp\n",
        "operation HelloWorld() : Unit {\n",
        "    Message($\" Hello, world!\");\n",
        "}"
      ],
      "outputs": [],
      "execution_count": 4,
      "metadata": {
        "id": "gMPOUCu6Dc2L",
        "microsoft": {
          "language": "qsharp"
        }
      }
    },
    {
      "cell_type": "markdown",
      "source": [
        "#### **3. Simulate the operation in python.**\n",
        "\n",
        "Since operations *could* have quantum operations, we have to use a *quantum simulator*. \n",
        "\n",
        "**Run the cell below to use Microsoft's simulator.**"
      ],
      "metadata": {
        "nteract": {
          "transient": {
            "deleting": false
          }
        },
        "id": "ekNwIPpj1eSl"
      }
    },
    {
      "cell_type": "code",
      "source": [
        "HelloWorld.simulate()"
      ],
      "outputs": [
        {
          "output_type": "stream",
          "name": "stdout",
          "text": " Hello, world!\n"
        },
        {
          "output_type": "execute_result",
          "execution_count": 5,
          "data": {
            "text/plain": "()"
          },
          "metadata": {}
        }
      ],
      "execution_count": 5,
      "metadata": {
        "jupyter": {
          "source_hidden": false,
          "outputs_hidden": false
        },
        "nteract": {
          "transient": {
            "deleting": false
          }
        },
        "id": "su7Grjul1eSl"
      }
    },
    {
      "cell_type": "markdown",
      "source": [
        "**Congratulations on completing your first Q# operation!**"
      ],
      "metadata": {
        "nteract": {
          "transient": {
            "deleting": false
          }
        },
        "id": "NDShhfve1eSl"
      }
    },
    {
      "cell_type": "markdown",
      "source": [
        "### **Exercise #1.2: Print Your Name (Practice Together)**\n",
        "\n",
        "Now, we will write similar code as above, but to print your name out using a parameter. We will do this in three parts:\n",
        "\n",
        "1. Declare the operation in python so that it is recognized later on.\n",
        "2. Create an operation in Q# called `PrintName`.\n",
        "3. Simulate the operation in python."
      ],
      "metadata": {
        "nteract": {
          "transient": {
            "deleting": false
          }
        },
        "id": "KVR7hiv9OuES"
      }
    },
    {
      "cell_type": "markdown",
      "source": [
        "#### **1. Declare the operation in python so that it is recognized later on.**"
      ],
      "metadata": {
        "nteract": {
          "transient": {
            "deleting": false
          }
        },
        "id": "G-jxQntwOuES"
      }
    },
    {
      "cell_type": "code",
      "source": [
        "PrintName : any = None"
      ],
      "outputs": [],
      "execution_count": 6,
      "metadata": {
        "jupyter": {
          "source_hidden": false,
          "outputs_hidden": false
        },
        "nteract": {
          "transient": {
            "deleting": false
          }
        },
        "id": "apuPzVoaOuES"
      }
    },
    {
      "cell_type": "markdown",
      "source": [
        "#### **2. Create an operation in Q# called `PrintName`.** \n",
        "\n",
        "Let's complete the code below so that this operation:\n",
        "* Takes one parameter called `name` that is of type `String`.\n",
        "* Returns the `Unit` type.\n",
        "* Prints the message `\"My name is <name>\"`."
      ],
      "metadata": {
        "nteract": {
          "transient": {
            "deleting": false
          }
        },
        "id": "7zIgx1ttOuES"
      }
    },
    {
      "cell_type": "code",
      "source": [
        "%%qsharp\n",
        "operation PrintName(name : String) : Unit {\n",
        "    Message($\"My name is {name}\");\n",
        "}"
      ],
      "outputs": [],
      "execution_count": 7,
      "metadata": {
        "jupyter": {
          "source_hidden": false,
          "outputs_hidden": false
        },
        "nteract": {
          "transient": {
            "deleting": false
          }
        },
        "id": "-ws7fsTpOuES",
        "microsoft": {
          "language": "qsharp"
        }
      }
    },
    {
      "cell_type": "markdown",
      "source": [
        "#### **3. Simulate the operation in python.**\n",
        "\n",
        "**Run the cell below to use Microsoft's simulator.**"
      ],
      "metadata": {
        "nteract": {
          "transient": {
            "deleting": false
          }
        },
        "id": "rDSdIv6bOuES"
      }
    },
    {
      "cell_type": "code",
      "source": [
        "PrintName.simulate(name = \"Andrzej\")"
      ],
      "outputs": [
        {
          "output_type": "stream",
          "name": "stdout",
          "text": "My name is Andrzej\n"
        },
        {
          "output_type": "execute_result",
          "execution_count": 8,
          "data": {
            "text/plain": "()"
          },
          "metadata": {}
        }
      ],
      "execution_count": 8,
      "metadata": {
        "jupyter": {
          "source_hidden": false,
          "outputs_hidden": false
        },
        "nteract": {
          "transient": {
            "deleting": false
          }
        },
        "id": "Flz80qo4OuET"
      }
    },
    {
      "cell_type": "markdown",
      "source": [
        "---\n",
        "<center>\n",
        "\n",
        "### **Let's go back to the slides.**\n",
        "\n",
        "</center>\n",
        "\n",
        "---"
      ],
      "metadata": {
        "id": "SydyOXUpX1WL"
      }
    },
    {
      "cell_type": "markdown",
      "source": [
        "### **Exercise #1.3: Immutable Ints (Practice Together)**\n",
        "\n",
        "Let's see how to use immutable Ints in Q#. Specifically, we will create an immutable Int and try to modify it. We will follow the same 3 step flow as above:\n",
        "\n",
        "1. Declare the operation in python.\n",
        "2. Create the operation in Q#.\n",
        "3. Simulate the operation in python."
      ],
      "metadata": {
        "nteract": {
          "transient": {
            "deleting": false
          }
        },
        "id": "ZRTdfU3wXELV"
      }
    },
    {
      "cell_type": "markdown",
      "source": [
        "#### **1. Declare the operation in python.**\n",
        "\n",
        "Let's call it `MutateImmutable`."
      ],
      "metadata": {
        "nteract": {
          "transient": {
            "deleting": false
          }
        },
        "id": "EVt_Xp7qXELW"
      }
    },
    {
      "cell_type": "code",
      "source": [
        "MutateImmutable : any = None"
      ],
      "outputs": [],
      "execution_count": 9,
      "metadata": {
        "jupyter": {
          "source_hidden": false,
          "outputs_hidden": false
        },
        "nteract": {
          "transient": {
            "deleting": false
          }
        },
        "id": "i8c9UdEAXELW"
      }
    },
    {
      "cell_type": "markdown",
      "source": [
        "#### **2. Create the operation in Q#.**\n",
        "\n",
        "\n",
        "Let's complete the code below so that this operation:\n",
        "* Takes no parameters.\n",
        "* Returns the `Unit` type.\n",
        "* Creates an immutable Int with the value 2 and tries to increment it by 3."
      ],
      "metadata": {
        "nteract": {
          "transient": {
            "deleting": false
          }
        },
        "id": "AjXd0_4vXELW"
      }
    },
    {
      "cell_type": "code",
      "source": [
        "%%qsharp\n",
        "\n",
        "operation MutateImmutable() : Unit {\n",
        "    let x = 2;\n",
        "    x += 3;\n",
        "    Message($\"x = {x}\");\n",
        "}"
      ],
      "outputs": [
        {
          "output_type": "stream",
          "name": "stdout",
          "text": "\u001b[41m\u001b[30mfail\u001b[39m\u001b[22m\u001b[49m: Microsoft.Quantum.IQSharp.Snippets[0]\n      QS3001 (/snippet_.qs:Microsoft.VisualStudio.LanguageServer.Protocol.Range): Syntax does not match any known patterns.\n"
        },
        {
          "output_type": "error",
          "ename": "TypeError",
          "evalue": "'NoneType' object is not iterable",
          "traceback": [
            "\u001b[0;31m---------------------------------------------------------------------------\u001b[0m",
            "\u001b[0;31mTypeError\u001b[0m                                 Traceback (most recent call last)",
            "Cell \u001b[0;32mIn[10], line 1\u001b[0m\n\u001b[0;32m----> 1\u001b[0m \u001b[43mget_ipython\u001b[49m\u001b[43m(\u001b[49m\u001b[43m)\u001b[49m\u001b[38;5;241;43m.\u001b[39;49m\u001b[43mrun_cell_magic\u001b[49m\u001b[43m(\u001b[49m\u001b[38;5;124;43m'\u001b[39;49m\u001b[38;5;124;43mqsharp\u001b[39;49m\u001b[38;5;124;43m'\u001b[39;49m\u001b[43m,\u001b[49m\u001b[43m \u001b[49m\u001b[38;5;124;43m'\u001b[39;49m\u001b[38;5;124;43m'\u001b[39;49m\u001b[43m,\u001b[49m\u001b[43m \u001b[49m\u001b[38;5;124;43m'\u001b[39;49m\u001b[38;5;130;43;01m\\n\u001b[39;49;00m\u001b[38;5;124;43moperation MutateImmutable() : Unit \u001b[39;49m\u001b[38;5;124;43m{\u001b[39;49m\u001b[38;5;130;43;01m\\n\u001b[39;49;00m\u001b[38;5;124;43m    let x = 2;\u001b[39;49m\u001b[38;5;130;43;01m\\n\u001b[39;49;00m\u001b[38;5;124;43m    x += 3;\u001b[39;49m\u001b[38;5;130;43;01m\\n\u001b[39;49;00m\u001b[38;5;124;43m    Message($\u001b[39;49m\u001b[38;5;124;43m\"\u001b[39;49m\u001b[38;5;124;43mx = \u001b[39;49m\u001b[38;5;132;43;01m{x}\u001b[39;49;00m\u001b[38;5;124;43m\"\u001b[39;49m\u001b[38;5;124;43m);\u001b[39;49m\u001b[38;5;130;43;01m\\n\u001b[39;49;00m\u001b[38;5;124;43m}\u001b[39;49m\u001b[38;5;130;43;01m\\n\u001b[39;49;00m\u001b[38;5;124;43m'\u001b[39;49m\u001b[43m)\u001b[49m\n",
            "File \u001b[0;32m/usr/local/lib/python3.9/site-packages/IPython/core/interactiveshell.py:2422\u001b[0m, in \u001b[0;36mInteractiveShell.run_cell_magic\u001b[0;34m(self, magic_name, line, cell)\u001b[0m\n\u001b[1;32m   2420\u001b[0m \u001b[38;5;28;01mwith\u001b[39;00m \u001b[38;5;28mself\u001b[39m\u001b[38;5;241m.\u001b[39mbuiltin_trap:\n\u001b[1;32m   2421\u001b[0m     args \u001b[38;5;241m=\u001b[39m (magic_arg_s, cell)\n\u001b[0;32m-> 2422\u001b[0m     result \u001b[38;5;241m=\u001b[39m \u001b[43mfn\u001b[49m\u001b[43m(\u001b[49m\u001b[38;5;241;43m*\u001b[39;49m\u001b[43margs\u001b[49m\u001b[43m,\u001b[49m\u001b[43m \u001b[49m\u001b[38;5;241;43m*\u001b[39;49m\u001b[38;5;241;43m*\u001b[39;49m\u001b[43mkwargs\u001b[49m\u001b[43m)\u001b[49m\n\u001b[1;32m   2423\u001b[0m \u001b[38;5;28;01mreturn\u001b[39;00m result\n",
            "File \u001b[0;32m/usr/local/lib/python3.9/site-packages/qsharp/ipython_magic.py:28\u001b[0m, in \u001b[0;36mregister_magics.<locals>.qsharp\u001b[0;34m(magic_args, cell, local_ns)\u001b[0m\n\u001b[1;32m     26\u001b[0m     local_ns[callables\u001b[38;5;241m.\u001b[39m_name] \u001b[38;5;241m=\u001b[39m callables\n\u001b[1;32m     27\u001b[0m \u001b[38;5;28;01melse\u001b[39;00m:\n\u001b[0;32m---> 28\u001b[0m     \u001b[38;5;28;01mfor\u001b[39;00m qs_callable \u001b[38;5;129;01min\u001b[39;00m callables:\n\u001b[1;32m     29\u001b[0m         local_ns[qs_callable\u001b[38;5;241m.\u001b[39m_name] \u001b[38;5;241m=\u001b[39m qs_callable\n",
            "\u001b[0;31mTypeError\u001b[0m: 'NoneType' object is not iterable"
          ]
        }
      ],
      "execution_count": 10,
      "metadata": {
        "jupyter": {
          "source_hidden": false,
          "outputs_hidden": false
        },
        "nteract": {
          "transient": {
            "deleting": false
          }
        },
        "microsoft": {
          "language": "qsharp"
        },
        "id": "cAA_0O1DXELW"
      }
    },
    {
      "cell_type": "markdown",
      "source": [
        "#### **3. Simulate the operation in python.**"
      ],
      "metadata": {
        "nteract": {
          "transient": {
            "deleting": false
          }
        },
        "id": "QwkuTWAnXELW"
      }
    },
    {
      "cell_type": "code",
      "source": [
        "MutateImmutable.simulate()"
      ],
      "outputs": [
        {
          "output_type": "error",
          "ename": "AttributeError",
          "evalue": "'NoneType' object has no attribute 'simulate'",
          "traceback": [
            "\u001b[0;31m---------------------------------------------------------------------------\u001b[0m",
            "\u001b[0;31mAttributeError\u001b[0m                            Traceback (most recent call last)",
            "Cell \u001b[0;32mIn[11], line 1\u001b[0m\n\u001b[0;32m----> 1\u001b[0m \u001b[43mMutateImmutable\u001b[49m\u001b[38;5;241;43m.\u001b[39;49m\u001b[43msimulate\u001b[49m()\n",
            "\u001b[0;31mAttributeError\u001b[0m: 'NoneType' object has no attribute 'simulate'"
          ]
        }
      ],
      "execution_count": 11,
      "metadata": {
        "jupyter": {
          "source_hidden": false,
          "outputs_hidden": false
        },
        "nteract": {
          "transient": {
            "deleting": false
          }
        },
        "id": "_JAN-vnNXELW"
      }
    },
    {
      "cell_type": "markdown",
      "source": [
        "### **Exercise #1.4: Mutable Bool (Practice Together)**\n",
        "\n",
        "Let's see how to use mutable Bools in Q#. Specifically, we will create an immutable Bool and try to modify it. We will follow the same 3 step flow as above:\n",
        "\n",
        "1. Declare the operation in python.\n",
        "2. Create the operation in Q#.\n",
        "3. Simulate the operation in python."
      ],
      "metadata": {
        "nteract": {
          "transient": {
            "deleting": false
          }
        },
        "id": "Oi65U3EyYB5R"
      }
    },
    {
      "cell_type": "markdown",
      "source": [
        "#### **1. Declare the operation in python.**\n",
        "\n",
        "Let's call it `MutateBool`."
      ],
      "metadata": {
        "nteract": {
          "transient": {
            "deleting": false
          }
        },
        "id": "ZV63QGKMYB5S"
      }
    },
    {
      "cell_type": "code",
      "source": [
        "MutateBool : any = None"
      ],
      "outputs": [],
      "execution_count": 12,
      "metadata": {
        "jupyter": {
          "source_hidden": false,
          "outputs_hidden": false
        },
        "nteract": {
          "transient": {
            "deleting": false
          }
        },
        "id": "x9lmcYRpYB5S"
      }
    },
    {
      "cell_type": "markdown",
      "source": [
        "#### **2. Create the operation in Q#.**\n",
        "\n",
        "\n",
        "Let's complete the code below so that this operation:\n",
        "* Takes no parameters.\n",
        "* Returns the `Unit` type.\n",
        "* Creates an mutable Bool with the value false and tries to change it to true."
      ],
      "metadata": {
        "nteract": {
          "transient": {
            "deleting": false
          }
        },
        "id": "YwTLOx4RYB5S"
      }
    },
    {
      "cell_type": "code",
      "source": [
        "%%qsharp\n",
        "\n",
        "operation MutateBool() : Unit {\n",
        "    mutable y = false;\n",
        "    set y = true;\n",
        "\n",
        "    Message($\"y = {y}\");\n",
        "}"
      ],
      "outputs": [],
      "execution_count": 13,
      "metadata": {
        "jupyter": {
          "source_hidden": false,
          "outputs_hidden": false
        },
        "nteract": {
          "transient": {
            "deleting": false
          }
        },
        "microsoft": {
          "language": "qsharp"
        },
        "id": "3mGuFpZjYB5S"
      }
    },
    {
      "cell_type": "markdown",
      "source": [
        "#### **3. Simulate the operation in python.**"
      ],
      "metadata": {
        "nteract": {
          "transient": {
            "deleting": false
          }
        },
        "id": "UDmwpYGNYB5T"
      }
    },
    {
      "cell_type": "code",
      "source": [
        "MutateBool.simulate()"
      ],
      "outputs": [
        {
          "output_type": "stream",
          "name": "stdout",
          "text": "y = True\n"
        },
        {
          "output_type": "execute_result",
          "execution_count": 14,
          "data": {
            "text/plain": "()"
          },
          "metadata": {}
        }
      ],
      "execution_count": 14,
      "metadata": {
        "jupyter": {
          "source_hidden": false,
          "outputs_hidden": false
        },
        "nteract": {
          "transient": {
            "deleting": false
          }
        },
        "id": "_Hz-WnDrYB5T"
      }
    },
    {
      "cell_type": "markdown",
      "source": [
        "---\n",
        "<center>\n",
        "\n",
        "### **Let's go back to the slides.**\n",
        "\n",
        "</center>\n",
        "\n",
        "---"
      ],
      "metadata": {
        "id": "PjyJbSZ4ZvTn"
      }
    },
    {
      "cell_type": "markdown",
      "source": [
        "### **Exercise #1.5: Immutable Array of Ints (Practice Together)**\n",
        "\n",
        "Let's see how to create Arrays in Q#. Specifically, we will create an Array of Ints of size 10 and with all elements equal to 2. We will follow the same 3 step flow as above:\n",
        "\n",
        "1. Declare the operation in python.\n",
        "2. Create the operation in Q#.\n",
        "3. Simulate the operation in python."
      ],
      "metadata": {
        "nteract": {
          "transient": {
            "deleting": false
          }
        },
        "id": "I2qG2hy2OuET"
      }
    },
    {
      "cell_type": "markdown",
      "source": [
        "#### **1. Declare the operation in python.**\n",
        "\n",
        "Let's call it `GetTwos`."
      ],
      "metadata": {
        "nteract": {
          "transient": {
            "deleting": false
          }
        },
        "id": "GfxgN9UvOuET"
      }
    },
    {
      "cell_type": "code",
      "source": [
        "GetTwos : any = None"
      ],
      "outputs": [],
      "execution_count": 15,
      "metadata": {
        "jupyter": {
          "source_hidden": false,
          "outputs_hidden": false
        },
        "nteract": {
          "transient": {
            "deleting": false
          }
        },
        "id": "cIl44mpkOuET"
      }
    },
    {
      "cell_type": "markdown",
      "source": [
        "#### **2. Create the operation in Q#.**\n",
        "\n",
        "\n",
        "Let's complete the code below so that this operation:\n",
        "* Takes no parameters.\n",
        "* Returns the `Int[]` type, which is an array of size 10 filled with 2s."
      ],
      "metadata": {
        "nteract": {
          "transient": {
            "deleting": false
          }
        },
        "id": "1cYDl4wOOuET"
      }
    },
    {
      "cell_type": "code",
      "source": [
        "%%qsharp\n",
        "\n",
        "operation GetTwos() : Int[] {\n",
        "    \n",
        "    let a = [2, size = 10];\n",
        "    \n",
        "    return a;\n",
        "}"
      ],
      "outputs": [],
      "execution_count": 16,
      "metadata": {
        "jupyter": {
          "source_hidden": false,
          "outputs_hidden": false
        },
        "nteract": {
          "transient": {
            "deleting": false
          }
        },
        "microsoft": {
          "language": "qsharp"
        },
        "id": "OAg5LbXEOuET"
      }
    },
    {
      "cell_type": "markdown",
      "source": [
        "#### **3. Simulate the operation in python.**"
      ],
      "metadata": {
        "nteract": {
          "transient": {
            "deleting": false
          }
        },
        "id": "nPlNYuWzOuET"
      }
    },
    {
      "cell_type": "code",
      "source": [
        "GetTwos.simulate()"
      ],
      "outputs": [
        {
          "output_type": "execute_result",
          "execution_count": 17,
          "data": {
            "text/plain": "[2, 2, 2, 2, 2, 2, 2, 2, 2, 2]"
          },
          "metadata": {}
        }
      ],
      "execution_count": 17,
      "metadata": {
        "jupyter": {
          "source_hidden": false,
          "outputs_hidden": false
        },
        "nteract": {
          "transient": {
            "deleting": false
          }
        },
        "id": "Vd3g3CUKOuET"
      }
    },
    {
      "cell_type": "markdown",
      "source": [
        "### **Exercise #1.6: Mutable Array of Ints (Practice Together)**\n",
        "\n",
        "Let's see how to create and change mutable Arrays in Q#. Specifically, we will create an Array of Ints of size 10 and with all elements equal to 2. Then we will change the first value to 5. We will follow the same 3 step flow as above:\n",
        "\n",
        "1. Declare the operation in python.\n",
        "2. Create the operation in Q#.\n",
        "3. Simulate the operation in python."
      ],
      "metadata": {
        "nteract": {
          "transient": {
            "deleting": false
          }
        },
        "id": "u4eeHlEbZxem"
      }
    },
    {
      "cell_type": "markdown",
      "source": [
        "#### **1. Declare the operation in python.**\n",
        "\n",
        "Let's call it `ChangeArray`."
      ],
      "metadata": {
        "nteract": {
          "transient": {
            "deleting": false
          }
        },
        "id": "zOO957JwZxen"
      }
    },
    {
      "cell_type": "code",
      "source": [
        "ChangeArray : any = None"
      ],
      "outputs": [],
      "execution_count": 18,
      "metadata": {
        "jupyter": {
          "source_hidden": false,
          "outputs_hidden": false
        },
        "nteract": {
          "transient": {
            "deleting": false
          }
        },
        "id": "_j-Ygj48Zxen"
      }
    },
    {
      "cell_type": "markdown",
      "source": [
        "#### **2. Create the operation in Q#.**\n",
        "\n",
        "\n",
        "Let's complete the code below so that this operation:\n",
        "* Takes no parameters.\n",
        "* Returns the `Int[]` type, which is an array of size 10 filled with 2s except for the first element, which is 5."
      ],
      "metadata": {
        "nteract": {
          "transient": {
            "deleting": false
          }
        },
        "id": "GArOBpqcZxen"
      }
    },
    {
      "cell_type": "code",
      "source": [
        "%%qsharp\n",
        "\n",
        "operation ChangeArray() : Int[] {\n",
        "    \n",
        "    mutable a = [2, size = 10];\n",
        "\n",
        "    set a w/= 0 <- 5;\n",
        "    \n",
        "    return a;\n",
        "}"
      ],
      "outputs": [],
      "execution_count": 20,
      "metadata": {
        "jupyter": {
          "source_hidden": false,
          "outputs_hidden": false
        },
        "nteract": {
          "transient": {
            "deleting": false
          }
        },
        "microsoft": {
          "language": "qsharp"
        },
        "id": "BJG404HfZxen"
      }
    },
    {
      "cell_type": "markdown",
      "source": [
        "#### **3. Simulate the operation in python.**"
      ],
      "metadata": {
        "nteract": {
          "transient": {
            "deleting": false
          }
        },
        "id": "fbR39ON2Zxen"
      }
    },
    {
      "cell_type": "code",
      "source": [
        "ChangeArray.simulate()"
      ],
      "outputs": [
        {
          "output_type": "execute_result",
          "execution_count": 21,
          "data": {
            "text/plain": "[5, 2, 2, 2, 2, 2, 2, 2, 2, 2]"
          },
          "metadata": {}
        }
      ],
      "execution_count": 21,
      "metadata": {
        "jupyter": {
          "source_hidden": false,
          "outputs_hidden": false
        },
        "nteract": {
          "transient": {
            "deleting": false
          }
        },
        "id": "2U-0l4uQZxen"
      }
    },
    {
      "cell_type": "markdown",
      "source": [
        "---\n",
        "<center>\n",
        "\n",
        "### **Let's go back to the slides.**\n",
        "\n",
        "</center>\n",
        "\n",
        "---"
      ],
      "metadata": {
        "id": "A8MgEo4LavO5"
      }
    },
    {
      "cell_type": "markdown",
      "source": [
        "### **Exercise #1.7: Looping through an Array of Bools (Practice Together)**\n",
        "\n",
        "Let's see how to loop through Arrays in Q#. Specifically, we will print the index of all elements that are `true`. We will follow the same 3 step flow as above:\n",
        "\n",
        "1. Declare the operation in python.\n",
        "2. Create the operation in Q#.\n",
        "3. Simulate the operation in python."
      ],
      "metadata": {
        "nteract": {
          "transient": {
            "deleting": false
          }
        },
        "id": "3oJFfatPO0Xn"
      }
    },
    {
      "cell_type": "markdown",
      "source": [
        "#### **1. Declare the operation in python.**\n",
        "\n",
        "Let's call it `PrintTrues`."
      ],
      "metadata": {
        "nteract": {
          "transient": {
            "deleting": false
          }
        },
        "id": "Y6zjCuRZO0Xo"
      }
    },
    {
      "cell_type": "code",
      "source": [
        "PrintTrues : any = None"
      ],
      "outputs": [],
      "execution_count": 22,
      "metadata": {
        "jupyter": {
          "source_hidden": false,
          "outputs_hidden": false
        },
        "nteract": {
          "transient": {
            "deleting": false
          }
        },
        "id": "vlWkWL2cO0Xo"
      }
    },
    {
      "cell_type": "markdown",
      "source": [
        "#### **2. Create the operation in Q#.**\n",
        "\n",
        "\n",
        "Let's complete the code below so that this operation:\n",
        "* Takes one parameter called `arr` that is of type `Bool[]`.\n",
        "* Returns the `Unit` type.\n",
        "* Loops through all elements of `arr` and prints the index of any element that is `true`."
      ],
      "metadata": {
        "nteract": {
          "transient": {
            "deleting": false
          }
        },
        "id": "grQLywccO0Xo"
      }
    },
    {
      "cell_type": "code",
      "source": [
        "%%qsharp\n",
        "\n",
        "operation PrintTrues(arr : Bool[]) : Unit {\n",
        "    \n",
        "    for i in 0 .. Length(arr) - 1 {\n",
        "        if arr[i] == true {\n",
        "            Message($\"{i}\");\n",
        "        }\n",
        "    }\n",
        "}"
      ],
      "outputs": [],
      "execution_count": 24,
      "metadata": {
        "jupyter": {
          "source_hidden": false,
          "outputs_hidden": false
        },
        "nteract": {
          "transient": {
            "deleting": false
          }
        },
        "microsoft": {
          "language": "qsharp"
        },
        "id": "kUaGpNFxO0Xo"
      }
    },
    {
      "cell_type": "markdown",
      "source": [
        "#### **3. Simulate the operation in python.**"
      ],
      "metadata": {
        "nteract": {
          "transient": {
            "deleting": false
          }
        },
        "id": "TNdXV9SRO0Xp"
      }
    },
    {
      "cell_type": "code",
      "source": [
        "PrintTrues.simulate(arr = [False, True, False, False, True])"
      ],
      "outputs": [
        {
          "output_type": "stream",
          "name": "stdout",
          "text": "1\n4\n"
        },
        {
          "output_type": "execute_result",
          "execution_count": 25,
          "data": {
            "text/plain": "()"
          },
          "metadata": {}
        }
      ],
      "execution_count": 25,
      "metadata": {
        "jupyter": {
          "source_hidden": false,
          "outputs_hidden": false
        },
        "nteract": {
          "transient": {
            "deleting": false
          }
        },
        "id": "l-KZ0-scO0Xp"
      }
    },
    {
      "cell_type": "markdown",
      "source": [
        "### **Exercise #1.8: Modifying an Array of Ints (Practice Together)**\n",
        "\n",
        "Lastly, let's see how to modify Arrays in Q#. Specifically, we will multiply all elements of an array by 2. We will follow the same 3 step flow as above:\n",
        "\n",
        "1. Declare the operation in python.\n",
        "2. Create the operation in Q#.\n",
        "3. Simulate the operation in python."
      ],
      "metadata": {
        "nteract": {
          "transient": {
            "deleting": false
          }
        },
        "id": "M0tWGBYwQg5R"
      }
    },
    {
      "cell_type": "markdown",
      "source": [
        "#### **1. Declare the operation in python.**\n",
        "\n",
        "Let's call it `DoubleArray`."
      ],
      "metadata": {
        "nteract": {
          "transient": {
            "deleting": false
          }
        },
        "id": "7A0Lid68Qg5S"
      }
    },
    {
      "cell_type": "code",
      "source": [
        "DoubleArray : any = None"
      ],
      "outputs": [],
      "execution_count": 26,
      "metadata": {
        "jupyter": {
          "source_hidden": false,
          "outputs_hidden": false
        },
        "nteract": {
          "transient": {
            "deleting": false
          }
        },
        "id": "OxQraERzQg5S"
      }
    },
    {
      "cell_type": "markdown",
      "source": [
        "#### **2. Create the operation in Q#.**\n",
        "\n",
        "\n",
        "Let's complete the code below so that this operation:\n",
        "* Takes one parameter called `nums` that is of type `Int[]`.\n",
        "* Returns the `Int[]` type, which is the array `nums` where each element has been multiplied by 2."
      ],
      "metadata": {
        "nteract": {
          "transient": {
            "deleting": false
          }
        },
        "id": "Ysu294FUQg5S"
      }
    },
    {
      "cell_type": "code",
      "source": [
        "%%qsharp\n",
        "\n",
        "operation DoubleArray(nums : Int[]) : Int[] {\n",
        "\n",
        "    mutable doubleNums = [0, size = Length(nums)];\n",
        "    \n",
        "    for i in 0 .. Length(nums) - 1 {\n",
        "        set doubleNums w/= i <- nums[i] * 2;\n",
        "    }\n",
        "\n",
        "    return doubleNums;\n",
        "}"
      ],
      "outputs": [],
      "execution_count": 27,
      "metadata": {
        "jupyter": {
          "source_hidden": false,
          "outputs_hidden": false
        },
        "nteract": {
          "transient": {
            "deleting": false
          }
        },
        "microsoft": {
          "language": "qsharp"
        },
        "id": "o9a-y_LxQg5S"
      }
    },
    {
      "cell_type": "markdown",
      "source": [
        "#### **3. Simulate the operation in python.**"
      ],
      "metadata": {
        "nteract": {
          "transient": {
            "deleting": false
          }
        },
        "id": "R_hyh56gQg5T"
      }
    },
    {
      "cell_type": "code",
      "source": [
        "DoubleArray.simulate(nums = [-5, 0, 2, 105])"
      ],
      "outputs": [
        {
          "output_type": "execute_result",
          "execution_count": 28,
          "data": {
            "text/plain": "[-10, 0, 4, 210]"
          },
          "metadata": {}
        }
      ],
      "execution_count": 28,
      "metadata": {
        "jupyter": {
          "source_hidden": false,
          "outputs_hidden": false
        },
        "nteract": {
          "transient": {
            "deleting": false
          }
        },
        "id": "jasAsqCmQg5T"
      }
    },
    {
      "cell_type": "markdown",
      "source": [
        "### **Exercise #1.9**\n",
        "\n",
        "Create and simulate an operation that takes in an Array of Ints and prints each element. Follow the same 3 step flow as above:\n",
        "\n",
        "1. Declare the operation in python.\n",
        "2. Create the operation in Q#.\n",
        "3. Simulate the operation in python."
      ],
      "metadata": {
        "nteract": {
          "transient": {
            "deleting": false
          }
        },
        "id": "ZaVQTJHvSCUO"
      }
    },
    {
      "cell_type": "markdown",
      "source": [
        "#### **1. Declare the operation in python.**\n",
        "\n",
        "Call it `PrintArray`."
      ],
      "metadata": {
        "nteract": {
          "transient": {
            "deleting": false
          }
        },
        "id": "4PH0ubfvSCUO"
      }
    },
    {
      "cell_type": "code",
      "source": [
        "PrintArray : any = None"
      ],
      "outputs": [],
      "execution_count": 29,
      "metadata": {
        "jupyter": {
          "source_hidden": false,
          "outputs_hidden": false
        },
        "nteract": {
          "transient": {
            "deleting": false
          }
        },
        "id": "kqy02I2XSCUP"
      }
    },
    {
      "cell_type": "markdown",
      "source": [
        "#### **2. Create the operation in Q#.**\n",
        "\n",
        "\n",
        "Let's complete the code below so that this operation:\n",
        "* Takes one parameter called `nums` that is of type `Int[]`.\n",
        "* Returns the `Unit` type.\n",
        "* Loops through each element of the array and prints it."
      ],
      "metadata": {
        "nteract": {
          "transient": {
            "deleting": false
          }
        },
        "id": "qsYpq3fUSCUP"
      }
    },
    {
      "cell_type": "code",
      "source": [
        "%%qsharp\n",
        "\n",
        "operation PrintArray(nums: Int[]) : Unit {\n",
        "\n",
        "    for i in 0 .. Length(nums) - 1 {\n",
        "        Message($\"{nums[i]}\");\n",
        "    }\n",
        "}"
      ],
      "outputs": [],
      "execution_count": 30,
      "metadata": {
        "jupyter": {
          "source_hidden": false,
          "outputs_hidden": false
        },
        "nteract": {
          "transient": {
            "deleting": false
          }
        },
        "microsoft": {
          "language": "qsharp"
        },
        "id": "0tKdqi54SCUP"
      }
    },
    {
      "cell_type": "markdown",
      "source": [
        "#### **3. Simulate the operation in python.**\n",
        "\n",
        "Use the list provided below to test your operation."
      ],
      "metadata": {
        "nteract": {
          "transient": {
            "deleting": false
          }
        },
        "id": "Wn9pT1zYSCUP"
      }
    },
    {
      "cell_type": "code",
      "source": [
        "numList = [10, 2, 311, 416, 528]\n",
        "PrintArray.simulate(nums = numList)"
      ],
      "outputs": [
        {
          "output_type": "stream",
          "name": "stdout",
          "text": "10\n2\n311\n416\n528\n"
        },
        {
          "output_type": "execute_result",
          "execution_count": 31,
          "data": {
            "text/plain": "()"
          },
          "metadata": {}
        }
      ],
      "execution_count": 31,
      "metadata": {
        "id": "WVbNmEMzTK0y"
      }
    },
    {
      "cell_type": "markdown",
      "source": [
        "### **Exercise #1.10**\n",
        "\n",
        "Create and simulate an operation that returns an Array of Bools of size 20 such that the first 10 elements are `true` and the rest are `false`. Follow the same 3 step flow as above:\n",
        "\n",
        "1. Declare the operation in python.\n",
        "2. Create the operation in Q#.\n",
        "3. Simulate the operation in python."
      ],
      "metadata": {
        "nteract": {
          "transient": {
            "deleting": false
          }
        },
        "id": "lradGB-cTc3Z"
      }
    },
    {
      "cell_type": "markdown",
      "source": [
        "#### **1. Declare the operation in python.**\n",
        "\n",
        "Call it `GetArr`."
      ],
      "metadata": {
        "nteract": {
          "transient": {
            "deleting": false
          }
        },
        "id": "KTMHlCPXTc3a"
      }
    },
    {
      "cell_type": "code",
      "source": [],
      "outputs": [],
      "execution_count": null,
      "metadata": {
        "jupyter": {
          "source_hidden": false,
          "outputs_hidden": false
        },
        "nteract": {
          "transient": {
            "deleting": false
          }
        },
        "id": "W2kRjpOVTc3a"
      }
    },
    {
      "cell_type": "markdown",
      "source": [
        "#### **2. Create the operation in Q#.**\n",
        "\n",
        "\n",
        "Let's complete the code below so that this operation:\n",
        "* Takes no parameters.\n",
        "* Returns the `Bool[]` type, which is an array as described above."
      ],
      "metadata": {
        "nteract": {
          "transient": {
            "deleting": false
          }
        },
        "id": "vipjboopTc3c"
      }
    },
    {
      "cell_type": "code",
      "source": [
        "%%qsharp\n",
        "\n",
        "operation // COMPLETE THIS LINE\n",
        "    \n",
        "     // COMPLETE THIS CODE\n",
        "    for i in 0 .. 9 {\n",
        "       // COMPLETE THIS LINE\n",
        "    }\n",
        "\n",
        "    return // COMPLETE THIS LINE\n",
        "}"
      ],
      "outputs": [],
      "execution_count": null,
      "metadata": {
        "jupyter": {
          "source_hidden": false,
          "outputs_hidden": false
        },
        "nteract": {
          "transient": {
            "deleting": false
          }
        },
        "microsoft": {
          "language": "qsharp"
        },
        "id": "nJn9QyccTc3c"
      }
    },
    {
      "cell_type": "markdown",
      "source": [
        "#### **3. Simulate the operation in python.**"
      ],
      "metadata": {
        "nteract": {
          "transient": {
            "deleting": false
          }
        },
        "id": "lQx-7mc4Tc3d"
      }
    },
    {
      "cell_type": "code",
      "source": [],
      "outputs": [],
      "execution_count": null,
      "metadata": {
        "id": "Dqum8C14Tc3d"
      }
    },
    {
      "cell_type": "markdown",
      "source": [
        "### **[OPTIONAL] Exercise #1.11**\n",
        "\n",
        "Create and simulate an operation that takes in an array of Bools and returns an array of Ints such that `true` is mapped onto 1 and `false` is mapped onto 0. Follow the same 3 step flow as above:\n",
        "\n",
        "1. Declare the operation in python.\n",
        "2. Create the operation in Q#.\n",
        "3. Simulate the operation in python."
      ],
      "metadata": {
        "nteract": {
          "transient": {
            "deleting": false
          }
        },
        "id": "vQ2tpDnbU0kk"
      }
    },
    {
      "cell_type": "markdown",
      "source": [
        "#### **1. Declare the operation in python.**\n",
        "\n",
        "Call it `ConvertBoolToInt`."
      ],
      "metadata": {
        "nteract": {
          "transient": {
            "deleting": false
          }
        },
        "id": "J74Y8O6mU0kk"
      }
    },
    {
      "cell_type": "code",
      "source": [],
      "outputs": [],
      "execution_count": null,
      "metadata": {
        "jupyter": {
          "source_hidden": false,
          "outputs_hidden": false
        },
        "nteract": {
          "transient": {
            "deleting": false
          }
        },
        "id": "PQpManjEU0kl"
      }
    },
    {
      "cell_type": "markdown",
      "source": [
        "#### **2. Create the operation in Q#.**"
      ],
      "metadata": {
        "nteract": {
          "transient": {
            "deleting": false
          }
        },
        "id": "AlksZXodU0kl"
      }
    },
    {
      "cell_type": "code",
      "source": [
        "%%qsharp\n",
        "\n",
        "operation ConvertBoolToInt(arr : Bool[]) : Int[] {\n",
        "    // COMPLETE THIS CODE\n",
        "}"
      ],
      "outputs": [],
      "execution_count": null,
      "metadata": {
        "jupyter": {
          "source_hidden": false,
          "outputs_hidden": false
        },
        "nteract": {
          "transient": {
            "deleting": false
          }
        },
        "microsoft": {
          "language": "qsharp"
        },
        "id": "g-JFT4JzU0kl"
      }
    },
    {
      "cell_type": "markdown",
      "source": [
        "#### **3. Simulate the operation in python.**"
      ],
      "metadata": {
        "nteract": {
          "transient": {
            "deleting": false
          }
        },
        "id": "UF6VKg8dU0kl"
      }
    },
    {
      "cell_type": "code",
      "source": [
        "myList = [False, True, True, True, False, False]\n",
        "# COMPLETE THIS CODE"
      ],
      "outputs": [],
      "execution_count": null,
      "metadata": {
        "id": "LtK7GrsKU0kl"
      }
    },
    {
      "cell_type": "markdown",
      "source": [
        "## **Part #2: Using Qubits**\n",
        "\n",
        "Now, let's see how to **use qubits** in Q#."
      ],
      "metadata": {
        "id": "kJN9Q6EXWUaN"
      }
    },
    {
      "cell_type": "markdown",
      "source": [
        "### **Exercise #2.1: Zero-Qubit (Practice Together)**\n",
        "\n",
        "Let's see how to use a qubit in the simplest way possible: prepare it in the $| 0 \\rangle$ state and immediately measure it. We will follow the same 3 step flow as above:\n",
        "\n",
        "1. Declare the operation in python.\n",
        "2. Create the operation in Q#.\n",
        "3. Simulate the operation in python."
      ],
      "metadata": {
        "nteract": {
          "transient": {
            "deleting": false
          }
        },
        "id": "qsLe84Sa1eSm"
      }
    },
    {
      "cell_type": "markdown",
      "source": [
        "#### **1. Declare the operation in python.**\n",
        "\n",
        "Let's call it `Make0BitFromQubit`."
      ],
      "metadata": {
        "nteract": {
          "transient": {
            "deleting": false
          }
        },
        "id": "s_k43MzqOuEU"
      }
    },
    {
      "cell_type": "code",
      "source": [
        "Make0BitFromQubit : any = None"
      ],
      "outputs": [],
      "execution_count": 17,
      "metadata": {
        "jupyter": {
          "source_hidden": false,
          "outputs_hidden": false
        },
        "nteract": {
          "transient": {
            "deleting": false
          }
        },
        "id": "JdHLpNgV1eSn"
      }
    },
    {
      "cell_type": "markdown",
      "source": [
        "#### **2. Create the operation in Q#.**"
      ],
      "metadata": {
        "nteract": {
          "transient": {
            "deleting": false
          }
        },
        "id": "rMfoxMMDOuEU"
      }
    },
    {
      "cell_type": "code",
      "source": [
        "%%qsharp\n",
        "operation Make0BitFromQubit() : Result{\n",
        "    use q = Qubit();\n",
        "    return M(q);\n",
        "}"
      ],
      "outputs": [],
      "execution_count": 18,
      "metadata": {
        "id": "KSvNDIU2XBzM",
        "microsoft": {
          "language": "qsharp"
        }
      }
    },
    {
      "cell_type": "markdown",
      "source": [
        "#### **3. Simulate the operation in python.**"
      ],
      "metadata": {
        "nteract": {
          "transient": {
            "deleting": false
          }
        },
        "id": "PIPp2v34OuEU"
      }
    },
    {
      "cell_type": "code",
      "source": [
        "Make0BitFromQubit.simulate()"
      ],
      "outputs": [
        {
          "output_type": "execute_result",
          "execution_count": 19,
          "data": {
            "text/plain": "0"
          },
          "metadata": {}
        }
      ],
      "execution_count": 19,
      "metadata": {
        "jupyter": {
          "source_hidden": false,
          "outputs_hidden": false
        },
        "nteract": {
          "transient": {
            "deleting": false
          }
        },
        "id": "uaW2kJLl1eSn"
      }
    },
    {
      "cell_type": "markdown",
      "source": [
        "### **Exercise #2.2: One-Qubit (Practice Together)**\n",
        "\n",
        "Let's use the X gate to make a qubit that always measures to 1. We will follow the same 3 step flow as above:\n",
        "\n",
        "1. Declare the operation in python.\n",
        "2. Create the operation in Q#.\n",
        "3. Simulate the operation in python."
      ],
      "metadata": {
        "nteract": {
          "transient": {
            "deleting": false
          }
        },
        "id": "caJ-XabvXbGG"
      }
    },
    {
      "cell_type": "markdown",
      "source": [
        "#### **1. Declare the operation in python.**\n",
        "\n",
        "Let's call it `Make1BitFromQubit`."
      ],
      "metadata": {
        "nteract": {
          "transient": {
            "deleting": false
          }
        },
        "id": "YGSxciskXbGH"
      }
    },
    {
      "cell_type": "code",
      "source": [
        "Make1BitFromQubit : any = None"
      ],
      "outputs": [],
      "execution_count": 32,
      "metadata": {
        "jupyter": {
          "source_hidden": false,
          "outputs_hidden": false
        },
        "nteract": {
          "transient": {
            "deleting": false
          }
        },
        "id": "7giE2mWDXbGH"
      }
    },
    {
      "cell_type": "markdown",
      "source": [
        "#### **2. Create the operation in Q#.**"
      ],
      "metadata": {
        "nteract": {
          "transient": {
            "deleting": false
          }
        },
        "id": "Q_c6-6YnXbGH"
      }
    },
    {
      "cell_type": "code",
      "source": [
        "%%qsharp\n",
        "operation Make1BitFromQubit() : Result {\n",
        "    use q = Qubit();\n",
        "    X(q);\n",
        "    return M(q);\n",
        "}"
      ],
      "outputs": [],
      "execution_count": 33,
      "metadata": {
        "id": "9nqUDm0DXbGH",
        "microsoft": {
          "language": "qsharp"
        }
      }
    },
    {
      "cell_type": "markdown",
      "source": [
        "#### **3. Simulate the operation in python.**"
      ],
      "metadata": {
        "nteract": {
          "transient": {
            "deleting": false
          }
        },
        "id": "rf4ybQYdXbGI"
      }
    },
    {
      "cell_type": "code",
      "source": [
        "Make1BitFromQubit.simulate()"
      ],
      "outputs": [
        {
          "output_type": "execute_result",
          "execution_count": 34,
          "data": {
            "text/plain": "1"
          },
          "metadata": {}
        }
      ],
      "execution_count": 34,
      "metadata": {
        "jupyter": {
          "source_hidden": false,
          "outputs_hidden": false
        },
        "nteract": {
          "transient": {
            "deleting": false
          }
        },
        "id": "yPgQ8tkhXbGI"
      }
    },
    {
      "cell_type": "markdown",
      "source": [
        "### **Exercise #2.3: Measuring Superpositions (Practice Together)**\n",
        "\n",
        "Create and simulate an operation that prepares a qubit in the $|+\\rangle$ state and returns the result of measuring it. Follow the same 3 step flow as above:\n",
        "\n",
        "1. Declare the operation in python.\n",
        "2. Create the operation in Q#.\n",
        "3. Simulate the operation in python."
      ],
      "metadata": {
        "nteract": {
          "transient": {
            "deleting": false
          }
        },
        "id": "DZpofKGaaL4m"
      }
    },
    {
      "cell_type": "markdown",
      "source": [
        "#### **1. Declare the operation in python.**\n",
        "\n",
        "Let's call it `MeasurePlus`."
      ],
      "metadata": {
        "nteract": {
          "transient": {
            "deleting": false
          }
        },
        "id": "P-RTPvdjaL4o"
      }
    },
    {
      "cell_type": "code",
      "source": [
        "MeasurePlus : any = None"
      ],
      "outputs": [],
      "execution_count": 35,
      "metadata": {
        "jupyter": {
          "source_hidden": false,
          "outputs_hidden": false
        },
        "nteract": {
          "transient": {
            "deleting": false
          }
        },
        "id": "66rCtTkxaL4o"
      }
    },
    {
      "cell_type": "markdown",
      "source": [
        "#### **2. Create the operation in Q#.**"
      ],
      "metadata": {
        "nteract": {
          "transient": {
            "deleting": false
          }
        },
        "id": "RDJv20AoaL4o"
      }
    },
    {
      "cell_type": "code",
      "source": [
        "%%qsharp\n",
        "operation MeasurePlus() : Result {\n",
        "    use q = Qubit();\n",
        "    H(q);\n",
        "    return M(q);\n",
        "}"
      ],
      "outputs": [],
      "execution_count": 36,
      "metadata": {
        "id": "aBgPgm7HaL4o",
        "microsoft": {
          "language": "qsharp"
        }
      }
    },
    {
      "cell_type": "markdown",
      "source": [
        "#### **3. Simulate the operation in python.**"
      ],
      "metadata": {
        "nteract": {
          "transient": {
            "deleting": false
          }
        },
        "id": "se6lFyQFaL4p"
      }
    },
    {
      "cell_type": "code",
      "source": [
        "MeasurePlus.simulate()"
      ],
      "outputs": [
        {
          "output_type": "execute_result",
          "execution_count": 37,
          "data": {
            "text/plain": "0"
          },
          "metadata": {}
        }
      ],
      "execution_count": 37,
      "metadata": {
        "jupyter": {
          "source_hidden": false,
          "outputs_hidden": false
        },
        "nteract": {
          "transient": {
            "deleting": false
          }
        },
        "id": "r0fkGCZaaL4p"
      }
    },
    {
      "cell_type": "markdown",
      "source": [
        "### **Exercise #2.4**\n",
        "\n",
        "Create and simulate an operation that takes a Bool, prepares a qubit in the $|0\\rangle$ state if the Bool is `false` and the $|1\\rangle$ state if the Bool is `true`, and returns the result of measuring it. Follow the same 3 step flow as above:\n",
        "\n",
        "1. Declare the operation in python.\n",
        "2. Create the operation in Q#.\n",
        "3. Simulate the operation in python."
      ],
      "metadata": {
        "nteract": {
          "transient": {
            "deleting": false
          }
        },
        "id": "Cedr5M8mZRbO"
      }
    },
    {
      "cell_type": "markdown",
      "source": [
        "#### **1. Declare the operation in python.**\n",
        "\n",
        "Let's call it `MeasureConditionalQubits`."
      ],
      "metadata": {
        "nteract": {
          "transient": {
            "deleting": false
          }
        },
        "id": "g2fAq-uoZRbP"
      }
    },
    {
      "cell_type": "code",
      "source": [
        "MeasureConditionalQubits : any = None"
      ],
      "outputs": [],
      "execution_count": 38,
      "metadata": {
        "id": "OlcW0VdXZl9V"
      }
    },
    {
      "cell_type": "markdown",
      "source": [
        "#### **2. Create the operation in Q#.**"
      ],
      "metadata": {
        "nteract": {
          "transient": {
            "deleting": false
          }
        },
        "id": "psnViJCQZRbP"
      }
    },
    {
      "cell_type": "code",
      "source": [
        "%%qsharp\n",
        "\n",
        "operation MeasureConditionalQubits(one : Result{\n",
        "    \n",
        "    // COMPLETE THIS CODE\n",
        "\n",
        "    return M(q);\n",
        "}"
      ],
      "outputs": [
        {
          "output_type": "stream",
          "name": "stderr",
          "text": "/snippet_.qs(2,11): error QS3023: Syntax error in operation declaration.\n"
        },
        {
          "output_type": "error",
          "ename": "TypeError",
          "evalue": "'NoneType' object is not iterable",
          "traceback": [
            "\u001b[0;31m---------------------------------------------------------------------------\u001b[0m",
            "\u001b[0;31mTypeError\u001b[0m                                 Traceback (most recent call last)",
            "Cell \u001b[0;32mIn[39], line 1\u001b[0m\n\u001b[0;32m----> 1\u001b[0m \u001b[43mget_ipython\u001b[49m\u001b[43m(\u001b[49m\u001b[43m)\u001b[49m\u001b[38;5;241;43m.\u001b[39;49m\u001b[43mrun_cell_magic\u001b[49m\u001b[43m(\u001b[49m\u001b[38;5;124;43m'\u001b[39;49m\u001b[38;5;124;43mqsharp\u001b[39;49m\u001b[38;5;124;43m'\u001b[39;49m\u001b[43m,\u001b[49m\u001b[43m \u001b[49m\u001b[38;5;124;43m'\u001b[39;49m\u001b[38;5;124;43m'\u001b[39;49m\u001b[43m,\u001b[49m\u001b[43m \u001b[49m\u001b[38;5;124;43m'\u001b[39;49m\u001b[38;5;130;43;01m\\n\u001b[39;49;00m\u001b[38;5;124;43moperation MeasureConditionalQubits(one : Result\u001b[39;49m\u001b[38;5;124;43m{\u001b[39;49m\u001b[38;5;130;43;01m\\n\u001b[39;49;00m\u001b[38;5;124;43m    \u001b[39;49m\u001b[38;5;130;43;01m\\n\u001b[39;49;00m\u001b[38;5;124;43m    // COMPLETE THIS CODE\u001b[39;49m\u001b[38;5;130;43;01m\\n\u001b[39;49;00m\u001b[38;5;130;43;01m\\n\u001b[39;49;00m\u001b[38;5;124;43m    return M(q);\u001b[39;49m\u001b[38;5;130;43;01m\\n\u001b[39;49;00m\u001b[38;5;124;43m}\u001b[39;49m\u001b[38;5;130;43;01m\\n\u001b[39;49;00m\u001b[38;5;124;43m'\u001b[39;49m\u001b[43m)\u001b[49m\n",
            "File \u001b[0;32m/usr/local/lib/python3.9/site-packages/IPython/core/interactiveshell.py:2422\u001b[0m, in \u001b[0;36mInteractiveShell.run_cell_magic\u001b[0;34m(self, magic_name, line, cell)\u001b[0m\n\u001b[1;32m   2420\u001b[0m \u001b[38;5;28;01mwith\u001b[39;00m \u001b[38;5;28mself\u001b[39m\u001b[38;5;241m.\u001b[39mbuiltin_trap:\n\u001b[1;32m   2421\u001b[0m     args \u001b[38;5;241m=\u001b[39m (magic_arg_s, cell)\n\u001b[0;32m-> 2422\u001b[0m     result \u001b[38;5;241m=\u001b[39m \u001b[43mfn\u001b[49m\u001b[43m(\u001b[49m\u001b[38;5;241;43m*\u001b[39;49m\u001b[43margs\u001b[49m\u001b[43m,\u001b[49m\u001b[43m \u001b[49m\u001b[38;5;241;43m*\u001b[39;49m\u001b[38;5;241;43m*\u001b[39;49m\u001b[43mkwargs\u001b[49m\u001b[43m)\u001b[49m\n\u001b[1;32m   2423\u001b[0m \u001b[38;5;28;01mreturn\u001b[39;00m result\n",
            "File \u001b[0;32m/usr/local/lib/python3.9/site-packages/qsharp/ipython_magic.py:28\u001b[0m, in \u001b[0;36mregister_magics.<locals>.qsharp\u001b[0;34m(magic_args, cell, local_ns)\u001b[0m\n\u001b[1;32m     26\u001b[0m     local_ns[callables\u001b[38;5;241m.\u001b[39m_name] \u001b[38;5;241m=\u001b[39m callables\n\u001b[1;32m     27\u001b[0m \u001b[38;5;28;01melse\u001b[39;00m:\n\u001b[0;32m---> 28\u001b[0m     \u001b[38;5;28;01mfor\u001b[39;00m qs_callable \u001b[38;5;129;01min\u001b[39;00m callables:\n\u001b[1;32m     29\u001b[0m         local_ns[qs_callable\u001b[38;5;241m.\u001b[39m_name] \u001b[38;5;241m=\u001b[39m qs_callable\n",
            "\u001b[0;31mTypeError\u001b[0m: 'NoneType' object is not iterable"
          ]
        },
        {
          "output_type": "stream",
          "name": "stdout",
          "text": "\u001b[41m\u001b[30mfail\u001b[39m\u001b[22m\u001b[49m: Microsoft.Quantum.IQSharp.Snippets[0]\n      QS3023 (/snippet_.qs:Microsoft.VisualStudio.LanguageServer.Protocol.Range): Syntax error in operation declaration.\n"
        }
      ],
      "execution_count": 39,
      "metadata": {
        "id": "3mgM3z_5ZRbP",
        "microsoft": {
          "language": "qsharp"
        }
      }
    },
    {
      "cell_type": "markdown",
      "source": [
        "#### **3. Simulate the operation in python.**\n",
        "\n",
        "**NOTE:** You should try providing both `True` and `False` inputs."
      ],
      "metadata": {
        "nteract": {
          "transient": {
            "deleting": false
          }
        },
        "id": "JmKaUPBeZRbP"
      }
    },
    {
      "cell_type": "code",
      "source": [],
      "outputs": [],
      "execution_count": null,
      "metadata": {
        "id": "6nysu1p_Zmld"
      }
    },
    {
      "cell_type": "markdown",
      "source": [
        "---\n",
        "<center>\n",
        "\n",
        "### **Let's go back to the slides.**\n",
        "\n",
        "</center>\n",
        "\n",
        "---"
      ],
      "metadata": {
        "id": "ofhlRTU6fFPh"
      }
    },
    {
      "cell_type": "markdown",
      "source": [
        "### **Exercise #2.5: Array of Qubits (Practice Together)**\n",
        "\n",
        "Let's see how to create an Array of Qubits in Q#. Specifically, we will prepare an Array of 5 qubits in the $| 0 \\rangle$ state and return the results of measuring them. We will follow the same 3 step flow as above:\n",
        "\n",
        "1. Declare the operation in python.\n",
        "2. Create the operation in Q#.\n",
        "3. Simulate the operation in python."
      ],
      "metadata": {
        "nteract": {
          "transient": {
            "deleting": false
          }
        },
        "id": "O5aBiKrVX_ef"
      }
    },
    {
      "cell_type": "markdown",
      "source": [
        "#### **1. Declare the operation in python.**\n",
        "\n",
        "Let's call it `MeasureQubits`."
      ],
      "metadata": {
        "nteract": {
          "transient": {
            "deleting": false
          }
        },
        "id": "RtJrOJCAX_eg"
      }
    },
    {
      "cell_type": "code",
      "source": [
        "MeasureQubits : any = None"
      ],
      "outputs": [],
      "execution_count": 40,
      "metadata": {
        "jupyter": {
          "source_hidden": false,
          "outputs_hidden": false
        },
        "nteract": {
          "transient": {
            "deleting": false
          }
        },
        "id": "hVUwWEtRX_ei"
      }
    },
    {
      "cell_type": "markdown",
      "source": [
        "#### **2. Create the operation in Q#.**"
      ],
      "metadata": {
        "nteract": {
          "transient": {
            "deleting": false
          }
        },
        "id": "RKME8SfjX_ei"
      }
    },
    {
      "cell_type": "code",
      "source": [
        "%%qsharp\n",
        "\n",
        "operation MeasureQubits() : Result[] {\n",
        "    \n",
        "    use qs = Qubit[5];\n",
        "\n",
        "    return MultiM(qs);\n",
        "}"
      ],
      "outputs": [],
      "execution_count": 41,
      "metadata": {
        "id": "5SCbqsZZX_ei",
        "microsoft": {
          "language": "qsharp"
        }
      }
    },
    {
      "cell_type": "markdown",
      "source": [
        "#### **3. Simulate the operation in python.**"
      ],
      "metadata": {
        "nteract": {
          "transient": {
            "deleting": false
          }
        },
        "id": "TrZdcUFKX_ej"
      }
    },
    {
      "cell_type": "code",
      "source": [
        "MeasureQubits.simulate()"
      ],
      "outputs": [
        {
          "output_type": "execute_result",
          "execution_count": 42,
          "data": {
            "text/plain": "[0, 0, 0, 0, 0]"
          },
          "metadata": {}
        }
      ],
      "execution_count": 42,
      "metadata": {
        "jupyter": {
          "source_hidden": false,
          "outputs_hidden": false
        },
        "nteract": {
          "transient": {
            "deleting": false
          }
        },
        "id": "UD7HDjDTX_ej"
      }
    },
    {
      "cell_type": "markdown",
      "source": [
        "### **Exercise #2.6**\n",
        "\n",
        "Create and simulate an operation that takes an Int, prepares an Array of that number of qubits in the $|0 \\rangle$ state, and returns the result of measuring them. Follow the same 3 step flow as above:\n",
        "\n",
        "1. Declare the operation in python.\n",
        "2. Create the operation in Q#.\n",
        "3. Simulate the operation in python."
      ],
      "metadata": {
        "nteract": {
          "transient": {
            "deleting": false
          }
        },
        "id": "emzk9Dz6YwuH"
      }
    },
    {
      "cell_type": "markdown",
      "source": [
        "#### **1. Declare the operation in python.**\n",
        "\n",
        "Let's call it `MeasureNQubits`."
      ],
      "metadata": {
        "nteract": {
          "transient": {
            "deleting": false
          }
        },
        "id": "zWCQM6y0YwuI"
      }
    },
    {
      "cell_type": "code",
      "source": [],
      "outputs": [],
      "execution_count": null,
      "metadata": {
        "id": "m-pZKrfeZhrv"
      }
    },
    {
      "cell_type": "markdown",
      "source": [
        "#### **2. Create the operation in Q#.**"
      ],
      "metadata": {
        "nteract": {
          "transient": {
            "deleting": false
          }
        },
        "id": "YBOLXDhVYwuI"
      }
    },
    {
      "cell_type": "code",
      "source": [
        "%%qsharp\n",
        "\n",
        "operation MeasureNQubits( // COMPLETE THIS LINE\n",
        "    \n",
        "    use qs = // COMPLETE THIS LINE\n",
        "\n",
        "    return MultiM(qs);\n",
        "}"
      ],
      "outputs": [],
      "execution_count": null,
      "metadata": {
        "id": "edse0Ss2YwuI",
        "microsoft": {
          "language": "qsharp"
        }
      }
    },
    {
      "cell_type": "markdown",
      "source": [
        "#### **3. Simulate the operation in python.**"
      ],
      "metadata": {
        "nteract": {
          "transient": {
            "deleting": false
          }
        },
        "id": "OOPTt6OjYwuI"
      }
    },
    {
      "cell_type": "code",
      "source": [],
      "outputs": [],
      "execution_count": null,
      "metadata": {
        "id": "X-EjhpK-ZlTH"
      }
    },
    {
      "cell_type": "markdown",
      "source": [
        "### **Exercise #2.7**\n",
        "\n",
        "Create and simulate an operation that takes an Int, prepares an Array of that number of qubits in the $|+ \\rangle$ state, and returns the result of measuring them. Follow the same 3 step flow as above:\n",
        "\n",
        "1. Declare the operation in python.\n",
        "2. Create the operation in Q#.\n",
        "3. Simulate the operation in python."
      ],
      "metadata": {
        "nteract": {
          "transient": {
            "deleting": false
          }
        },
        "id": "Ibc0AIlqa9Br"
      }
    },
    {
      "cell_type": "markdown",
      "source": [
        "#### **1. Declare the operation in python.**\n",
        "\n",
        "Let's call it `MeasureNPluses`"
      ],
      "metadata": {
        "nteract": {
          "transient": {
            "deleting": false
          }
        },
        "id": "vaLxB1zWa9Bs"
      }
    },
    {
      "cell_type": "code",
      "source": [],
      "outputs": [],
      "execution_count": null,
      "metadata": {
        "id": "WCBuavOEa9Bs"
      }
    },
    {
      "cell_type": "markdown",
      "source": [
        "#### **2. Create the operation in Q#.**"
      ],
      "metadata": {
        "nteract": {
          "transient": {
            "deleting": false
          }
        },
        "id": "MfFanZGha9Bt"
      }
    },
    {
      "cell_type": "code",
      "source": [],
      "outputs": [],
      "execution_count": null,
      "metadata": {
        "id": "ubupIVkva9Bt"
      }
    },
    {
      "cell_type": "markdown",
      "source": [
        "#### **3. Simulate the operation in python.**\n",
        "\n",
        "**NOTE:** Run this several times with the same input to see the randomness of measuring superposition states."
      ],
      "metadata": {
        "nteract": {
          "transient": {
            "deleting": false
          }
        },
        "id": "Y_OQ3Hwja9Bt"
      }
    },
    {
      "cell_type": "code",
      "source": [],
      "outputs": [],
      "execution_count": null,
      "metadata": {
        "id": "amZYXb3ra9Bt"
      }
    },
    {
      "cell_type": "markdown",
      "source": [
        "### **[OPTIONAL] Exercise #2.8**\n",
        "\n",
        "Q# provides an operation, `ApplyToEach`, that can apply a given operation to an Array of Qubits in one line. Use this to produce the same result as above in fewer lines. Follow the same 3 step flow as above:\n",
        "\n",
        "1. Declare the operation in python.\n",
        "2. Create the operation in Q#.\n",
        "3. Simulate the operation in python."
      ],
      "metadata": {
        "nteract": {
          "transient": {
            "deleting": false
          }
        },
        "id": "8d96BPl5chue"
      }
    },
    {
      "cell_type": "markdown",
      "source": [
        "#### **1. Declare the operation in python.**\n",
        "\n",
        "Let's call it `MeasureNPlusesSleek`"
      ],
      "metadata": {
        "nteract": {
          "transient": {
            "deleting": false
          }
        },
        "id": "SYPa3S0Achuf"
      }
    },
    {
      "cell_type": "code",
      "source": [],
      "outputs": [],
      "execution_count": null,
      "metadata": {
        "id": "rWdDFGGrchuf"
      }
    },
    {
      "cell_type": "markdown",
      "source": [
        "#### **2. Create the operation in Q#.**"
      ],
      "metadata": {
        "nteract": {
          "transient": {
            "deleting": false
          }
        },
        "id": "iAVeVlRIchug"
      }
    },
    {
      "cell_type": "code",
      "source": [
        "%%qsharp\n",
        "\n",
        "operation MeasureNPlusesSleek(// COMPLETE THIS LINE\n",
        "    \n",
        "    use qs = // COMPLETE THIS LINE\n",
        "\n",
        "    ApplyToEach(// COMPLETE THIS LINE\n",
        "\n",
        "    return // COMPLETE THIS LINE\n",
        "}"
      ],
      "outputs": [],
      "execution_count": null,
      "metadata": {
        "id": "xbVNvgtBchug",
        "microsoft": {
          "language": "qsharp"
        }
      }
    },
    {
      "cell_type": "markdown",
      "source": [
        "#### **3. Simulate the operation in python.**\n",
        "\n",
        "**NOTE:** Run this several times with the same input to see the randomness of measuring superposition states."
      ],
      "metadata": {
        "nteract": {
          "transient": {
            "deleting": false
          }
        },
        "id": "D09Xv2h5chug"
      }
    },
    {
      "cell_type": "code",
      "source": [],
      "outputs": [],
      "execution_count": null,
      "metadata": {
        "id": "Hxxb4lL4chuh"
      }
    },
    {
      "cell_type": "markdown",
      "source": [
        "## **Part #3: Running Quantum Circuits with Azure**\n",
        "\n",
        "Lastly, let's see how to **execute** our operations using the many available targets through Azure."
      ],
      "metadata": {
        "id": "j1MGMCZOdjzh"
      }
    },
    {
      "cell_type": "markdown",
      "source": [
        "### **Exercise #3.1: Connecting to a Target (Practice Together)**\n",
        "\n",
        "Let's start by looking at the targets available to us and connecting to one."
      ],
      "metadata": {
        "id": "QTi2FcmEeXaz"
      }
    },
    {
      "cell_type": "markdown",
      "source": [
        "#### **1. Look at the available targets.**"
      ],
      "metadata": {
        "id": "tfl5ZWAxes1o"
      }
    },
    {
      "cell_type": "code",
      "source": [
        "print(\"Your available targets:\")\n",
        "\n",
        "for target in targets:\n",
        "    print(target.id)"
      ],
      "outputs": [
        {
          "output_type": "stream",
          "name": "stdout",
          "text": "Your available targets:\nionq.qpu\nionq.qpu.aria-1\nionq.simulator\nmicrosoft.estimator\nquantinuum.hqs-lt-s1\nquantinuum.hqs-lt-s1-apival\nquantinuum.hqs-lt-s2\nquantinuum.hqs-lt-s2-apival\nquantinuum.hqs-lt-s1-sim\nquantinuum.hqs-lt-s2-sim\nquantinuum.hqs-lt\nquantinuum.qpu.h1-1\nquantinuum.sim.h1-1sc\nquantinuum.qpu.h1-2\nquantinuum.sim.h1-2sc\nquantinuum.sim.h1-1e\nquantinuum.sim.h1-2e\nquantinuum.qpu.h1\nrigetti.sim.qvm\nrigetti.qpu.aspen-11\nrigetti.qpu.aspen-m-2\nrigetti.qpu.aspen-m-3\n"
        }
      ],
      "execution_count": 43,
      "metadata": {
        "id": "e38kuB1veXFA"
      }
    },
    {
      "cell_type": "markdown",
      "source": [
        "#### **2. Connect to the `\"ionq.simulator\"` target.**"
      ],
      "metadata": {
        "id": "tR-s5QlMetRK"
      }
    },
    {
      "cell_type": "code",
      "source": [
        "qsharp.azure.target(\"ionq.simulator\")"
      ],
      "outputs": [
        {
          "output_type": "stream",
          "name": "stdout",
          "text": "Loading package Microsoft.Quantum.Providers.IonQ and dependencies...\nActive target is now ionq.simulator\n"
        },
        {
          "output_type": "execute_result",
          "execution_count": 44,
          "data": {
            "text/plain": "{'id': 'ionq.simulator', 'current_availability': {}, 'average_queue_time': 2}"
          },
          "metadata": {}
        }
      ],
      "execution_count": 44,
      "metadata": {
        "id": "EVsLSHWNethM"
      }
    },
    {
      "cell_type": "markdown",
      "source": [
        "### **Exercise #3.2: Executing Zero-Qubit (Practice Together)**\n",
        "\n",
        "Now, let's execute and visualize the result of the operation from Exercise #2.1, `Make0BitFromQubit`, on the target we just connected to. Specifically,\n",
        "\n",
        "1. Execute the operation and store the result.\n",
        "2. Visualize the result."
      ],
      "metadata": {
        "nteract": {
          "transient": {
            "deleting": false
          }
        },
        "id": "d3GtjnaUeEAx"
      }
    },
    {
      "cell_type": "markdown",
      "source": [
        "#### **1. Execute the operation and store the result.**"
      ],
      "metadata": {
        "id": "gHH0Uc33f0ky"
      }
    },
    {
      "cell_type": "code",
      "source": [
        "result = qsharp.azure.execute(Make1BitFromQubit, shots = 100, jobName = \"Exercise #3.2\", timeout = 240)"
      ],
      "outputs": [
        {
          "output_type": "stream",
          "name": "stdout",
          "text": "Submitting Make1BitFromQubit to target ionq.simulator...\nJob successfully submitted.\n   Job name: Exercise #3.2\n   Job ID: cbbaf736-d144-4001-af1e-58aac49f6c63\nWaiting up to 240 seconds for Azure Quantum job to complete...\n[20:55:45] Current job status: Waiting\n[20:55:50] Current job status: Succeeded\n"
        }
      ],
      "execution_count": 45,
      "metadata": {
        "id": "kukjmla6ekq1"
      }
    },
    {
      "cell_type": "markdown",
      "source": [
        "#### **2. Visualize the result.**"
      ],
      "metadata": {
        "id": "QnxK9JSff3Xk"
      }
    },
    {
      "cell_type": "code",
      "source": [
        "pyplot.bar(result.keys(), result.values())\n",
        "\n",
        "pyplot.title(\"Result\")\n",
        "pyplot.xlabel(\"Measurement\")\n",
        "pyplot.ylabel(\"Probability\")\n",
        "pyplot.xticks(rotation = 90)\n",
        "\n",
        "pyplot.show()"
      ],
      "outputs": [
        {
          "output_type": "display_data",
          "data": {
            "text/plain": "<Figure size 640x480 with 1 Axes>",
            "image/png": "[encoded data removed]"
          },
          "metadata": {}
        }
      ],
      "execution_count": 46,
      "metadata": {
        "id": "N0U_QTYPfjI9"
      }
    },
    {
      "cell_type": "markdown",
      "source": [
        "### **Exercise #3.3: The Full Process (Practice Together)**\n",
        "\n",
        "Finally, let's see how we would go through this entire process. Specifically, we will create, execute, and visualize an operation that prepares 4 qubits in the $|-\\rangle$ state and returns the results of measuring them. We will use the `\"ionq.simulator\"` target for this. We will follow the full 4 step process:\n",
        "1. Declare the operation in python.\n",
        "2. Create the operation in Q#.\n",
        "3. Execute the operation in python.\n",
        "4. Visualize the result in python."
      ],
      "metadata": {
        "nteract": {
          "transient": {
            "deleting": false
          }
        },
        "id": "lqqoq95w1eSq"
      }
    },
    {
      "cell_type": "markdown",
      "source": [
        "#### **1. Declare the operation in python.**\n",
        "\n",
        "Let's call it `Measure4Minuses`."
      ],
      "metadata": {
        "id": "vazRqmOrhU1O"
      }
    },
    {
      "cell_type": "code",
      "source": [
        "Measure4Minuses : any = None"
      ],
      "outputs": [],
      "execution_count": null,
      "metadata": {
        "id": "jNNnMEy-hfno"
      }
    },
    {
      "cell_type": "markdown",
      "source": [
        "#### **2. Create the operation in Q#.**"
      ],
      "metadata": {
        "id": "ctvr1zDshYQf"
      }
    },
    {
      "cell_type": "code",
      "source": [
        "%%qsharp\n",
        "\n",
        "operation Measure4Minuses() : Result[] {\n",
        "    \n",
        "    qs = // COMPLETE THIS LINE\n",
        "\n",
        "    for i in 0 .. 3 {\n",
        "        // COMPLETE THIS CODE\n",
        "    }\n",
        "\n",
        "    return MultiM(qs);\n",
        "}"
      ],
      "outputs": [],
      "execution_count": null,
      "metadata": {
        "id": "_eCDms8zhh35",
        "microsoft": {
          "language": "qsharp"
        }
      }
    },
    {
      "cell_type": "markdown",
      "source": [
        "#### **3. Execute the operation in python.**"
      ],
      "metadata": {
        "id": "g-MbkmZZhYWe"
      }
    },
    {
      "cell_type": "code",
      "source": [
        "result = qsharp.azure.execute(Measure4Minuses, shots = 100, jobName = \"Exercise #3.3\", timeout = 240)"
      ],
      "outputs": [],
      "execution_count": null,
      "metadata": {
        "id": "KdSWMj8diSlW"
      }
    },
    {
      "cell_type": "markdown",
      "source": [
        "#### **4. Visualize the result in python.**"
      ],
      "metadata": {
        "id": "TUT3EYeTiSlX"
      }
    },
    {
      "cell_type": "code",
      "source": [
        "pyplot.bar(result.keys(), result.values())\n",
        "\n",
        "pyplot.title(\"Result\")\n",
        "pyplot.xlabel(\"Measurement\")\n",
        "pyplot.ylabel(\"Probability\")\n",
        "pyplot.xticks(rotation = 90)\n",
        "\n",
        "pyplot.show()"
      ],
      "outputs": [],
      "execution_count": null,
      "metadata": {
        "id": "hwhSN5e-iSlY"
      }
    },
    {
      "cell_type": "markdown",
      "source": [
        "### **Exercise #3.4 (Practice Together)**\n",
        "\n",
        "Let's see how to execute an operation requiring parameters. Specifically, we will create, execute, and visualize the results of an operation that takes an Int, prepares that number of qubits in the $|1\\rangle$ state, and returns the results of measuring them. We will use the `\"ionq.simulator\"` target for this and follow the full 4 step process:\n",
        "1. Declare the operation in python.\n",
        "2. Create the operation in Q#.\n",
        "3. Execute the operation in python.\n",
        "4. Visualize the result in python."
      ],
      "metadata": {
        "nteract": {
          "transient": {
            "deleting": false
          }
        },
        "id": "mTAPeGG-ihqZ"
      }
    },
    {
      "cell_type": "markdown",
      "source": [
        "#### **1. Declare the operation in python.**\n",
        "\n",
        "Let's call it `ApplyXToNQubits`."
      ],
      "metadata": {
        "id": "TU5dGBwdi-az"
      }
    },
    {
      "cell_type": "code",
      "source": [],
      "outputs": [],
      "execution_count": null,
      "metadata": {
        "id": "IiSC3ZECjREB"
      }
    },
    {
      "cell_type": "markdown",
      "source": [
        "#### **2. Create the operation in Q#.**"
      ],
      "metadata": {
        "id": "xXpSH8_fi-az"
      }
    },
    {
      "cell_type": "code",
      "source": [
        "%%qsharp\n",
        "\n",
        "operation ApplyXToNQubits(// COMPLETE THIS CODE\n",
        "    // COMPLETE THIS CODE                  \n",
        "}"
      ],
      "outputs": [],
      "execution_count": null,
      "metadata": {
        "id": "E-qSG_ILi-az",
        "microsoft": {
          "language": "qsharp"
        }
      }
    },
    {
      "cell_type": "markdown",
      "source": [
        "#### **3. Execute the operation in python.**\n",
        "\n",
        "**NOTE:** Specify that the parameter `jobName = \"Exercise #3.4\"` and keep the number of shots and the timeout the same as above."
      ],
      "metadata": {
        "id": "OAa6N2hui-az"
      }
    },
    {
      "cell_type": "code",
      "source": [
        "result = qsharp.azure.execute(ApplyXToNQubits, # COMPLETE THIS LINE"
      ],
      "outputs": [],
      "execution_count": null,
      "metadata": {
        "id": "G9X9xZGKjUdo"
      }
    },
    {
      "cell_type": "markdown",
      "source": [
        "#### **4. Visualize the result in python.**"
      ],
      "metadata": {
        "id": "SUwO5Juxi-a0"
      }
    },
    {
      "cell_type": "code",
      "source": [
        "pyplot.bar(# COMPLETE THIS LINE\n",
        "\n",
        "pyplot.title(\"Result\")\n",
        "pyplot.xlabel(\"Measurement\")\n",
        "pyplot.ylabel(\"Probability\")\n",
        "pyplot.xticks(rotation = 90)\n",
        "\n",
        "pyplot.show()"
      ],
      "outputs": [],
      "execution_count": null,
      "metadata": {
        "id": "IAppFXQVjU3T"
      }
    },
    {
      "cell_type": "markdown",
      "source": [
        "### **[OPTIONAL] Exercise #3.5**\n",
        "\n",
        "Create, execute, and visualize the results of an operation that implements the circuit shown below. Use the `\"ionq.simulator\"` target for this and follow the full 4 step process:\n",
        "1. Declare the operation in python.\n",
        "2. Create the operation in Q#.\n",
        "3. Execute the operation in python.\n",
        "4. Visualize the result in python.\n",
        "\n",
        "<br>\n",
        "\n",
        "#### **The circuit to implement:**\n",
        "\n",
        "![Bell State](https://www.quantum-bits.org/wp-content/uploads/2018/03/gate-entangle.png)"
      ],
      "metadata": {
        "nteract": {
          "transient": {
            "deleting": false
          }
        },
        "id": "A4KWrigdj9OQ"
      }
    },
    {
      "cell_type": "markdown",
      "source": [
        "#### **1. Declare the operation in python.**\n",
        "\n",
        "Let's call it `ImplementCircuit`."
      ],
      "metadata": {
        "id": "JL5Huuaxj9OR"
      }
    },
    {
      "cell_type": "code",
      "source": [],
      "outputs": [],
      "execution_count": null,
      "metadata": {
        "id": "2mI8mK_Oj9OR"
      }
    },
    {
      "cell_type": "markdown",
      "source": [
        "#### **2. Create the operation in Q#.**"
      ],
      "metadata": {
        "id": "osIu7Yl4j9OS"
      }
    },
    {
      "cell_type": "code",
      "source": [
        "%%qsharp\n",
        "\n",
        "operation ImplementCircuit(// COMPLETE THIS CODE\n",
        "    // COMPLETE THIS CODE     \n",
        "\n",
        "    CX(qs[0], qs[1]);             \n",
        "}"
      ],
      "outputs": [],
      "execution_count": null,
      "metadata": {
        "id": "qe_vO0ZKj9OS",
        "microsoft": {
          "language": "qsharp"
        }
      }
    },
    {
      "cell_type": "markdown",
      "source": [
        "#### **3. Execute the operation in python.**\n",
        "\n",
        "**NOTE:** Specify that the parameter `jobName = \"Exercise #3.5\"` and keep the number of shots and the timeout the same as above."
      ],
      "metadata": {
        "id": "NvfTPKprj9OS"
      }
    },
    {
      "cell_type": "code",
      "source": [
        "result = # COMPLETE THIS LINE"
      ],
      "outputs": [],
      "execution_count": null,
      "metadata": {
        "id": "LeL8lXhmj9OT"
      }
    },
    {
      "cell_type": "markdown",
      "source": [
        "#### **4. Visualize the result in python.**"
      ],
      "metadata": {
        "id": "Ii8fY0XXj9OT"
      }
    },
    {
      "cell_type": "code",
      "source": [
        "pyplot.bar(# COMPLETE THIS LINE\n",
        "\n",
        "pyplot.title(\"Result\")\n",
        "pyplot.xlabel(\"Measurement\")\n",
        "pyplot.ylabel(\"Probability\")\n",
        "pyplot.xticks(rotation = 90)\n",
        "\n",
        "pyplot.show()"
      ],
      "outputs": [],
      "execution_count": null,
      "metadata": {
        "id": "ieBvlo2_j9OT"
      }
    },
    {
      "cell_type": "markdown",
      "source": [
        "## **[OPTIONAL] Part #4: More Q# Practice**\n",
        "\n",
        "\n",
        "**NOTE**: You only need to work in Q# for this part. You do not need to work in python at all for these exercises."
      ],
      "metadata": {
        "id": "lAElbNLLvFFa"
      }
    },
    {
      "cell_type": "markdown",
      "source": [
        "### **Exercise #1: What is wrong with this code?**"
      ],
      "metadata": {
        "id": "Og3ZqQxsvKw2"
      }
    },
    {
      "cell_type": "markdown",
      "source": [
        "#### **1.**"
      ],
      "metadata": {
        "id": "eT_CYW1rxXAt"
      }
    },
    {
      "cell_type": "code",
      "source": [
        "%%qsharp\n",
        "operation Test() : Unit {\n",
        "    Message(\"no\")\n",
        "}"
      ],
      "outputs": [],
      "execution_count": null,
      "metadata": {
        "id": "btM4DffJvN10",
        "microsoft": {
          "language": "qsharp"
        }
      }
    },
    {
      "cell_type": "markdown",
      "source": [
        "#### **2.**"
      ],
      "metadata": {
        "id": "MGZj5XRrwBzJ"
      }
    },
    {
      "cell_type": "code",
      "source": [
        "%%qsharp\n",
        "\n",
        "operation Superpositions() : Result[] {\n",
        "        ApplyToEachA(H, qs);\n",
        "        return MultiM();\n",
        "    }"
      ],
      "outputs": [],
      "execution_count": null,
      "metadata": {
        "id": "vgTOjGbvvQTy",
        "microsoft": {
          "language": "qsharp"
        }
      }
    },
    {
      "cell_type": "markdown",
      "source": [
        "#### **3.**"
      ],
      "metadata": {
        "id": "R2PCWYQrxYzH"
      }
    },
    {
      "cell_type": "code",
      "source": [
        "%%qsharp\n",
        "operation Mystery(nQubits : Int) : Unit {\n",
        "    qs = Qubit[nQubits];\n",
        "}"
      ],
      "outputs": [],
      "execution_count": null,
      "metadata": {
        "id": "LJq3FvW1vuQe",
        "microsoft": {
          "language": "qsharp"
        }
      }
    },
    {
      "cell_type": "markdown",
      "source": [
        "#### **4.**"
      ],
      "metadata": {
        "id": "xhHILZA6xbNO"
      }
    },
    {
      "cell_type": "code",
      "source": [
        "%%qsharp\n",
        "use register = Qubit[nQubits];\n",
        "ApplyToEachA(H, register);\n",
        "return MultiM(register);"
      ],
      "outputs": [],
      "execution_count": null,
      "metadata": {
        "id": "BNV8cHPfvwiQ",
        "microsoft": {
          "language": "qsharp"
        }
      }
    },
    {
      "cell_type": "markdown",
      "source": [
        "#### **5.**"
      ],
      "metadata": {
        "id": "HSOLIgk8wLQF"
      }
    },
    {
      "cell_type": "code",
      "source": [
        "%%qsharp\n",
        "operation SampleRandomNumber(nQubits : Int) : Unit {\n",
        "    \n",
        "    use register = Qubit[nQubits];\n",
        "    ApplyToEachA(H, register);\n",
        "\n",
        "    return MultiM(register);\n",
        "}"
      ],
      "outputs": [],
      "execution_count": null,
      "metadata": {
        "id": "c6n50quOvwXV",
        "microsoft": {
          "language": "qsharp"
        }
      }
    },
    {
      "cell_type": "markdown",
      "source": [
        "#### **6.**"
      ],
      "metadata": {
        "id": "wCbFNpLswL-W"
      }
    },
    {
      "cell_type": "code",
      "source": [
        "%%qsharp\n",
        "operation SampleRandomNumber(nQubits : Int) : Result[] {\n",
        "    use register = Qubit[nQubits];\n",
        "    ApplyToEachA(H, register);\n",
        "}"
      ],
      "outputs": [],
      "execution_count": null,
      "metadata": {
        "id": "3G5B79l7v_nj",
        "microsoft": {
          "language": "qsharp"
        }
      }
    },
    {
      "cell_type": "markdown",
      "source": [
        "### **Exercise #2: Operation Headers**\n",
        "\n",
        "Create Operation headers with the arguments and return types described for each problem. "
      ],
      "metadata": {
        "id": "9DLtnBOt_sYt"
      }
    },
    {
      "cell_type": "markdown",
      "source": [
        "#### **1.**\n",
        "\n",
        "An operation called ApplyHadamard that:\n",
        "* Takes in one qubit as input.\n",
        "* Returns the type Unit."
      ],
      "metadata": {
        "id": "b2QoOHTpzoK9"
      }
    },
    {
      "cell_type": "code",
      "source": [],
      "outputs": [],
      "execution_count": null,
      "metadata": {
        "id": "racED2K8_8fw",
        "microsoft": {}
      }
    },
    {
      "cell_type": "markdown",
      "source": [
        "#### **2.**\n",
        "\n",
        "An operation called AddTwo that:\n",
        "* Takes in one Int as input.\n",
        "* Returns the type Int."
      ],
      "metadata": {
        "id": "3l0U79bk0Cgq"
      }
    },
    {
      "cell_type": "code",
      "source": [],
      "outputs": [],
      "execution_count": null,
      "metadata": {
        "id": "3m_1t-GTAPQG",
        "microsoft": {}
      }
    },
    {
      "cell_type": "markdown",
      "source": [
        "#### **3.**\n",
        "An operation called OddCNOT that:\n",
        "* Takes in one Int as input named n.\n",
        "* Returns the type Result[]."
      ],
      "metadata": {
        "id": "YCCOY8eZ0KFB"
      }
    },
    {
      "cell_type": "code",
      "source": [],
      "outputs": [],
      "execution_count": null,
      "metadata": {
        "id": "M41SNF8KAat0"
      }
    },
    {
      "cell_type": "markdown",
      "source": [
        "### **Exercise #3: Writing Operations**\n",
        "\n",
        "Write the full code for the operations you created in the exercise above."
      ],
      "metadata": {
        "id": "nBWC6TiO2UiE"
      }
    },
    {
      "cell_type": "markdown",
      "source": [
        "#### **1.**\n",
        "\n",
        "An operation called ApplyHadamard that:\n",
        "* Takes in one qubit as input.\n",
        "* Returns the type Unit.\n",
        "* Applys the Hadamard gate to the input qubit."
      ],
      "metadata": {
        "id": "RBDWJa5E2UiF"
      }
    },
    {
      "cell_type": "code",
      "source": [],
      "outputs": [],
      "execution_count": null,
      "metadata": {
        "microsoft": {},
        "id": "bOSvj29z2UiF"
      }
    },
    {
      "cell_type": "markdown",
      "source": [
        "#### **2.**\n",
        "\n",
        "An operation called AddTwo that:\n",
        "* Takes in one Int as input.\n",
        "* Returns the type Int.\n",
        "* Adds 2 to the input and returns the result."
      ],
      "metadata": {
        "id": "gDjwgpnO2UiF"
      }
    },
    {
      "cell_type": "code",
      "source": [],
      "outputs": [],
      "execution_count": null,
      "metadata": {
        "microsoft": {},
        "id": "H4sauU_m2UiG"
      }
    },
    {
      "cell_type": "markdown",
      "source": [
        "#### **3.**\n",
        "An operation called OddCNOT that:\n",
        "* Takes in one Int as input named n.\n",
        "* Returns the type Result[].\n",
        "* Uses an Array of qubits with the size of the input Int.\n",
        "* Applies a Hadamard gate to each qubit.\n",
        "* Applies a CNOT gate to qubits in odd positions only. For instance, CNOT on qubits 1 and 3, qubits 3 and 5, so on so forth.\n",
        "* Return the result of measuring all qubits.\n",
        "\n",
        "<br>\n",
        "\n",
        "**NOTE**: This is a particularly challenging problem. It is ok if you are not sure how to do it!"
      ],
      "metadata": {
        "id": "QVABAkWx2UiG"
      }
    },
    {
      "cell_type": "code",
      "source": [],
      "outputs": [],
      "execution_count": null,
      "metadata": {
        "id": "6p-PXLs52UiG"
      }
    },
    {
      "cell_type": "markdown",
      "source": [
        "### **Exercise #4: If statements and loops**"
      ],
      "metadata": {
        "id": "VUx6gkSvwOrk"
      }
    },
    {
      "cell_type": "markdown",
      "source": [
        "#### **1. Complete the code below to return true if the input number is 6 and false otherwise.**"
      ],
      "metadata": {
        "id": "KbS4tdg6wRjk"
      }
    },
    {
      "cell_type": "code",
      "source": [
        "%%qsharp\n",
        "operation Is6(n : Int) : Bool {\n",
        "\n",
        "  // YOUR CODE HERE\n",
        "}"
      ],
      "outputs": [],
      "execution_count": null,
      "metadata": {
        "id": "23EMRy57zP7v",
        "microsoft": {
          "language": "qsharp"
        }
      }
    },
    {
      "cell_type": "markdown",
      "source": [
        "#### **2. Complete the code below to return true if the input number is odd and false otherwise.**"
      ],
      "metadata": {
        "id": "woj_OvBHzY19"
      }
    },
    {
      "cell_type": "code",
      "source": [
        "%%qsharp\n",
        "operation IsOdd(n : Int) : Bool {\n",
        "\n",
        "  // YOUR CODE HERE\n",
        "  \n",
        "}"
      ],
      "outputs": [],
      "execution_count": null,
      "metadata": {
        "id": "qp81YABOzjEt",
        "microsoft": {
          "language": "qsharp"
        }
      }
    },
    {
      "cell_type": "markdown",
      "source": [
        "#### **3. Complete the code below to return the sum of all Ints from 0 to the input number.**"
      ],
      "metadata": {
        "id": "xMvmMK3b0Xsg"
      }
    },
    {
      "cell_type": "code",
      "source": [
        "%%qsharp\n",
        "operation SumZeroN(n : Int) : Int { \n",
        "\n",
        "  // COMPLETE THIS CODE\n",
        "\n",
        "  for  // COMPLETE THIS LINE {\n",
        "      set s =  // COMPLETE THIS LINE\n",
        "  }\n",
        "  return s\n",
        "}"
      ],
      "outputs": [],
      "execution_count": null,
      "metadata": {
        "id": "8Q0ZeS0P0dI_",
        "microsoft": {
          "language": "qsharp"
        }
      }
    },
    {
      "cell_type": "markdown",
      "source": [
        "#### **4. Complete the code below to apply an X gate to 10 qubits and return the result of measuring them.**"
      ],
      "metadata": {
        "id": "ooyawbm9_H_5"
      }
    },
    {
      "cell_type": "code",
      "source": [
        "%%qsharp\n",
        "operation ATETest() : Result[] {\n",
        "    \n",
        "    use qs = Qubit[10];\n",
        "    // COMPLETE THIS LINE\n",
        "\n",
        "    return MultiM(qs);\n",
        "}"
      ],
      "outputs": [],
      "execution_count": null,
      "metadata": {
        "id": "7AZZyHv7_R2J",
        "microsoft": {
          "language": "qsharp"
        }
      }
    },
    {
      "cell_type": "markdown",
      "source": [
        "# End of Notebook\n",
        "---\n",
        "© 2023 The Coding School, All rights reserved"
      ],
      "metadata": {
        "id": "EdHqE9-nlEnh"
      }
    }
  ],
  "metadata": {
    "kernelspec": {
      "name": "python3",
      "language": "python",
      "display_name": "Python 3 (ipykernel)"
    },
    "language_info": {
      "name": "python",
      "version": "3.9.16",
      "mimetype": "text/x-python",
      "codemirror_mode": {
        "name": "ipython",
        "version": 3
      },
      "pygments_lexer": "ipython3",
      "nbconvert_exporter": "python",
      "file_extension": ".py"
    },
    "microsoft": {
      "host": {
        "AzureQuantum": {
          "sourceType": "SampleGallery",
          "sourceLink": "https://raw.githubusercontent.com/microsoft/Quantum/f7d76cc28219b577404437b993a8fdfdc0dad33e/samples/azure-quantum/parallel-qrng/ParallelQrng.ipynb"
        }
      }
    },
    "kernel_info": {
      "name": "python3"
    },
    "nteract": {
      "version": "nteract-front-end@1.0.0"
    },
    "colab": {
      "provenance": []
    }
  },
  "nbformat": 4,
  "nbformat_minor": 0
}