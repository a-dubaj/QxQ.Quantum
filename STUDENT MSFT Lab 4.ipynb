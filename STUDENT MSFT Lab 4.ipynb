{
  "cells": [
    {
      "cell_type": "markdown",
      "source": [
        "# **Lab #4: Variational Quantum Eigensolver (VQE)** \n",
        "## **Microsoft Winter School, February 12th 2023**\n",
        "\n",
        "### **Summary**\n",
        "\n",
        "In today's lab, we are going to implement the Variational Quantum Eigensolver (VQE) algorithm using Q# and python to solve several different problems.\n",
        "\n",
        "<br>\n",
        "\n",
        "### **Learning Objectives**\n",
        "* Become familiar with the nature of hybrid algorithms.\n",
        "* See VQE in practice.\n",
        "* See how different problems can be turned into Hamiltonians."
      ],
      "metadata": {
        "id": "JVVLcPDR1eSf"
      }
    },
    {
      "cell_type": "markdown",
      "source": [
        "## **Part #0: Imports**\n",
        "---\n",
        "\n",
        "**Run the code below to import all necessary libraries and functions for this lab.**\n",
        "\n",
        "<br>\n",
        "\n",
        "**NOTE:** Azure Quantum Workspace Notebooks allow you to run both Q# and Python code. We are going to use Python to visualize our results. Every cell containing Q# code needs to be identified with `%%qsharp`. We will be using _Python3 kernel_, so, **please, make sure the correct kernel is selected at the top!**"
      ],
      "metadata": {
        "nteract": {
          "transient": {
            "deleting": false
          }
        },
        "id": "ENXo-7TN1eSh"
      }
    },
    {
      "cell_type": "code",
      "source": [
        "# QSHARP IMPORTS\n",
        "#================\n",
        "import qsharp\n",
        "import qsharp.azure\n",
        "\n",
        "\n",
        "# Connect to available targets\n",
        "targets = qsharp.azure.connect(\n",
        "    resourceId=\"/subscriptions/cdd4985b-2017-484b-bb09-a575bd40587a/resourceGroups/AzureQuantum/providers/Microsoft.Quantum/Workspaces/qxqwinterschoolAndrzejDubaj\",\n",
        "    location=\"westcentralus\")\n",
        "\n",
        "\n",
        "# OTHER IMPORTS\n",
        "#================\n",
        "from scipy.optimize import minimize\n",
        "import json\n",
        "import numpy as np\n",
        "from random import random\n",
        "import matplotlib.pyplot as plt\n",
        "import pandas as pd\n",
        "\n",
        "import warnings\n",
        "warnings.filterwarnings('ignore')\n",
        "\n",
        "\n",
        "# HELPER FUNCTIONS\n",
        "#===================\n",
        "def localSimulator(operation, parameters, numQubits, shots, trim = False):\n",
        "\n",
        "    results = {}\n",
        "    for i in range(shots):\n",
        "        state = str(operation.simulate(parameters = parameters, numQubits = numQubits))\n",
        "\n",
        "        if state in results: results[state] += 1 / shots\n",
        "        else: results[state] = 1 / shots\n",
        "\n",
        "    if trim == True:\n",
        "\n",
        "        for state in list(results.keys()):\n",
        "            if results[state] < 1e-2: del(results[state])\n",
        "\n",
        "    return results\n",
        "    \n",
        "\n",
        "def printFullSpectrum(numQubits, Hamiltonian):\n",
        "  for n in range(2**numQubits):\n",
        "      num = [int(b) for b in list(bin(n)[2:])]\n",
        "      state = [0]*(numQubits - len(num)) + num\n",
        "      print(state, Hamiltonian(state))\n"
      ],
      "outputs": [
        {
          "output_type": "display_data",
          "data": {
            "text/plain": "Connecting to Azure Quantum...",
            "application/x-qsharp-data": "\"Connecting to Azure Quantum...\""
          },
          "metadata": {}
        },
        {
          "output_type": "stream",
          "name": "stdout",
          "text": "Authenticated using Microsoft.Azure.Quantum.Authentication.TokenFileCredential\n\n\nConnected to Azure Quantum workspace qxqwinterschoolAndrzejDubaj in location westcentralus.\n"
        }
      ],
      "execution_count": 17,
      "metadata": {
        "jupyter": {
          "source_hidden": false,
          "outputs_hidden": false
        },
        "nteract": {
          "transient": {
            "deleting": false
          }
        },
        "id": "tv8i1eUdLwLq"
      }
    },
    {
      "cell_type": "code",
      "source": [
        "%%qsharp\n",
        "\n",
        "open Microsoft.Quantum.Measurement;\n",
        "open Microsoft.Quantum.Math;\n",
        "open Microsoft.Quantum.Arithmetic;\n",
        "open Microsoft.Quantum.Preparation;\n",
        "open Microsoft.Quantum.Convert;"
      ],
      "outputs": [],
      "execution_count": 18,
      "metadata": {
        "jupyter": {
          "source_hidden": false,
          "outputs_hidden": false
        },
        "nteract": {
          "transient": {
            "deleting": false
          }
        },
        "microsoft": {
          "language": "qsharp"
        },
        "id": "TXkoS9AOLwLt"
      }
    },
    {
      "cell_type": "markdown",
      "source": [
        "## **Part #1: Setting Up VQE**\n",
        "---\n",
        "\n",
        "In this section, we will write the code to create a general VQE algorithm that uses Q# operations."
      ],
      "metadata": {
        "nteract": {
          "transient": {
            "deleting": false
          }
        },
        "id": "dgiJSJ_n1eSk"
      }
    },
    {
      "cell_type": "markdown",
      "source": [
        "### **Exercise #1.1: Measure Trial State Operation (Practice Together)**\n",
        "\n",
        "Let's start by writing the core quantum operation of VQE: preparing and measuring a trial state. We will do this in three parts:\n",
        "\n",
        "1. Declare the operation in python so that it is recognized later on.\n",
        "2. Create an operation in Q# called `MeasureTrialState`.\n",
        "3. Simulate the operation in python."
      ],
      "metadata": {
        "nteract": {
          "transient": {
            "deleting": false
          }
        },
        "id": "z_E96aK51eSk"
      }
    },
    {
      "cell_type": "markdown",
      "source": [
        "#### **1. Declare the operation in python so that it is recognized later on.**"
      ],
      "metadata": {
        "nteract": {
          "transient": {
            "deleting": false
          }
        },
        "id": "G-jxQntwOuES"
      }
    },
    {
      "cell_type": "code",
      "source": [
        "MeasureTrialState : any = None"
      ],
      "outputs": [],
      "execution_count": 19,
      "metadata": {
        "jupyter": {
          "source_hidden": false,
          "outputs_hidden": false
        },
        "nteract": {
          "transient": {
            "deleting": false
          }
        },
        "id": "2otMD8J6LwLu"
      }
    },
    {
      "cell_type": "markdown",
      "source": [
        "#### **2. Create an operation in Q# called `MeasureTrialState`.** \n",
        "\n",
        "Let's complete the code below so that this operation:\n",
        "* Takes two inputs: a Double Array called `parameters` and an Int called `numQubits`.\n",
        "* Returns an Array of Results after preparing and measuring `numQubits` in the state specified by `parameters`."
      ],
      "metadata": {
        "nteract": {
          "transient": {
            "deleting": false
          }
        },
        "id": "7zIgx1ttOuES"
      }
    },
    {
      "cell_type": "code",
      "source": [
        "%%qsharp\n",
        "\n",
        "operation MeasureTrialState(parameters : Double[], numQubits : Int) : Result[] {\n",
        "\n",
        "    use qs =  Qubit[numQubits]; // COMPLETE THIS LINE\n",
        "\n",
        "    ApproximatelyPrepareArbitraryStateD(1e-3, parameters, LittleEndian(qs));\n",
        "\n",
        "    return MultiM(qs);// COMPLETE THIS LINE\n",
        "}"
      ],
      "outputs": [],
      "execution_count": 20,
      "metadata": {
        "id": "EcLnQaysPd7V",
        "microsoft": {
          "language": "qsharp"
        }
      }
    },
    {
      "cell_type": "markdown",
      "source": [
        "#### **3. Simulate the operation in python.**\n",
        "\n",
        "**Run the cell below to use Microsoft's simulator.**"
      ],
      "metadata": {
        "nteract": {
          "transient": {
            "deleting": false
          }
        },
        "id": "rDSdIv6bOuES"
      }
    },
    {
      "cell_type": "code",
      "source": [
        "MeasureTrialState.simulate(parameters = [0, 1], numQubits = 1)"
      ],
      "outputs": [
        {
          "output_type": "execute_result",
          "execution_count": 21,
          "data": {
            "text/plain": "[1]"
          },
          "metadata": {}
        }
      ],
      "execution_count": 21,
      "metadata": {
        "jupyter": {
          "source_hidden": false,
          "outputs_hidden": false
        },
        "nteract": {
          "transient": {
            "deleting": false
          }
        },
        "id": "Flz80qo4OuET"
      }
    },
    {
      "cell_type": "markdown",
      "source": [
        "### **Exercise #1.2: Average Energy (Practice Together)**\n",
        "\n",
        "Now, let's write a python function that uses our operation to calculate the average energy for a given set of parameters. Specifically, it will:\n",
        "* Take the inputs `parameters`, `numQubits`, `Hamiltonian`, and `shots`.\n",
        "* Prepare and measure a quantum state `shots` times, using `parameters` and `numQubits`.\n",
        "* Calculate and return the average energy of these measurements using `Hamiltonian`."
      ],
      "metadata": {
        "nteract": {
          "transient": {
            "deleting": false
          }
        },
        "id": "uw89Z0ojQU7n"
      }
    },
    {
      "cell_type": "code",
      "source": [
        "def averageEnergy(parameters, numQubits, Hamiltonian, shots = 20):\n",
        "\n",
        "    # Prepare and measure the state many times\n",
        "    results = localSimulator(MeasureTrialState, parameters, numQubits, shots)\n",
        "\n",
        "\n",
        "    # Calculate and return the average energy of this set of measurements\n",
        "    averageEnergy = 0\n",
        "    for bits in results.keys():\n",
        "        state = json.loads(bits)\n",
        "        averageEnergy += Hamiltonian(state) * results[bits]\n",
        "    \n",
        "    return averageEnergy"
      ],
      "outputs": [],
      "execution_count": 23,
      "metadata": {
        "jupyter": {
          "source_hidden": false,
          "outputs_hidden": false
        },
        "nteract": {
          "transient": {
            "deleting": false
          }
        },
        "id": "Drd_TtdFLwLu"
      }
    },
    {
      "cell_type": "markdown",
      "source": [
        "### **Exercise #1.3: VQE (Practice Together)**\n",
        "\n",
        "Finally, let's create the VQE function in python. Specifically, it will:\n",
        "* Take the inputs `numQubits` and `Hamiltonian`.\n",
        "* Initialize a random guess of parameters.\n",
        "* Return the result of minimizing `averageEnergy` for the given inputs and initial parameters."
      ],
      "metadata": {
        "nteract": {
          "transient": {
            "deleting": false
          }
        },
        "id": "39AaR4mGS57W"
      }
    },
    {
      "cell_type": "code",
      "source": [
        "def VQE(numQubits, Hamiltonian): \n",
        "    \n",
        "    parameters = [1 / 2**numQubits] * (2**numQubits)\n",
        "\n",
        "    return minimize(averageEnergy, parameters, args = (numQubits, Hamiltonian), method = \"SLSQP\")"
      ],
      "outputs": [],
      "execution_count": 24,
      "metadata": {
        "id": "-fBFO9qjRE19"
      }
    },
    {
      "cell_type": "markdown",
      "source": [
        "## **Part #2: Solving a Toy Problem**\n",
        "---\n",
        "\n",
        "Now, we will solve a simple \"toy problem\" to get a feel for how VQE works. Specifically, we will minimize the Hamiltonian: $H = x_0 + x_1 - C x_0 x_1$. \n",
        "\n",
        "<br>\n",
        "\n",
        "**NOTE**: The solutions are quick to calculate without using VQE, which means we can use this example to ensure our VQE code works:\n",
        "\n",
        "For $C < 2$, $x_0 = x_1 = 0$ is the optimal solution with $H = 0$.\n",
        "\n",
        "For $C = 2$, $x_0 = x_1 = 0$ and $x_0 = x_1 = 1$ are equally optimal solutions with $H = 0$.\n",
        "\n",
        "For $C > 2$, $x_0 = x_1 = 1$ is the optimal solution with $H = 2 - C$."
      ],
      "metadata": {
        "nteract": {
          "transient": {
            "deleting": false
          }
        },
        "id": "DCyQkJ-aUNhh"
      }
    },
    {
      "cell_type": "markdown",
      "source": [
        "### **Exercise #2.1: Defining and Solving a Problem with VQE (Practice Together)**\n",
        "\n",
        "We will starting by solving this problem for $C = 1$. We will do this in three steps:\n",
        "1. Define the problem, specifically the Hamiltonian.\n",
        "2. Run VQE for the problem.\n",
        "3. Examine the results."
      ],
      "metadata": {
        "nteract": {
          "transient": {
            "deleting": false
          }
        },
        "id": "NpHRMM0AcXeo"
      }
    },
    {
      "cell_type": "markdown",
      "source": [
        "#### **1. Define the problem, specifically the Hamiltonian.**"
      ],
      "metadata": {
        "nteract": {
          "transient": {
            "deleting": false
          }
        },
        "id": "Mn4J0Zuicv1y"
      }
    },
    {
      "cell_type": "code",
      "source": [
        "def Hamiltonian(state): return state[0] + state[1] - state[0]*state[1]"
      ],
      "outputs": [],
      "execution_count": 25,
      "metadata": {
        "jupyter": {
          "source_hidden": false,
          "outputs_hidden": false
        },
        "nteract": {
          "transient": {
            "deleting": false
          }
        },
        "id": "-7xdBXF1LwLw"
      }
    },
    {
      "cell_type": "markdown",
      "source": [
        "##### **Run the code below to see all possible states and their energies.** (Physicists call this the *energy spectrum*.)"
      ],
      "metadata": {
        "id": "90C7Pv4Ic_tG"
      }
    },
    {
      "cell_type": "code",
      "source": [
        "printFullSpectrum(2, Hamiltonian)"
      ],
      "outputs": [
        {
          "output_type": "stream",
          "name": "stdout",
          "text": "[0, 0] 0\n[0, 1] 1\n[1, 0] 1\n[1, 1] 1\n"
        }
      ],
      "execution_count": 26,
      "metadata": {
        "id": "YuzDL2vKdGNV"
      }
    },
    {
      "cell_type": "markdown",
      "source": [
        "#### **2. Run VQE for the problem.**"
      ],
      "metadata": {
        "nteract": {
          "transient": {
            "deleting": false
          }
        },
        "id": "7d97AUjrc10r"
      }
    },
    {
      "cell_type": "code",
      "source": [
        "result = VQE(2, Hamiltonian)"
      ],
      "outputs": [],
      "execution_count": 27,
      "metadata": {
        "id": "JJQkqTQocyzX"
      }
    },
    {
      "cell_type": "markdown",
      "source": [
        "#### **3. Examine the results.**"
      ],
      "metadata": {
        "nteract": {
          "transient": {
            "deleting": false
          }
        },
        "id": "JpQMaZu-c7yB"
      }
    },
    {
      "cell_type": "code",
      "source": [
        "print(result)\n",
        "results = localSimulator(MeasureTrialState, result.x, 2, 1000)\n",
        "\n",
        "plt.bar(results.keys(), results.values())\n",
        "\n",
        "plt.title(\"Result\")\n",
        "plt.xlabel(\"Measurement\")\n",
        "plt.ylabel(\"Probability\")\n",
        "\n",
        "plt.xticks(rotation = 90)\n",
        "\n",
        "plt.show()"
      ],
      "outputs": [
        {
          "output_type": "stream",
          "name": "stdout",
          "text": " message: Optimization terminated successfully\n success: True\n  status: 0\n     fun: 1.0000000000000002\n       x: [ 2.500e-01  6.554e+03 -3.277e+03  2.500e-01]\n     nit: 2\n     jac: [ 0.000e+00 -1.490e-08  0.000e+00 -1.490e-08]\n    nfev: 20\n    njev: 2\n"
        },
        {
          "output_type": "display_data",
          "data": {
            "text/plain": "<Figure size 640x480 with 1 Axes>",
            "image/png": "[encoded data removed]"
          },
          "metadata": {}
        }
      ],
      "execution_count": 29,
      "metadata": {
        "id": "KTqlJ7gFc6B3"
      }
    },
    {
      "cell_type": "markdown",
      "source": [
        "### **Exercise #2.2**\n",
        "\n",
        "Solve this problem for $C = 5$ using our three steps:\n",
        "1. Define the problem, specifically the Hamiltonian.\n",
        "2. Run VQE for the problem.\n",
        "3. Examine the results."
      ],
      "metadata": {
        "nteract": {
          "transient": {
            "deleting": false
          }
        },
        "id": "XbHFBJw3d0Ow"
      }
    },
    {
      "cell_type": "markdown",
      "source": [
        "#### **1. Define the problem, specifically the Hamiltonian.**"
      ],
      "metadata": {
        "nteract": {
          "transient": {
            "deleting": false
          }
        },
        "id": "MchCi7n2eFnp"
      }
    },
    {
      "cell_type": "code",
      "source": [
        "def Hamiltonian(state): return state[0] + state[1] - 5* state[0]*state[1]  # COMPLETE THIS LINE"
      ],
      "outputs": [],
      "execution_count": 30,
      "metadata": {
        "id": "xlgiou8SeH-W"
      }
    },
    {
      "cell_type": "markdown",
      "source": [
        "##### **Run the code below to see all possible states and their energies.** (Physicists call this the *energy spectrum*.)"
      ],
      "metadata": {
        "id": "AGkXBUSieFnq"
      }
    },
    {
      "cell_type": "code",
      "source": [
        "printFullSpectrum(2, Hamiltonian)"
      ],
      "outputs": [
        {
          "output_type": "stream",
          "name": "stdout",
          "text": "[0, 0] 0\n[0, 1] 1\n[1, 0] 1\n[1, 1] -3\n"
        }
      ],
      "execution_count": 31,
      "metadata": {
        "id": "A44UTO9seFnq"
      }
    },
    {
      "cell_type": "markdown",
      "source": [
        "#### **2. Run VQE for the problem.**"
      ],
      "metadata": {
        "nteract": {
          "transient": {
            "deleting": false
          }
        },
        "id": "y7UxUegBeigM"
      }
    },
    {
      "cell_type": "code",
      "source": [
        "result = VQE(2, Hamiltonian) # COMPLETE THIS LINE"
      ],
      "outputs": [],
      "execution_count": 32,
      "metadata": {
        "id": "DfTIIzc6eyZE"
      }
    },
    {
      "cell_type": "markdown",
      "source": [
        "#### **3. Examine the results.**"
      ],
      "metadata": {
        "nteract": {
          "transient": {
            "deleting": false
          }
        },
        "id": "NxSRljIIeigN"
      }
    },
    {
      "cell_type": "code",
      "source": [
        "print(result)\n",
        "results = localSimulator(MeasureTrialState, result.x, 2, 1000)\n",
        "\n",
        "plt.bar(results.keys(), results.values())\n",
        "\n",
        "plt.title(\"Result\")\n",
        "plt.xlabel(\"Measurement\")\n",
        "plt.ylabel(\"Probability\")\n",
        "\n",
        "plt.xticks(rotation = 90)\n",
        "\n",
        "plt.show()"
      ],
      "outputs": [
        {
          "output_type": "stream",
          "name": "stdout",
          "text": " message: Optimization terminated successfully\n success: True\n  status: 0\n     fun: -1.2999999999999998\n       x: [ 1.767e+06  5.665e+05  2.559e+04 -2.586e+06]\n     nit: 10\n     jac: [-1.007e+07 -8.389e+07 -6.375e+07 -8.389e+07]\n    nfev: 151\n    njev: 10\n"
        },
        {
          "output_type": "display_data",
          "data": {
            "text/plain": "<Figure size 640x480 with 1 Axes>",
            "image/png": "[encoded data removed]"
          },
          "metadata": {}
        }
      ],
      "execution_count": 33,
      "metadata": {
        "id": "IPeRZfNpeigN"
      }
    },
    {
      "cell_type": "markdown",
      "source": [
        "### **Exercise #2.3**\n",
        "\n",
        "Solve this problem for $C = 2$ using our three steps:\n",
        "1. Define the problem, specifically the Hamiltonian.\n",
        "2. Run VQE for the problem.\n",
        "3. Examine the results."
      ],
      "metadata": {
        "nteract": {
          "transient": {
            "deleting": false
          }
        },
        "id": "U6Hwk1U-e4re"
      }
    },
    {
      "cell_type": "markdown",
      "source": [
        "#### **1. Define the problem, specifically the Hamiltonian.**"
      ],
      "metadata": {
        "nteract": {
          "transient": {
            "deleting": false
          }
        },
        "id": "gQ7Pd6mLe4rf"
      }
    },
    {
      "cell_type": "code",
      "source": [
        "def Hamiltonian(state): return state[0] + state[1] - 2* state[0]*state[1]  # COMPLETE THIS LINE"
      ],
      "outputs": [],
      "execution_count": 34,
      "metadata": {
        "id": "Pay7Haoce4rf"
      }
    },
    {
      "cell_type": "markdown",
      "source": [
        "##### **Run the code below to see all possible states and their energies.** (Physicists call this the *energy spectrum*.)"
      ],
      "metadata": {
        "id": "MJPaVGSbe4rf"
      }
    },
    {
      "cell_type": "code",
      "source": [
        "printFullSpectrum(2, Hamiltonian)"
      ],
      "outputs": [
        {
          "output_type": "stream",
          "name": "stdout",
          "text": "[0, 0] 0\n[0, 1] 1\n[1, 0] 1\n[1, 1] 0\n"
        }
      ],
      "execution_count": 35,
      "metadata": {
        "id": "jziIn5mwe4rf"
      }
    },
    {
      "cell_type": "markdown",
      "source": [
        "#### **2. Run VQE for the problem.**"
      ],
      "metadata": {
        "nteract": {
          "transient": {
            "deleting": false
          }
        },
        "id": "pxwmFiXce4rg"
      }
    },
    {
      "cell_type": "code",
      "source": [
        "result = VQE(2, Hamiltonian) # COMPLETE THIS LINE"
      ],
      "outputs": [],
      "execution_count": 36,
      "metadata": {
        "id": "0A00fcC4e4rg"
      }
    },
    {
      "cell_type": "markdown",
      "source": [
        "#### **3. Examine the results.**"
      ],
      "metadata": {
        "nteract": {
          "transient": {
            "deleting": false
          }
        },
        "id": "gphgfp0He4rg"
      }
    },
    {
      "cell_type": "code",
      "source": [
        "print(result)\n",
        "results = localSimulator(MeasureTrialState, result.x, 2, 1000)\n",
        "\n",
        "plt.bar(results.keys(), results.values())\n",
        "\n",
        "plt.title(\"Result\")\n",
        "plt.xlabel(\"Measurement\")\n",
        "plt.ylabel(\"Probability\")\n",
        "\n",
        "plt.xticks(rotation = 90)\n",
        "\n",
        "plt.show()"
      ],
      "outputs": [
        {
          "output_type": "stream",
          "name": "stdout",
          "text": " message: Optimization terminated successfully\n success: True\n  status: 0\n     fun: 0.8\n       x: [ 3.226e+04 -6.665e+04 -2.941e+04  4.727e+03]\n     nit: 6\n     jac: [ 3.355e+06 -1.007e+07  3.355e+06  0.000e+00]\n    nfev: 91\n    njev: 6\n"
        },
        {
          "output_type": "display_data",
          "data": {
            "text/plain": "<Figure size 640x480 with 1 Axes>",
            "image/png": "[encoded data removed]"
          },
          "metadata": {}
        }
      ],
      "execution_count": 37,
      "metadata": {
        "id": "h_BGGoO1e4rg"
      }
    },
    {
      "cell_type": "markdown",
      "source": [
        "## **Part #3: Solving the Knapsack Problem**\n",
        "---\n",
        "\n",
        "Now, we will use VQE to solve the Knapsack Problem as described below.\n",
        "\n",
        "Given $n$ items with values, $\\{ \\text{value}_1, \\text{value}_2, ..., \\text{value}_n\\}$, and weights, $\\{\\text{weight}_1, \\text{weight}_2, ..., \\text{weight}_n\\}$, we want to find the combination of items to put in our knapsack that have the greatest total value without going over a given weight limit, $\\text{maxWeight}$. We can express this with the following Hamiltonian:\n",
        "\n",
        "$H = -\\sum_{i=1}^n{\\text{value}_i * x_i} + \\text{penalty} * (\\text{maxWeight} - \\sum_{i=1}^n{\\text{weight}_i * x_i} )^2$\n",
        "\n",
        "<br>\n",
        "\n",
        "**Run the code below to create a python function that converts a problem to the Hamiltonian.**"
      ],
      "metadata": {
        "nteract": {
          "transient": {
            "deleting": false
          }
        },
        "id": "FWTaFGMyfHKf"
      }
    },
    {
      "cell_type": "code",
      "source": [
        "def KnapsackProblem(state, value, weight, maxWeight):\n",
        "\n",
        "    n = len(value)\n",
        "    penalty = sum(value)/maxWeight**2 * 10\n",
        "\n",
        "    return -1*sum(value[i]*state[i] for i in range(n)) + penalty * (maxWeight - sum(weight[i]*state[i] for i in range(n)))**2"
      ],
      "outputs": [],
      "execution_count": 38,
      "metadata": {
        "id": "tzFN3EvVhaal"
      }
    },
    {
      "cell_type": "markdown",
      "source": [
        "### **Exercise #3.1: Defining and Solving the Knapsack Problem with VQE (Practice Together)**\n",
        "\n",
        "We will starting by solving this problem for the set of parameters given below using our three steps:\n",
        "1. Define the problem, specifically the Hamiltonian.\n",
        "2. Run VQE for the problem.\n",
        "3. Examine the results.\n",
        "\n",
        "<br>\n",
        "\n",
        "**Problem Description**:\n",
        "* $n = 3$\n",
        "* $\\text{value} = \\{6, 10, 15 \\}$\n",
        "* $\\text{weight} = \\{10, 50, 75\\}$\n",
        "* $\\text{maxWeight} = 100$"
      ],
      "metadata": {
        "nteract": {
          "transient": {
            "deleting": false
          }
        },
        "id": "q8pWQUnbgB2m"
      }
    },
    {
      "cell_type": "markdown",
      "source": [
        "#### **1. Define the problem, specifically the Hamiltonian.**"
      ],
      "metadata": {
        "nteract": {
          "transient": {
            "deleting": false
          }
        },
        "id": "oVb9zHRogB2w"
      }
    },
    {
      "cell_type": "code",
      "source": [
        "def Hamiltonian(state): return KnapsackProblem(state, \n",
        "                                               value = [6, 10, 15], \n",
        "                                               weight = [10, 50, 75], \n",
        "                                               maxWeight = 100)"
      ],
      "outputs": [],
      "execution_count": 39,
      "metadata": {
        "jupyter": {
          "source_hidden": false,
          "outputs_hidden": false
        },
        "nteract": {
          "transient": {
            "deleting": false
          }
        },
        "id": "m2xsQ8y2gB2w"
      }
    },
    {
      "cell_type": "markdown",
      "source": [
        "##### **Run the code below to see all possible states and their energies.** (Physicists call this the *energy spectrum*.)"
      ],
      "metadata": {
        "id": "9C9ii0QfgB2x"
      }
    },
    {
      "cell_type": "code",
      "source": [
        "printFullSpectrum(3, Hamiltonian)"
      ],
      "outputs": [
        {
          "output_type": "stream",
          "name": "stdout",
          "text": "[0, 0, 0] 310.0\n[0, 0, 1] 4.375\n[0, 1, 0] 67.5\n[0, 1, 1] -5.625\n[1, 0, 0] 245.1\n[1, 0, 1] -14.025\n[1, 1, 0] 33.6\n[1, 1, 1] 6.975000000000001\n"
        }
      ],
      "execution_count": 40,
      "metadata": {
        "id": "wTGFcKrrgB2x"
      }
    },
    {
      "cell_type": "markdown",
      "source": [
        "#### **2. Run VQE for the problem.**"
      ],
      "metadata": {
        "nteract": {
          "transient": {
            "deleting": false
          }
        },
        "id": "z2AeMdrsgB2x"
      }
    },
    {
      "cell_type": "code",
      "source": [
        "result = VQE(3, Hamiltonian)"
      ],
      "outputs": [],
      "execution_count": 41,
      "metadata": {
        "id": "_H3fiYNNgB2x"
      }
    },
    {
      "cell_type": "markdown",
      "source": [
        "#### **3. Examine the results.**"
      ],
      "metadata": {
        "nteract": {
          "transient": {
            "deleting": false
          }
        },
        "id": "wuErUUEugB2x"
      }
    },
    {
      "cell_type": "code",
      "source": [
        "print(result)\n",
        "results = localSimulator(MeasureTrialState, result.x, 3, 1000)\n",
        "\n",
        "plt.bar(results.keys(), results.values())\n",
        "\n",
        "plt.title(\"Result\")\n",
        "plt.xlabel(\"Measurement\")\n",
        "plt.ylabel(\"Probability\")\n",
        "\n",
        "plt.xticks(rotation = 90)\n",
        "\n",
        "plt.show()"
      ],
      "outputs": [
        {
          "output_type": "stream",
          "name": "stdout",
          "text": " message: Optimization terminated successfully\n success: True\n  status: 0\n     fun: 277.65375000000006\n       x: [ 1.669e+09 -7.579e+08  4.414e+07 -8.006e+08 -2.683e+08\n            2.025e+08 -1.371e+08  1.599e+08]\n     nit: 42\n     jac: [ 1.667e+00 -2.735e+00  2.741e+08 -8.865e-01 -4.269e+00\n            1.403e+01 -1.934e+01 -1.250e+00]\n    nfev: 783\n    njev: 42\n"
        },
        {
          "output_type": "display_data",
          "data": {
            "text/plain": "<Figure size 640x480 with 1 Axes>",
            "image/png": "[encoded data removed]"
          },
          "metadata": {}
        }
      ],
      "execution_count": 42,
      "metadata": {
        "id": "dClV-KRlgB2x"
      }
    },
    {
      "cell_type": "markdown",
      "source": [
        "### **Exercise #3.2**\n",
        "\n",
        "Now solve this problem for the set of parameters given below using our three steps:\n",
        "1. Define the problem, specifically the Hamiltonian.\n",
        "2. Run VQE for the problem.\n",
        "3. Examine the results.\n",
        "\n",
        "<br>\n",
        "\n",
        "**Problem Description**:\n",
        "* $n = 3$\n",
        "* $\\text{value} = \\{6, 10, 15 \\}$\n",
        "* $\\text{weight} = \\{10, 50, 75\\}$\n",
        "* $\\text{maxWeight} = 150$"
      ],
      "metadata": {
        "nteract": {
          "transient": {
            "deleting": false
          }
        },
        "id": "RcGjZNwtiMr1"
      }
    },
    {
      "cell_type": "markdown",
      "source": [
        "#### **1. Define the problem, specifically the Hamiltonian.**"
      ],
      "metadata": {
        "nteract": {
          "transient": {
            "deleting": false
          }
        },
        "id": "LAYDJzAHiiGm"
      }
    },
    {
      "cell_type": "code",
      "source": [
        "#COMPLETE THIS COMMAND\n",
        "def Hamiltonian(state): return KnapsackProblem(state, \n",
        "                                               value = [6, 10, 15], \n",
        "                                               weight = [10, 50, 75], \n",
        "                                               maxWeight = 150)"
      ],
      "outputs": [],
      "execution_count": 43,
      "metadata": {
        "id": "nX317_U2imqf"
      }
    },
    {
      "cell_type": "markdown",
      "source": [
        "##### **Run the code below to see all possible states and their energies.** (Physicists call this the *energy spectrum*.)"
      ],
      "metadata": {
        "id": "LRTukYD4iiGn"
      }
    },
    {
      "cell_type": "code",
      "source": [
        "printFullSpectrum(3, Hamiltonian)"
      ],
      "outputs": [
        {
          "output_type": "stream",
          "name": "stdout",
          "text": "[0, 0, 0] 310.0\n[0, 0, 1] 62.5\n[0, 1, 0] 127.77777777777777\n[0, 1, 1] -16.38888888888889\n[1, 0, 0] 264.0444444444444\n[1, 0, 1] 37.21111111111111\n[1, 1, 0] 95.6\n[1, 1, 1] -27.9\n"
        }
      ],
      "execution_count": 44,
      "metadata": {
        "id": "IerDORsbiiGn"
      }
    },
    {
      "cell_type": "markdown",
      "source": [
        "#### **2. Run VQE for the problem.**"
      ],
      "metadata": {
        "nteract": {
          "transient": {
            "deleting": false
          }
        },
        "id": "fuTBo0aviiGn"
      }
    },
    {
      "cell_type": "code",
      "source": [
        "result = VQE(3, Hamiltonian)"
      ],
      "outputs": [],
      "execution_count": 45,
      "metadata": {
        "id": "TtNmxV9fiiGn"
      }
    },
    {
      "cell_type": "markdown",
      "source": [
        "#### **3. Examine the results.**"
      ],
      "metadata": {
        "nteract": {
          "transient": {
            "deleting": false
          }
        },
        "id": "fX83sspCiiGn"
      }
    },
    {
      "cell_type": "code",
      "source": [
        "print(result)\n",
        "results = localSimulator(MeasureTrialState, result.x, 3, 1000)\n",
        "\n",
        "plt.bar(results.keys(), results.values())\n",
        "\n",
        "plt.title(\"Result\")\n",
        "plt.xlabel(\"Measurement\")\n",
        "plt.ylabel(\"Probability\")\n",
        "\n",
        "plt.xticks(rotation = 90)\n",
        "\n",
        "plt.show()"
      ],
      "outputs": [
        {
          "output_type": "stream",
          "name": "stdout",
          "text": " message: Optimization terminated successfully\n success: True\n  status: 0\n     fun: 71.51777777777778\n       x: [-5.159e+10 -5.937e+10  6.270e+10  7.017e+10 -3.420e+10\n           -9.614e+10  6.069e+10  1.743e+10]\n     nit: 11\n     jac: [-9.062e-02 -6.447e-02  5.466e-02  6.020e-02 -1.261e-01\n           -4.082e-02  7.037e-02  3.676e-01]\n    nfev: 189\n    njev: 11\n"
        },
        {
          "output_type": "display_data",
          "data": {
            "text/plain": "<Figure size 640x480 with 1 Axes>",
            "image/png": "[encoded data removed]"
          },
          "metadata": {}
        }
      ],
      "execution_count": 46,
      "metadata": {
        "id": "xcnjAWfjiiGn"
      }
    },
    {
      "cell_type": "markdown",
      "source": [
        "### **Exercise #3.3**\n",
        "\n",
        "Now solve this problem for the set of parameters given below using our three steps:\n",
        "1. Define the problem, specifically the Hamiltonian.\n",
        "2. Run VQE for the problem.\n",
        "3. Examine the results.\n",
        "\n",
        "<br>\n",
        "\n",
        "**Problem Description**:\n",
        "* $n = 4$\n",
        "* $\\text{value} = \\{6, 10, 15, 14 \\}$\n",
        "* $\\text{weight} = \\{10, 50, 75, 25\\}$\n",
        "* $\\text{maxWeight} = 100$"
      ],
      "metadata": {
        "nteract": {
          "transient": {
            "deleting": false
          }
        },
        "id": "mpT8Nt3eiwbG"
      }
    },
    {
      "cell_type": "markdown",
      "source": [
        "#### **1. Define the problem, specifically the Hamiltonian.**"
      ],
      "metadata": {
        "nteract": {
          "transient": {
            "deleting": false
          }
        },
        "id": "11Y1Ug2uiwbH"
      }
    },
    {
      "cell_type": "code",
      "source": [
        "#COMPLETE THIS COMMAND\n",
        "def Hamiltonian(state): return KnapsackProblem(state, \n",
        "                                               value = [6, 10, 15, 14], \n",
        "                                               weight = [10, 50, 75,25], \n",
        "                                               maxWeight = 100)"
      ],
      "outputs": [],
      "execution_count": 48,
      "metadata": {
        "id": "1ruylmkViwbH"
      }
    },
    {
      "cell_type": "markdown",
      "source": [
        "##### **Run the code below to see all possible states and their energies.** (Physicists call this the *energy spectrum*.)"
      ],
      "metadata": {
        "id": "yh49NmdciwbI"
      }
    },
    {
      "cell_type": "code",
      "source": [
        "printFullSpectrum(4, Hamiltonian)"
      ],
      "outputs": [
        {
          "output_type": "stream",
          "name": "stdout",
          "text": "[0, 0, 0, 0] 450.0\n[0, 0, 0, 1] 239.125\n[0, 0, 1, 0] 13.125\n[0, 0, 1, 1] -29.0\n[0, 1, 0, 0] 102.5\n[0, 1, 0, 1] 4.125\n[0, 1, 1, 0] 3.125\n[0, 1, 1, 1] 73.5\n[1, 0, 0, 0] 358.5\n[1, 0, 0, 1] 170.125\n[1, 0, 1, 0] -10.875\n[1, 0, 1, 1] -30.5\n[1, 1, 0, 0] 56.0\n[1, 1, 0, 1] -19.875\n[1, 1, 1, 0] 24.125\n[1, 1, 1, 1] 117.0\n"
        }
      ],
      "execution_count": 49,
      "metadata": {
        "id": "ow5vX3PBiwbI"
      }
    },
    {
      "cell_type": "markdown",
      "source": [
        "#### **2. Run VQE for the problem.**"
      ],
      "metadata": {
        "nteract": {
          "transient": {
            "deleting": false
          }
        },
        "id": "0K2cWhNOiwbI"
      }
    },
    {
      "cell_type": "code",
      "source": [
        "result = VQE(4, Hamiltonian)"
      ],
      "outputs": [],
      "execution_count": 50,
      "metadata": {
        "id": "BGND2I3ViwbI"
      }
    },
    {
      "cell_type": "markdown",
      "source": [
        "#### **3. Examine the results.**"
      ],
      "metadata": {
        "nteract": {
          "transient": {
            "deleting": false
          }
        },
        "id": "J-B5wV8ziwbI"
      }
    },
    {
      "cell_type": "code",
      "source": [
        "print(result)\n",
        "results = localSimulator(MeasureTrialState, result.x, 4, 1000)\n",
        "\n",
        "plt.bar(results.keys(), results.values())\n",
        "\n",
        "plt.title(\"Result\")\n",
        "plt.xlabel(\"Measurement\")\n",
        "plt.ylabel(\"Probability\")\n",
        "\n",
        "plt.xticks(rotation = 90)\n",
        "\n",
        "plt.show()"
      ],
      "outputs": [
        {
          "output_type": "stream",
          "name": "stdout",
          "text": " message: Optimization terminated successfully\n success: True\n  status: 0\n     fun: 231.29375000000002\n       x: [-4.937e+09  3.380e+09 ... -1.497e+09  8.682e+07]\n     nit: 28\n     jac: [-2.549e-04  9.089e-01 ... -7.338e+00  5.073e+09]\n    nfev: 729\n    njev: 28\n"
        },
        {
          "output_type": "display_data",
          "data": {
            "text/plain": "<Figure size 640x480 with 1 Axes>",
            "image/png": "[encoded data removed]"
          },
          "metadata": {}
        }
      ],
      "execution_count": 51,
      "metadata": {
        "id": "-Mw7A60JiwbI"
      }
    },
    {
      "cell_type": "markdown",
      "source": [
        "### **Exercise #3.4: Running On a Target. (Practice Together)**\n",
        "\n",
        "Let's try solving this problem using the IonQ simulator. Specifically, we will:\n",
        "1. Modify the code below so that the average energy function uses the currently connected target to get the results instead of running locally. \n",
        "2. Connect to a target of your choice.\n",
        "3. Solve the problem above using this target.\n",
        "4. Examine the results.\n",
        "\n",
        "<br>\n",
        "\n",
        "**NOTE**: While we could easily use a hardware target, this is not advisable since we need to each run a large number of different jobs. Generally, we need to run 100s of jobs to complete VQE, each of which could take a half hour or more. When researchers are running these jobs on real hardware, they often get special access to machines individually *and* modify their code to be extremely efficient (even if it's not as easy to understand)."
      ],
      "metadata": {
        "nteract": {
          "transient": {
            "deleting": false
          }
        },
        "id": "qkvj0gZXxaG9"
      }
    },
    {
      "cell_type": "markdown",
      "source": [
        "#### **1. Modify the code below so that the average energy function uses the currently connected target to get the results instead of running locally.**"
      ],
      "metadata": {
        "nteract": {
          "transient": {
            "deleting": false
          }
        },
        "id": "3BIm6xnYxaG-"
      }
    },
    {
      "cell_type": "code",
      "source": [
        "def averageEnergy(parameters, numQubits, Hamiltonian, shots = 100):\n",
        "\n",
        "    # Prepare and measure the state many times\n",
        "    results = localSimulator(MeasureTrialState, parameters, numQubits, shots)\n",
        "\n",
        "\n",
        "    # Calculate and return the average energy of this set of measurements\n",
        "    averageEnergy = 0\n",
        "    for bits in results.keys():\n",
        "        state = json.loads(bits)\n",
        "        averageEnergy += Hamiltonian(state) * results[bits]\n",
        "    \n",
        "    return averageEnergy"
      ],
      "outputs": [],
      "execution_count": 52,
      "metadata": {
        "jupyter": {
          "source_hidden": false,
          "outputs_hidden": false
        },
        "nteract": {
          "transient": {
            "deleting": false
          }
        },
        "id": "JrqOZ604xaG-"
      }
    },
    {
      "cell_type": "markdown",
      "source": [
        "#### **2. Connect to a target of your choice.**\n",
        "\n",
        "Let's connect to the `\"ionq.simulator\"`."
      ],
      "metadata": {
        "nteract": {
          "transient": {
            "deleting": false
          }
        },
        "id": "x9E-dWm5xaG-"
      }
    },
    {
      "cell_type": "code",
      "source": [
        "qsharp.azure.target(\"ionq.simulator\")"
      ],
      "outputs": [
        {
          "output_type": "stream",
          "name": "stdout",
          "text": "Loading package Microsoft.Quantum.Providers.IonQ and dependencies...\nActive target is now ionq.simulator\n"
        },
        {
          "output_type": "execute_result",
          "execution_count": 53,
          "data": {
            "text/plain": "{'id': 'ionq.simulator', 'current_availability': {}, 'average_queue_time': 2}"
          },
          "metadata": {}
        }
      ],
      "execution_count": 53,
      "metadata": {
        "jupyter": {
          "source_hidden": false,
          "outputs_hidden": false
        },
        "nteract": {
          "transient": {
            "deleting": false
          }
        },
        "id": "v74n6_3ExaG-"
      }
    },
    {
      "cell_type": "markdown",
      "source": [
        "#### **3. Solve the problem above using this target.**"
      ],
      "metadata": {
        "nteract": {
          "transient": {
            "deleting": false
          }
        },
        "id": "BNBYpHkvxaG-"
      }
    },
    {
      "cell_type": "code",
      "source": [
        "result = VQE(4, Hamiltonian)"
      ],
      "outputs": [],
      "execution_count": 54,
      "metadata": {
        "jupyter": {
          "source_hidden": false,
          "outputs_hidden": false
        },
        "nteract": {
          "transient": {
            "deleting": false
          }
        },
        "id": "VHZGtBLlxaG-"
      }
    },
    {
      "cell_type": "markdown",
      "source": [
        "#### **3. Examine the results.**"
      ],
      "metadata": {
        "nteract": {
          "transient": {
            "deleting": false
          }
        },
        "id": "rpxB4u4yxaG-"
      }
    },
    {
      "cell_type": "code",
      "source": [
        "print(result)\n",
        "results = localSimulator(MeasureTrialState, result.x, 4, 1000)\n",
        "\n",
        "plt.bar(results.keys(), results.values())\n",
        "\n",
        "plt.title(\"Result\")\n",
        "plt.xlabel(\"Measurement\")\n",
        "plt.ylabel(\"Probability\")\n",
        "\n",
        "plt.xticks(rotation = 90)\n",
        "\n",
        "plt.show()"
      ],
      "outputs": [
        {
          "output_type": "stream",
          "name": "stdout",
          "text": " message: Optimization terminated successfully\n success: True\n  status: 0\n     fun: 83.01249999999999\n       x: [ 1.382e+10 -5.639e+09 ... -1.410e+09 -1.126e+09]\n     nit: 16\n     jac: [ 1.044e-01 -1.303e-01 ... -4.524e-01 -2.011e+00]\n    nfev: 411\n    njev: 16\n"
        },
        {
          "output_type": "display_data",
          "data": {
            "text/plain": "<Figure size 640x480 with 1 Axes>",
            "image/png": "[encoded data removed]"
          },
          "metadata": {}
        }
      ],
      "execution_count": 55,
      "metadata": {
        "id": "AHLp4yZRxaG-"
      }
    },
    {
      "cell_type": "markdown",
      "source": [
        "## **Part #4: Solving the Portfolio Optimization Problem**\n",
        "---\n",
        "\n",
        "In this section, we will use the tools we've developed above to solve a real world problem, using real world data. In particular, we will look at the historical data for 5 prominent stocks (Apple, Netflix, Amazon, IBM, and Google) and use VQE to determine the best set to buy from these moving forward.\n",
        "\n",
        "We can modify the Knapsack problem to optimize which set of stocks we buy. In particular,\n",
        "* Our \"knapsack\" will be the portfolio of stocks we buy.\n",
        "* Each item will be a stock we are thinking about buying.\n",
        "* The value of each stock will be its expected return after some time.\n",
        "* The weight of each stock will be how much it costs to purchase it.\n",
        "* The weight limit will then be our budget.\n",
        "\n",
        "The only actual modification that professionals would suggest making to this problem is to consider *how risky* a given portfolio might be over a given time period. This can be calculated using something known as the *covariance*, which we will provide.\n",
        "\n",
        "<br>\n",
        "\n",
        "The overall Hamiltonian is then modified from\n",
        "\n",
        "$H = -\\sum_{i=1}^n{\\text{value}_i * x_i} + \\text{penalty} * (\\text{maxWeight} - \\sum_{i=1}^n{\\text{weight}_i * x_i} )^2$\n",
        "\n",
        "to\n",
        "\n",
        "$H = -\\sum_{i=1}^n{\\text{expectedReturn}_i * x_i} + \\text{penalty} * (\\text{budget} - \\sum_{i=1}^{n}{\\text{cost}_i * x_i} )^2 + \\text{riskPenalty}\\sum_{i,j=1}^{n}{\\text{covariance}_{i,j} x_i x_j}$\n",
        "\n",
        "<br>\n",
        "\n",
        "**Run the code below to load in the data and create a python function that converts a problem to the Hamiltonian.**"
      ],
      "metadata": {
        "nteract": {
          "transient": {
            "deleting": false
          }
        },
        "id": "LNRuq-dOjNjb"
      }
    },
    {
      "cell_type": "code",
      "source": [
        "# LOAD DATA\n",
        "#===========\n",
        "url = \"https://docs.google.com/spreadsheets/d/e/2PACX-1vTi5CXvfD9dMKL6147_1FpcdCXygr-7fc0PwxVTjGKXseQF__vXsOO-VQdqzxBhTHYMYQTIrLc6rSLh/pub?gid=1706580062&single=true&output=csv\"\n",
        "df = pd.read_csv(url)\n",
        "\n",
        "returns = []\n",
        "\n",
        "for i in range(1, len(df.columns)):\n",
        "  returns += [[]]\n",
        "  data = df[df.columns[i]]\n",
        "  for j in range(1, len(df)):\n",
        "    diff = data[j] - data[j - 1]\n",
        "    returns[i - 1] += [diff]\n",
        "    \n",
        "    \n",
        "# DEFINE GENERAL HAMILTONIAN\n",
        "#=============================\n",
        "def PortfolioOptimization(state, expectedReturn, cost, budget, covariance):\n",
        "\n",
        "  n = len(expectedReturn)\n",
        "  penalty = sum(expectedReturn)/budget**2 * 15\n",
        "  riskPenalty = 5/sum(sum(covariance[i][j] for j in range(n) for i in range(n)))\n",
        "\n",
        "  return -1*sum(expectedReturn[i]*state[i] for i in range(n)) + penalty * (sum(cost[i]*state[i] for i in range(n)) - budget)**2 + riskPenalty * sum(sum(covariance[i][j] * state[i] * state[j] for j in range(n)) for i in range(n))"
      ],
      "outputs": [],
      "execution_count": 56,
      "metadata": {
        "id": "BoX5UZkikEnW"
      }
    },
    {
      "cell_type": "markdown",
      "source": [
        "### **Exercise #4.1: Visualize the Data (Practice Together)**\n",
        "\n",
        "It is vital to explore and visualize data before using it. **Run the code below to visualize this data.**\n"
      ],
      "metadata": {
        "nteract": {
          "transient": {
            "deleting": false
          }
        },
        "id": "HJDrmfUykW8j"
      }
    },
    {
      "cell_type": "code",
      "source": [
        "for ticker in df.columns[1:]:\n",
        "    stockData = df[ticker]\n",
        "    norm = (stockData - stockData.min())/(stockData.max()- stockData.min())\n",
        "    plt.plot(norm, label=ticker)\n",
        "\n",
        "plt.legend()\n",
        "plt.title(\"The normalised yearly evolution of stock prices:\")\n",
        "plt.xticks(rotation=90)\n",
        "plt.show()"
      ],
      "outputs": [
        {
          "output_type": "display_data",
          "data": {
            "text/plain": "<Figure size 640x480 with 1 Axes>",
            "image/png": "[encoded data removed]"
          },
          "metadata": {}
        }
      ],
      "execution_count": 57,
      "metadata": {
        "jupyter": {
          "source_hidden": false,
          "outputs_hidden": false
        },
        "nteract": {
          "transient": {
            "deleting": false
          }
        },
        "id": "chKJ8EGnLwLy"
      }
    },
    {
      "cell_type": "markdown",
      "source": [
        "### **Exercise #4.2: Defining and Solving Portfolio Optimization with VQE (Practice Together)**\n",
        "\n",
        "We will starting by solving this problem for the set of parameters given below using our three steps:\n",
        "1. Define the problem, specifically the Hamiltonian.\n",
        "2. Run VQE for the problem.\n",
        "3. Examine the results.\n",
        "\n",
        "<br>\n",
        "\n",
        "**Problem Description**:\n",
        "* $n = 5$  (Apple, Netflix, Amazon, IBM, and Google)\n",
        "* $\\text{expectedReturn} = \\text{average historical returns}$\n",
        "* $\\text{covariance} = \\text{covariance of historical data}$\n",
        "* $\\text{cost} = \\{1, 1, 1, 1, 1\\}$\n",
        "* $\\text{budget} = 3$"
      ],
      "metadata": {
        "nteract": {
          "transient": {
            "deleting": false
          }
        },
        "id": "Ut4YPXSmksh4"
      }
    },
    {
      "cell_type": "markdown",
      "source": [
        "#### **1. Define the problem, specifically the Hamiltonian.**"
      ],
      "metadata": {
        "nteract": {
          "transient": {
            "deleting": false
          }
        },
        "id": "qI3p93lwksh5"
      }
    },
    {
      "cell_type": "code",
      "source": [
        "expectedReturn = pd.DataFrame(returns).transpose().mean().tolist()\n",
        "covariance = df.cov().values.tolist()\n",
        "\n",
        "cost = [1, 1, 1, 1, 1]\n",
        "budget = 3\n",
        "\n",
        "\n",
        "def Hamiltonian(state): return PortfolioOptimization(state, expectedReturn, cost, budget, covariance)"
      ],
      "outputs": [],
      "execution_count": 61,
      "metadata": {
        "jupyter": {
          "source_hidden": false,
          "outputs_hidden": false
        },
        "nteract": {
          "transient": {
            "deleting": false
          }
        },
        "id": "Vtkt5-OAksh5"
      }
    },
    {
      "cell_type": "markdown",
      "source": [
        "##### **Run the code below to see all possible states and their energies.** (Physicists call this the *energy spectrum*.)"
      ],
      "metadata": {
        "id": "LqYj9HnDksh6"
      }
    },
    {
      "cell_type": "code",
      "source": [
        "printFullSpectrum(5, Hamiltonian)"
      ],
      "outputs": [
        {
          "output_type": "error",
          "ename": "TypeError",
          "evalue": "'float' object is not iterable",
          "traceback": [
            "\u001b[0;31m---------------------------------------------------------------------------\u001b[0m",
            "\u001b[0;31mTypeError\u001b[0m                                 Traceback (most recent call last)",
            "Cell \u001b[0;32mIn[62], line 1\u001b[0m\n\u001b[0;32m----> 1\u001b[0m \u001b[43mprintFullSpectrum\u001b[49m\u001b[43m(\u001b[49m\u001b[38;5;241;43m5\u001b[39;49m\u001b[43m,\u001b[49m\u001b[43m \u001b[49m\u001b[43mHamiltonian\u001b[49m\u001b[43m)\u001b[49m\n",
            "Cell \u001b[0;32mIn[17], line 49\u001b[0m, in \u001b[0;36mprintFullSpectrum\u001b[0;34m(numQubits, Hamiltonian)\u001b[0m\n\u001b[1;32m     47\u001b[0m num \u001b[38;5;241m=\u001b[39m [\u001b[38;5;28mint\u001b[39m(b) \u001b[38;5;28;01mfor\u001b[39;00m b \u001b[38;5;129;01min\u001b[39;00m \u001b[38;5;28mlist\u001b[39m(\u001b[38;5;28mbin\u001b[39m(n)[\u001b[38;5;241m2\u001b[39m:])]\n\u001b[1;32m     48\u001b[0m state \u001b[38;5;241m=\u001b[39m [\u001b[38;5;241m0\u001b[39m]\u001b[38;5;241m*\u001b[39m(numQubits \u001b[38;5;241m-\u001b[39m \u001b[38;5;28mlen\u001b[39m(num)) \u001b[38;5;241m+\u001b[39m num\n\u001b[0;32m---> 49\u001b[0m \u001b[38;5;28mprint\u001b[39m(state, \u001b[43mHamiltonian\u001b[49m\u001b[43m(\u001b[49m\u001b[43mstate\u001b[49m\u001b[43m)\u001b[49m)\n",
            "Cell \u001b[0;32mIn[61], line 8\u001b[0m, in \u001b[0;36mHamiltonian\u001b[0;34m(state)\u001b[0m\n\u001b[0;32m----> 8\u001b[0m \u001b[38;5;28;01mdef\u001b[39;00m \u001b[38;5;21mHamiltonian\u001b[39m(state): \u001b[38;5;28;01mreturn\u001b[39;00m \u001b[43mPortfolioOptimization\u001b[49m\u001b[43m(\u001b[49m\u001b[43mstate\u001b[49m\u001b[43m,\u001b[49m\u001b[43m \u001b[49m\u001b[43mexpectedReturn\u001b[49m\u001b[43m,\u001b[49m\u001b[43m \u001b[49m\u001b[43mcost\u001b[49m\u001b[43m,\u001b[49m\u001b[43m \u001b[49m\u001b[43mbudget\u001b[49m\u001b[43m,\u001b[49m\u001b[43m \u001b[49m\u001b[43mcovariance\u001b[49m\u001b[43m)\u001b[49m\n",
            "Cell \u001b[0;32mIn[56], line 22\u001b[0m, in \u001b[0;36mPortfolioOptimization\u001b[0;34m(state, expectedReturn, cost, budget, covariance)\u001b[0m\n\u001b[1;32m     20\u001b[0m n \u001b[38;5;241m=\u001b[39m \u001b[38;5;28mlen\u001b[39m(expectedReturn)\n\u001b[1;32m     21\u001b[0m penalty \u001b[38;5;241m=\u001b[39m \u001b[38;5;28msum\u001b[39m(expectedReturn)\u001b[38;5;241m/\u001b[39mbudget\u001b[38;5;241m*\u001b[39m\u001b[38;5;241m*\u001b[39m\u001b[38;5;241m2\u001b[39m \u001b[38;5;241m*\u001b[39m \u001b[38;5;241m15\u001b[39m\n\u001b[0;32m---> 22\u001b[0m riskPenalty \u001b[38;5;241m=\u001b[39m \u001b[38;5;241m5\u001b[39m\u001b[38;5;241m/\u001b[39m\u001b[38;5;28;43msum\u001b[39;49m\u001b[43m(\u001b[49m\u001b[38;5;28;43msum\u001b[39;49m\u001b[43m(\u001b[49m\u001b[43mcovariance\u001b[49m\u001b[43m[\u001b[49m\u001b[43mi\u001b[49m\u001b[43m]\u001b[49m\u001b[43m[\u001b[49m\u001b[43mj\u001b[49m\u001b[43m]\u001b[49m\u001b[43m \u001b[49m\u001b[38;5;28;43;01mfor\u001b[39;49;00m\u001b[43m \u001b[49m\u001b[43mj\u001b[49m\u001b[43m \u001b[49m\u001b[38;5;129;43;01min\u001b[39;49;00m\u001b[43m \u001b[49m\u001b[38;5;28;43mrange\u001b[39;49m\u001b[43m(\u001b[49m\u001b[43mn\u001b[49m\u001b[43m)\u001b[49m\u001b[43m \u001b[49m\u001b[38;5;28;43;01mfor\u001b[39;49;00m\u001b[43m \u001b[49m\u001b[43mi\u001b[49m\u001b[43m \u001b[49m\u001b[38;5;129;43;01min\u001b[39;49;00m\u001b[43m \u001b[49m\u001b[38;5;28;43mrange\u001b[39;49m\u001b[43m(\u001b[49m\u001b[43mn\u001b[49m\u001b[43m)\u001b[49m\u001b[43m)\u001b[49m\u001b[43m)\u001b[49m\n\u001b[1;32m     24\u001b[0m \u001b[38;5;28;01mreturn\u001b[39;00m \u001b[38;5;241m-\u001b[39m\u001b[38;5;241m1\u001b[39m\u001b[38;5;241m*\u001b[39m\u001b[38;5;28msum\u001b[39m(expectedReturn[i]\u001b[38;5;241m*\u001b[39mstate[i] \u001b[38;5;28;01mfor\u001b[39;00m i \u001b[38;5;129;01min\u001b[39;00m \u001b[38;5;28mrange\u001b[39m(n)) \u001b[38;5;241m+\u001b[39m penalty \u001b[38;5;241m*\u001b[39m (\u001b[38;5;28msum\u001b[39m(cost[i]\u001b[38;5;241m*\u001b[39mstate[i] \u001b[38;5;28;01mfor\u001b[39;00m i \u001b[38;5;129;01min\u001b[39;00m \u001b[38;5;28mrange\u001b[39m(n)) \u001b[38;5;241m-\u001b[39m budget)\u001b[38;5;241m*\u001b[39m\u001b[38;5;241m*\u001b[39m\u001b[38;5;241m2\u001b[39m \u001b[38;5;241m+\u001b[39m riskPenalty \u001b[38;5;241m*\u001b[39m \u001b[38;5;28msum\u001b[39m(\u001b[38;5;28msum\u001b[39m(covariance[i][j] \u001b[38;5;241m*\u001b[39m state[i] \u001b[38;5;241m*\u001b[39m state[j] \u001b[38;5;28;01mfor\u001b[39;00m j \u001b[38;5;129;01min\u001b[39;00m \u001b[38;5;28mrange\u001b[39m(n)) \u001b[38;5;28;01mfor\u001b[39;00m i \u001b[38;5;129;01min\u001b[39;00m \u001b[38;5;28mrange\u001b[39m(n))\n",
            "\u001b[0;31mTypeError\u001b[0m: 'float' object is not iterable"
          ]
        }
      ],
      "execution_count": 62,
      "metadata": {
        "id": "dXhiddmAksh6"
      }
    },
    {
      "cell_type": "markdown",
      "source": [
        "#### **2. Run VQE for the problem.**"
      ],
      "metadata": {
        "nteract": {
          "transient": {
            "deleting": false
          }
        },
        "id": "iPx__5svksh6"
      }
    },
    {
      "cell_type": "code",
      "source": [
        "result = VQE(5, Hamiltonian)"
      ],
      "outputs": [
        {
          "output_type": "error",
          "ename": "TypeError",
          "evalue": "'float' object is not iterable",
          "traceback": [
            "\u001b[0;31m---------------------------------------------------------------------------\u001b[0m",
            "\u001b[0;31mTypeError\u001b[0m                                 Traceback (most recent call last)",
            "Cell \u001b[0;32mIn[63], line 1\u001b[0m\n\u001b[0;32m----> 1\u001b[0m result \u001b[38;5;241m=\u001b[39m \u001b[43mVQE\u001b[49m\u001b[43m(\u001b[49m\u001b[38;5;241;43m5\u001b[39;49m\u001b[43m,\u001b[49m\u001b[43m \u001b[49m\u001b[43mHamiltonian\u001b[49m\u001b[43m)\u001b[49m\n",
            "Cell \u001b[0;32mIn[24], line 5\u001b[0m, in \u001b[0;36mVQE\u001b[0;34m(numQubits, Hamiltonian)\u001b[0m\n\u001b[1;32m      1\u001b[0m \u001b[38;5;28;01mdef\u001b[39;00m \u001b[38;5;21mVQE\u001b[39m(numQubits, Hamiltonian): \n\u001b[1;32m      3\u001b[0m     parameters \u001b[38;5;241m=\u001b[39m [\u001b[38;5;241m1\u001b[39m \u001b[38;5;241m/\u001b[39m \u001b[38;5;241m2\u001b[39m\u001b[38;5;241m*\u001b[39m\u001b[38;5;241m*\u001b[39mnumQubits] \u001b[38;5;241m*\u001b[39m (\u001b[38;5;241m2\u001b[39m\u001b[38;5;241m*\u001b[39m\u001b[38;5;241m*\u001b[39mnumQubits)\n\u001b[0;32m----> 5\u001b[0m     \u001b[38;5;28;01mreturn\u001b[39;00m \u001b[43mminimize\u001b[49m\u001b[43m(\u001b[49m\u001b[43maverageEnergy\u001b[49m\u001b[43m,\u001b[49m\u001b[43m \u001b[49m\u001b[43mparameters\u001b[49m\u001b[43m,\u001b[49m\u001b[43m \u001b[49m\u001b[43margs\u001b[49m\u001b[43m \u001b[49m\u001b[38;5;241;43m=\u001b[39;49m\u001b[43m \u001b[49m\u001b[43m(\u001b[49m\u001b[43mnumQubits\u001b[49m\u001b[43m,\u001b[49m\u001b[43m \u001b[49m\u001b[43mHamiltonian\u001b[49m\u001b[43m)\u001b[49m\u001b[43m,\u001b[49m\u001b[43m \u001b[49m\u001b[43mmethod\u001b[49m\u001b[43m \u001b[49m\u001b[38;5;241;43m=\u001b[39;49m\u001b[43m \u001b[49m\u001b[38;5;124;43m\"\u001b[39;49m\u001b[38;5;124;43mSLSQP\u001b[39;49m\u001b[38;5;124;43m\"\u001b[39;49m\u001b[43m)\u001b[49m\n",
            "File \u001b[0;32m/usr/local/lib/python3.9/site-packages/scipy/optimize/_minimize.py:705\u001b[0m, in \u001b[0;36mminimize\u001b[0;34m(fun, x0, args, method, jac, hess, hessp, bounds, constraints, tol, callback, options)\u001b[0m\n\u001b[1;32m    702\u001b[0m     res \u001b[38;5;241m=\u001b[39m _minimize_cobyla(fun, x0, args, constraints, callback\u001b[38;5;241m=\u001b[39mcallback,\n\u001b[1;32m    703\u001b[0m                             \u001b[38;5;241m*\u001b[39m\u001b[38;5;241m*\u001b[39moptions)\n\u001b[1;32m    704\u001b[0m \u001b[38;5;28;01melif\u001b[39;00m meth \u001b[38;5;241m==\u001b[39m \u001b[38;5;124m'\u001b[39m\u001b[38;5;124mslsqp\u001b[39m\u001b[38;5;124m'\u001b[39m:\n\u001b[0;32m--> 705\u001b[0m     res \u001b[38;5;241m=\u001b[39m \u001b[43m_minimize_slsqp\u001b[49m\u001b[43m(\u001b[49m\u001b[43mfun\u001b[49m\u001b[43m,\u001b[49m\u001b[43m \u001b[49m\u001b[43mx0\u001b[49m\u001b[43m,\u001b[49m\u001b[43m \u001b[49m\u001b[43margs\u001b[49m\u001b[43m,\u001b[49m\u001b[43m \u001b[49m\u001b[43mjac\u001b[49m\u001b[43m,\u001b[49m\u001b[43m \u001b[49m\u001b[43mbounds\u001b[49m\u001b[43m,\u001b[49m\n\u001b[1;32m    706\u001b[0m \u001b[43m                          \u001b[49m\u001b[43mconstraints\u001b[49m\u001b[43m,\u001b[49m\u001b[43m \u001b[49m\u001b[43mcallback\u001b[49m\u001b[38;5;241;43m=\u001b[39;49m\u001b[43mcallback\u001b[49m\u001b[43m,\u001b[49m\u001b[43m \u001b[49m\u001b[38;5;241;43m*\u001b[39;49m\u001b[38;5;241;43m*\u001b[39;49m\u001b[43moptions\u001b[49m\u001b[43m)\u001b[49m\n\u001b[1;32m    707\u001b[0m \u001b[38;5;28;01melif\u001b[39;00m meth \u001b[38;5;241m==\u001b[39m \u001b[38;5;124m'\u001b[39m\u001b[38;5;124mtrust-constr\u001b[39m\u001b[38;5;124m'\u001b[39m:\n\u001b[1;32m    708\u001b[0m     res \u001b[38;5;241m=\u001b[39m _minimize_trustregion_constr(fun, x0, args, jac, hess, hessp,\n\u001b[1;32m    709\u001b[0m                                        bounds, constraints,\n\u001b[1;32m    710\u001b[0m                                        callback\u001b[38;5;241m=\u001b[39mcallback, \u001b[38;5;241m*\u001b[39m\u001b[38;5;241m*\u001b[39moptions)\n",
            "File \u001b[0;32m/usr/local/lib/python3.9/site-packages/scipy/optimize/_slsqp_py.py:374\u001b[0m, in \u001b[0;36m_minimize_slsqp\u001b[0;34m(func, x0, args, jac, bounds, constraints, maxiter, ftol, iprint, disp, eps, callback, finite_diff_rel_step, **unknown_options)\u001b[0m\n\u001b[1;32m    371\u001b[0m     xu[infbnd[:, \u001b[38;5;241m1\u001b[39m]] \u001b[38;5;241m=\u001b[39m np\u001b[38;5;241m.\u001b[39mnan\n\u001b[1;32m    373\u001b[0m \u001b[38;5;66;03m# ScalarFunction provides function and gradient evaluation\u001b[39;00m\n\u001b[0;32m--> 374\u001b[0m sf \u001b[38;5;241m=\u001b[39m \u001b[43m_prepare_scalar_function\u001b[49m\u001b[43m(\u001b[49m\u001b[43mfunc\u001b[49m\u001b[43m,\u001b[49m\u001b[43m \u001b[49m\u001b[43mx\u001b[49m\u001b[43m,\u001b[49m\u001b[43m \u001b[49m\u001b[43mjac\u001b[49m\u001b[38;5;241;43m=\u001b[39;49m\u001b[43mjac\u001b[49m\u001b[43m,\u001b[49m\u001b[43m \u001b[49m\u001b[43margs\u001b[49m\u001b[38;5;241;43m=\u001b[39;49m\u001b[43margs\u001b[49m\u001b[43m,\u001b[49m\u001b[43m \u001b[49m\u001b[43mepsilon\u001b[49m\u001b[38;5;241;43m=\u001b[39;49m\u001b[43meps\u001b[49m\u001b[43m,\u001b[49m\n\u001b[1;32m    375\u001b[0m \u001b[43m                              \u001b[49m\u001b[43mfinite_diff_rel_step\u001b[49m\u001b[38;5;241;43m=\u001b[39;49m\u001b[43mfinite_diff_rel_step\u001b[49m\u001b[43m,\u001b[49m\n\u001b[1;32m    376\u001b[0m \u001b[43m                              \u001b[49m\u001b[43mbounds\u001b[49m\u001b[38;5;241;43m=\u001b[39;49m\u001b[43mnew_bounds\u001b[49m\u001b[43m)\u001b[49m\n\u001b[1;32m    377\u001b[0m \u001b[38;5;66;03m# gh11403 SLSQP sometimes exceeds bounds by 1 or 2 ULP, make sure this\u001b[39;00m\n\u001b[1;32m    378\u001b[0m \u001b[38;5;66;03m# doesn't get sent to the func/grad evaluator.\u001b[39;00m\n\u001b[1;32m    379\u001b[0m wrapped_fun \u001b[38;5;241m=\u001b[39m _clip_x_for_func(sf\u001b[38;5;241m.\u001b[39mfun, new_bounds)\n",
            "File \u001b[0;32m/usr/local/lib/python3.9/site-packages/scipy/optimize/_optimize.py:332\u001b[0m, in \u001b[0;36m_prepare_scalar_function\u001b[0;34m(fun, x0, jac, args, bounds, epsilon, finite_diff_rel_step, hess)\u001b[0m\n\u001b[1;32m    328\u001b[0m     bounds \u001b[38;5;241m=\u001b[39m (\u001b[38;5;241m-\u001b[39mnp\u001b[38;5;241m.\u001b[39minf, np\u001b[38;5;241m.\u001b[39minf)\n\u001b[1;32m    330\u001b[0m \u001b[38;5;66;03m# ScalarFunction caches. Reuse of fun(x) during grad\u001b[39;00m\n\u001b[1;32m    331\u001b[0m \u001b[38;5;66;03m# calculation reduces overall function evaluations.\u001b[39;00m\n\u001b[0;32m--> 332\u001b[0m sf \u001b[38;5;241m=\u001b[39m \u001b[43mScalarFunction\u001b[49m\u001b[43m(\u001b[49m\u001b[43mfun\u001b[49m\u001b[43m,\u001b[49m\u001b[43m \u001b[49m\u001b[43mx0\u001b[49m\u001b[43m,\u001b[49m\u001b[43m \u001b[49m\u001b[43margs\u001b[49m\u001b[43m,\u001b[49m\u001b[43m \u001b[49m\u001b[43mgrad\u001b[49m\u001b[43m,\u001b[49m\u001b[43m \u001b[49m\u001b[43mhess\u001b[49m\u001b[43m,\u001b[49m\n\u001b[1;32m    333\u001b[0m \u001b[43m                    \u001b[49m\u001b[43mfinite_diff_rel_step\u001b[49m\u001b[43m,\u001b[49m\u001b[43m \u001b[49m\u001b[43mbounds\u001b[49m\u001b[43m,\u001b[49m\u001b[43m \u001b[49m\u001b[43mepsilon\u001b[49m\u001b[38;5;241;43m=\u001b[39;49m\u001b[43mepsilon\u001b[49m\u001b[43m)\u001b[49m\n\u001b[1;32m    335\u001b[0m \u001b[38;5;28;01mreturn\u001b[39;00m sf\n",
            "File \u001b[0;32m/usr/local/lib/python3.9/site-packages/scipy/optimize/_differentiable_functions.py:158\u001b[0m, in \u001b[0;36mScalarFunction.__init__\u001b[0;34m(self, fun, x0, args, grad, hess, finite_diff_rel_step, finite_diff_bounds, epsilon)\u001b[0m\n\u001b[1;32m    155\u001b[0m     \u001b[38;5;28mself\u001b[39m\u001b[38;5;241m.\u001b[39mf \u001b[38;5;241m=\u001b[39m fun_wrapped(\u001b[38;5;28mself\u001b[39m\u001b[38;5;241m.\u001b[39mx)\n\u001b[1;32m    157\u001b[0m \u001b[38;5;28mself\u001b[39m\u001b[38;5;241m.\u001b[39m_update_fun_impl \u001b[38;5;241m=\u001b[39m update_fun\n\u001b[0;32m--> 158\u001b[0m \u001b[38;5;28;43mself\u001b[39;49m\u001b[38;5;241;43m.\u001b[39;49m\u001b[43m_update_fun\u001b[49m\u001b[43m(\u001b[49m\u001b[43m)\u001b[49m\n\u001b[1;32m    160\u001b[0m \u001b[38;5;66;03m# Gradient evaluation\u001b[39;00m\n\u001b[1;32m    161\u001b[0m \u001b[38;5;28;01mif\u001b[39;00m callable(grad):\n",
            "File \u001b[0;32m/usr/local/lib/python3.9/site-packages/scipy/optimize/_differentiable_functions.py:251\u001b[0m, in \u001b[0;36mScalarFunction._update_fun\u001b[0;34m(self)\u001b[0m\n\u001b[1;32m    249\u001b[0m \u001b[38;5;28;01mdef\u001b[39;00m \u001b[38;5;21m_update_fun\u001b[39m(\u001b[38;5;28mself\u001b[39m):\n\u001b[1;32m    250\u001b[0m     \u001b[38;5;28;01mif\u001b[39;00m \u001b[38;5;129;01mnot\u001b[39;00m \u001b[38;5;28mself\u001b[39m\u001b[38;5;241m.\u001b[39mf_updated:\n\u001b[0;32m--> 251\u001b[0m         \u001b[38;5;28;43mself\u001b[39;49m\u001b[38;5;241;43m.\u001b[39;49m\u001b[43m_update_fun_impl\u001b[49m\u001b[43m(\u001b[49m\u001b[43m)\u001b[49m\n\u001b[1;32m    252\u001b[0m         \u001b[38;5;28mself\u001b[39m\u001b[38;5;241m.\u001b[39mf_updated \u001b[38;5;241m=\u001b[39m \u001b[38;5;28;01mTrue\u001b[39;00m\n",
            "File \u001b[0;32m/usr/local/lib/python3.9/site-packages/scipy/optimize/_differentiable_functions.py:155\u001b[0m, in \u001b[0;36mScalarFunction.__init__.<locals>.update_fun\u001b[0;34m()\u001b[0m\n\u001b[1;32m    154\u001b[0m \u001b[38;5;28;01mdef\u001b[39;00m \u001b[38;5;21mupdate_fun\u001b[39m():\n\u001b[0;32m--> 155\u001b[0m     \u001b[38;5;28mself\u001b[39m\u001b[38;5;241m.\u001b[39mf \u001b[38;5;241m=\u001b[39m \u001b[43mfun_wrapped\u001b[49m\u001b[43m(\u001b[49m\u001b[38;5;28;43mself\u001b[39;49m\u001b[38;5;241;43m.\u001b[39;49m\u001b[43mx\u001b[49m\u001b[43m)\u001b[49m\n",
            "File \u001b[0;32m/usr/local/lib/python3.9/site-packages/scipy/optimize/_differentiable_functions.py:137\u001b[0m, in \u001b[0;36mScalarFunction.__init__.<locals>.fun_wrapped\u001b[0;34m(x)\u001b[0m\n\u001b[1;32m    133\u001b[0m \u001b[38;5;28mself\u001b[39m\u001b[38;5;241m.\u001b[39mnfev \u001b[38;5;241m+\u001b[39m\u001b[38;5;241m=\u001b[39m \u001b[38;5;241m1\u001b[39m\n\u001b[1;32m    134\u001b[0m \u001b[38;5;66;03m# Send a copy because the user may overwrite it.\u001b[39;00m\n\u001b[1;32m    135\u001b[0m \u001b[38;5;66;03m# Overwriting results in undefined behaviour because\u001b[39;00m\n\u001b[1;32m    136\u001b[0m \u001b[38;5;66;03m# fun(self.x) will change self.x, with the two no longer linked.\u001b[39;00m\n\u001b[0;32m--> 137\u001b[0m fx \u001b[38;5;241m=\u001b[39m \u001b[43mfun\u001b[49m\u001b[43m(\u001b[49m\u001b[43mnp\u001b[49m\u001b[38;5;241;43m.\u001b[39;49m\u001b[43mcopy\u001b[49m\u001b[43m(\u001b[49m\u001b[43mx\u001b[49m\u001b[43m)\u001b[49m\u001b[43m,\u001b[49m\u001b[43m \u001b[49m\u001b[38;5;241;43m*\u001b[39;49m\u001b[43margs\u001b[49m\u001b[43m)\u001b[49m\n\u001b[1;32m    138\u001b[0m \u001b[38;5;66;03m# Make sure the function returns a true scalar\u001b[39;00m\n\u001b[1;32m    139\u001b[0m \u001b[38;5;28;01mif\u001b[39;00m \u001b[38;5;129;01mnot\u001b[39;00m np\u001b[38;5;241m.\u001b[39misscalar(fx):\n",
            "Cell \u001b[0;32mIn[52], line 11\u001b[0m, in \u001b[0;36maverageEnergy\u001b[0;34m(parameters, numQubits, Hamiltonian, shots)\u001b[0m\n\u001b[1;32m      9\u001b[0m \u001b[38;5;28;01mfor\u001b[39;00m bits \u001b[38;5;129;01min\u001b[39;00m results\u001b[38;5;241m.\u001b[39mkeys():\n\u001b[1;32m     10\u001b[0m     state \u001b[38;5;241m=\u001b[39m json\u001b[38;5;241m.\u001b[39mloads(bits)\n\u001b[0;32m---> 11\u001b[0m     averageEnergy \u001b[38;5;241m+\u001b[39m\u001b[38;5;241m=\u001b[39m \u001b[43mHamiltonian\u001b[49m\u001b[43m(\u001b[49m\u001b[43mstate\u001b[49m\u001b[43m)\u001b[49m \u001b[38;5;241m*\u001b[39m results[bits]\n\u001b[1;32m     13\u001b[0m \u001b[38;5;28;01mreturn\u001b[39;00m averageEnergy\n",
            "Cell \u001b[0;32mIn[61], line 8\u001b[0m, in \u001b[0;36mHamiltonian\u001b[0;34m(state)\u001b[0m\n\u001b[0;32m----> 8\u001b[0m \u001b[38;5;28;01mdef\u001b[39;00m \u001b[38;5;21mHamiltonian\u001b[39m(state): \u001b[38;5;28;01mreturn\u001b[39;00m \u001b[43mPortfolioOptimization\u001b[49m\u001b[43m(\u001b[49m\u001b[43mstate\u001b[49m\u001b[43m,\u001b[49m\u001b[43m \u001b[49m\u001b[43mexpectedReturn\u001b[49m\u001b[43m,\u001b[49m\u001b[43m \u001b[49m\u001b[43mcost\u001b[49m\u001b[43m,\u001b[49m\u001b[43m \u001b[49m\u001b[43mbudget\u001b[49m\u001b[43m,\u001b[49m\u001b[43m \u001b[49m\u001b[43mcovariance\u001b[49m\u001b[43m)\u001b[49m\n",
            "Cell \u001b[0;32mIn[56], line 22\u001b[0m, in \u001b[0;36mPortfolioOptimization\u001b[0;34m(state, expectedReturn, cost, budget, covariance)\u001b[0m\n\u001b[1;32m     20\u001b[0m n \u001b[38;5;241m=\u001b[39m \u001b[38;5;28mlen\u001b[39m(expectedReturn)\n\u001b[1;32m     21\u001b[0m penalty \u001b[38;5;241m=\u001b[39m \u001b[38;5;28msum\u001b[39m(expectedReturn)\u001b[38;5;241m/\u001b[39mbudget\u001b[38;5;241m*\u001b[39m\u001b[38;5;241m*\u001b[39m\u001b[38;5;241m2\u001b[39m \u001b[38;5;241m*\u001b[39m \u001b[38;5;241m15\u001b[39m\n\u001b[0;32m---> 22\u001b[0m riskPenalty \u001b[38;5;241m=\u001b[39m \u001b[38;5;241m5\u001b[39m\u001b[38;5;241m/\u001b[39m\u001b[38;5;28;43msum\u001b[39;49m\u001b[43m(\u001b[49m\u001b[38;5;28;43msum\u001b[39;49m\u001b[43m(\u001b[49m\u001b[43mcovariance\u001b[49m\u001b[43m[\u001b[49m\u001b[43mi\u001b[49m\u001b[43m]\u001b[49m\u001b[43m[\u001b[49m\u001b[43mj\u001b[49m\u001b[43m]\u001b[49m\u001b[43m \u001b[49m\u001b[38;5;28;43;01mfor\u001b[39;49;00m\u001b[43m \u001b[49m\u001b[43mj\u001b[49m\u001b[43m \u001b[49m\u001b[38;5;129;43;01min\u001b[39;49;00m\u001b[43m \u001b[49m\u001b[38;5;28;43mrange\u001b[39;49m\u001b[43m(\u001b[49m\u001b[43mn\u001b[49m\u001b[43m)\u001b[49m\u001b[43m \u001b[49m\u001b[38;5;28;43;01mfor\u001b[39;49;00m\u001b[43m \u001b[49m\u001b[43mi\u001b[49m\u001b[43m \u001b[49m\u001b[38;5;129;43;01min\u001b[39;49;00m\u001b[43m \u001b[49m\u001b[38;5;28;43mrange\u001b[39;49m\u001b[43m(\u001b[49m\u001b[43mn\u001b[49m\u001b[43m)\u001b[49m\u001b[43m)\u001b[49m\u001b[43m)\u001b[49m\n\u001b[1;32m     24\u001b[0m \u001b[38;5;28;01mreturn\u001b[39;00m \u001b[38;5;241m-\u001b[39m\u001b[38;5;241m1\u001b[39m\u001b[38;5;241m*\u001b[39m\u001b[38;5;28msum\u001b[39m(expectedReturn[i]\u001b[38;5;241m*\u001b[39mstate[i] \u001b[38;5;28;01mfor\u001b[39;00m i \u001b[38;5;129;01min\u001b[39;00m \u001b[38;5;28mrange\u001b[39m(n)) \u001b[38;5;241m+\u001b[39m penalty \u001b[38;5;241m*\u001b[39m (\u001b[38;5;28msum\u001b[39m(cost[i]\u001b[38;5;241m*\u001b[39mstate[i] \u001b[38;5;28;01mfor\u001b[39;00m i \u001b[38;5;129;01min\u001b[39;00m \u001b[38;5;28mrange\u001b[39m(n)) \u001b[38;5;241m-\u001b[39m budget)\u001b[38;5;241m*\u001b[39m\u001b[38;5;241m*\u001b[39m\u001b[38;5;241m2\u001b[39m \u001b[38;5;241m+\u001b[39m riskPenalty \u001b[38;5;241m*\u001b[39m \u001b[38;5;28msum\u001b[39m(\u001b[38;5;28msum\u001b[39m(covariance[i][j] \u001b[38;5;241m*\u001b[39m state[i] \u001b[38;5;241m*\u001b[39m state[j] \u001b[38;5;28;01mfor\u001b[39;00m j \u001b[38;5;129;01min\u001b[39;00m \u001b[38;5;28mrange\u001b[39m(n)) \u001b[38;5;28;01mfor\u001b[39;00m i \u001b[38;5;129;01min\u001b[39;00m \u001b[38;5;28mrange\u001b[39m(n))\n",
            "\u001b[0;31mTypeError\u001b[0m: 'float' object is not iterable"
          ]
        }
      ],
      "execution_count": 63,
      "metadata": {
        "jupyter": {
          "source_hidden": false,
          "outputs_hidden": false
        },
        "nteract": {
          "transient": {
            "deleting": false
          }
        },
        "id": "tHLCZxpuxaG_"
      }
    },
    {
      "cell_type": "markdown",
      "source": [
        "#### **3. Examine the results.**"
      ],
      "metadata": {
        "nteract": {
          "transient": {
            "deleting": false
          }
        },
        "id": "kzBmaYHOksh6"
      }
    },
    {
      "cell_type": "code",
      "source": [
        "print(result)\n",
        "results = localSimulator(MeasureTrialState, result.x, 5, 1000)\n",
        "\n",
        "plt.bar(results.keys(), results.values())\n",
        "\n",
        "plt.title(\"Result\")\n",
        "plt.xlabel(\"Measurement\")\n",
        "plt.ylabel(\"Probability\")\n",
        "\n",
        "plt.xticks(rotation = 90)\n",
        "\n",
        "plt.show()"
      ],
      "outputs": [
        {
          "output_type": "stream",
          "name": "stdout",
          "text": " message: Optimization terminated successfully\n success: True\n  status: 0\n     fun: 83.01249999999999\n       x: [ 1.382e+10 -5.639e+09 ... -1.410e+09 -1.126e+09]\n     nit: 16\n     jac: [ 1.044e-01 -1.303e-01 ... -4.524e-01 -2.011e+00]\n    nfev: 411\n    njev: 16\n"
        },
        {
          "output_type": "display_data",
          "data": {
            "text/plain": "<Figure size 640x480 with 1 Axes>",
            "image/png": "[encoded data removed]"
          },
          "metadata": {}
        }
      ],
      "execution_count": 64,
      "metadata": {
        "id": "wIp1qHluksh6"
      }
    },
    {
      "cell_type": "markdown",
      "source": [
        "# End of Notebook\n",
        "---\n",
        "© 2023 The Coding School, All rights reserved"
      ],
      "metadata": {
        "id": "EdHqE9-nlEnh"
      }
    }
  ],
  "metadata": {
    "language_info": {
      "name": "python",
      "version": "3.9.16",
      "mimetype": "text/x-python",
      "codemirror_mode": {
        "name": "ipython",
        "version": 3
      },
      "pygments_lexer": "ipython3",
      "nbconvert_exporter": "python",
      "file_extension": ".py"
    },
    "kernelspec": {
      "name": "python3",
      "language": "python",
      "display_name": "Python 3 (ipykernel)"
    },
    "kernel_info": {
      "name": "python3"
    },
    "nteract": {
      "version": "nteract-front-end@1.0.0"
    },
    "colab": {
      "provenance": []
    }
  },
  "nbformat": 4,
  "nbformat_minor": 0
}